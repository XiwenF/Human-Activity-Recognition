{
  "cells": [
    {
      "cell_type": "markdown",
      "metadata": {
        "id": "Y-wePfkc-bwY"
      },
      "source": [
        "**Import** **Module** **and data**"
      ]
    },
    {
      "cell_type": "code",
      "execution_count": 3,
      "metadata": {
        "colab": {
          "base_uri": "https://localhost:8080/",
          "height": 317
        },
        "id": "9T2oRaTPnim8",
        "outputId": "b8233bad-c08b-4269-e430-d3ab653d61a0"
      },
      "outputs": [
        {
          "output_type": "execute_result",
          "data": {
            "text/plain": [
              "   Unnamed: 0       V1        V2           V3            V4            V5  \\\n",
              "0           1  subject  activity           F1            F2            F3   \n",
              "1           2        1         5  0.043579674  -0.005970221  -0.035054344   \n",
              "2           3        1         5  0.039480037  -0.002131276  -0.029067362   \n",
              "3           4        1         5  0.039977781  -0.005152716  -0.022650708   \n",
              "4           5        1         5  0.039784558  -0.011808778  -0.028915779   \n",
              "\n",
              "             V6            V7            V8            V9  ...          V554  \\\n",
              "0            F4            F5            F6            F7  ...          F552   \n",
              "1   -0.99538116  -0.988365863  -0.937382005  -0.995007045  ...  -0.012235894   \n",
              "2  -0.998347999  -0.982944945  -0.971272882  -0.998701962  ...   0.202803809   \n",
              "3  -0.995482127  -0.977313843  -0.984759524  -0.996414838  ...   0.440079356   \n",
              "4    -0.9961941  -0.988568594  -0.993255602  -0.996994335  ...    0.43089077   \n",
              "\n",
              "           V555          V556          V557          V558          V559  \\\n",
              "0          F553          F554          F555          F556          F557   \n",
              "1  -0.314848353  -0.713307812  -0.112754341   0.030400372  -0.464761386   \n",
              "2  -0.603199224  -0.860676901   0.053476955  -0.007434566   -0.73262621   \n",
              "3   -0.40442749  -0.761847228  -0.118559255   0.177899475   0.100699208   \n",
              "4   -0.13837282  -0.491604347  -0.036787973  -0.012892494   0.640011043   \n",
              "\n",
              "           V560          V561         V562          V563  \n",
              "0          F558          F559         F560          F561  \n",
              "1  -0.018445884  -0.841558511  0.179912811  -0.051718416  \n",
              "2   0.703510588  -0.845092399   0.18026111  -0.047436337  \n",
              "3   0.808529075  -0.849230131  0.180609558  -0.042271363  \n",
              "4  -0.485366445  -0.848946592  0.181907092  -0.040826223  \n",
              "\n",
              "[5 rows x 564 columns]"
            ],
            "text/html": [
              "\n",
              "  <div id=\"df-6e655349-0687-46e9-9f2d-2f3757326feb\">\n",
              "    <div class=\"colab-df-container\">\n",
              "      <div>\n",
              "<style scoped>\n",
              "    .dataframe tbody tr th:only-of-type {\n",
              "        vertical-align: middle;\n",
              "    }\n",
              "\n",
              "    .dataframe tbody tr th {\n",
              "        vertical-align: top;\n",
              "    }\n",
              "\n",
              "    .dataframe thead th {\n",
              "        text-align: right;\n",
              "    }\n",
              "</style>\n",
              "<table border=\"1\" class=\"dataframe\">\n",
              "  <thead>\n",
              "    <tr style=\"text-align: right;\">\n",
              "      <th></th>\n",
              "      <th>Unnamed: 0</th>\n",
              "      <th>V1</th>\n",
              "      <th>V2</th>\n",
              "      <th>V3</th>\n",
              "      <th>V4</th>\n",
              "      <th>V5</th>\n",
              "      <th>V6</th>\n",
              "      <th>V7</th>\n",
              "      <th>V8</th>\n",
              "      <th>V9</th>\n",
              "      <th>...</th>\n",
              "      <th>V554</th>\n",
              "      <th>V555</th>\n",
              "      <th>V556</th>\n",
              "      <th>V557</th>\n",
              "      <th>V558</th>\n",
              "      <th>V559</th>\n",
              "      <th>V560</th>\n",
              "      <th>V561</th>\n",
              "      <th>V562</th>\n",
              "      <th>V563</th>\n",
              "    </tr>\n",
              "  </thead>\n",
              "  <tbody>\n",
              "    <tr>\n",
              "      <th>0</th>\n",
              "      <td>1</td>\n",
              "      <td>subject</td>\n",
              "      <td>activity</td>\n",
              "      <td>F1</td>\n",
              "      <td>F2</td>\n",
              "      <td>F3</td>\n",
              "      <td>F4</td>\n",
              "      <td>F5</td>\n",
              "      <td>F6</td>\n",
              "      <td>F7</td>\n",
              "      <td>...</td>\n",
              "      <td>F552</td>\n",
              "      <td>F553</td>\n",
              "      <td>F554</td>\n",
              "      <td>F555</td>\n",
              "      <td>F556</td>\n",
              "      <td>F557</td>\n",
              "      <td>F558</td>\n",
              "      <td>F559</td>\n",
              "      <td>F560</td>\n",
              "      <td>F561</td>\n",
              "    </tr>\n",
              "    <tr>\n",
              "      <th>1</th>\n",
              "      <td>2</td>\n",
              "      <td>1</td>\n",
              "      <td>5</td>\n",
              "      <td>0.043579674</td>\n",
              "      <td>-0.005970221</td>\n",
              "      <td>-0.035054344</td>\n",
              "      <td>-0.99538116</td>\n",
              "      <td>-0.988365863</td>\n",
              "      <td>-0.937382005</td>\n",
              "      <td>-0.995007045</td>\n",
              "      <td>...</td>\n",
              "      <td>-0.012235894</td>\n",
              "      <td>-0.314848353</td>\n",
              "      <td>-0.713307812</td>\n",
              "      <td>-0.112754341</td>\n",
              "      <td>0.030400372</td>\n",
              "      <td>-0.464761386</td>\n",
              "      <td>-0.018445884</td>\n",
              "      <td>-0.841558511</td>\n",
              "      <td>0.179912811</td>\n",
              "      <td>-0.051718416</td>\n",
              "    </tr>\n",
              "    <tr>\n",
              "      <th>2</th>\n",
              "      <td>3</td>\n",
              "      <td>1</td>\n",
              "      <td>5</td>\n",
              "      <td>0.039480037</td>\n",
              "      <td>-0.002131276</td>\n",
              "      <td>-0.029067362</td>\n",
              "      <td>-0.998347999</td>\n",
              "      <td>-0.982944945</td>\n",
              "      <td>-0.971272882</td>\n",
              "      <td>-0.998701962</td>\n",
              "      <td>...</td>\n",
              "      <td>0.202803809</td>\n",
              "      <td>-0.603199224</td>\n",
              "      <td>-0.860676901</td>\n",
              "      <td>0.053476955</td>\n",
              "      <td>-0.007434566</td>\n",
              "      <td>-0.73262621</td>\n",
              "      <td>0.703510588</td>\n",
              "      <td>-0.845092399</td>\n",
              "      <td>0.18026111</td>\n",
              "      <td>-0.047436337</td>\n",
              "    </tr>\n",
              "    <tr>\n",
              "      <th>3</th>\n",
              "      <td>4</td>\n",
              "      <td>1</td>\n",
              "      <td>5</td>\n",
              "      <td>0.039977781</td>\n",
              "      <td>-0.005152716</td>\n",
              "      <td>-0.022650708</td>\n",
              "      <td>-0.995482127</td>\n",
              "      <td>-0.977313843</td>\n",
              "      <td>-0.984759524</td>\n",
              "      <td>-0.996414838</td>\n",
              "      <td>...</td>\n",
              "      <td>0.440079356</td>\n",
              "      <td>-0.40442749</td>\n",
              "      <td>-0.761847228</td>\n",
              "      <td>-0.118559255</td>\n",
              "      <td>0.177899475</td>\n",
              "      <td>0.100699208</td>\n",
              "      <td>0.808529075</td>\n",
              "      <td>-0.849230131</td>\n",
              "      <td>0.180609558</td>\n",
              "      <td>-0.042271363</td>\n",
              "    </tr>\n",
              "    <tr>\n",
              "      <th>4</th>\n",
              "      <td>5</td>\n",
              "      <td>1</td>\n",
              "      <td>5</td>\n",
              "      <td>0.039784558</td>\n",
              "      <td>-0.011808778</td>\n",
              "      <td>-0.028915779</td>\n",
              "      <td>-0.9961941</td>\n",
              "      <td>-0.988568594</td>\n",
              "      <td>-0.993255602</td>\n",
              "      <td>-0.996994335</td>\n",
              "      <td>...</td>\n",
              "      <td>0.43089077</td>\n",
              "      <td>-0.13837282</td>\n",
              "      <td>-0.491604347</td>\n",
              "      <td>-0.036787973</td>\n",
              "      <td>-0.012892494</td>\n",
              "      <td>0.640011043</td>\n",
              "      <td>-0.485366445</td>\n",
              "      <td>-0.848946592</td>\n",
              "      <td>0.181907092</td>\n",
              "      <td>-0.040826223</td>\n",
              "    </tr>\n",
              "  </tbody>\n",
              "</table>\n",
              "<p>5 rows × 564 columns</p>\n",
              "</div>\n",
              "      <button class=\"colab-df-convert\" onclick=\"convertToInteractive('df-6e655349-0687-46e9-9f2d-2f3757326feb')\"\n",
              "              title=\"Convert this dataframe to an interactive table.\"\n",
              "              style=\"display:none;\">\n",
              "        \n",
              "  <svg xmlns=\"http://www.w3.org/2000/svg\" height=\"24px\"viewBox=\"0 0 24 24\"\n",
              "       width=\"24px\">\n",
              "    <path d=\"M0 0h24v24H0V0z\" fill=\"none\"/>\n",
              "    <path d=\"M18.56 5.44l.94 2.06.94-2.06 2.06-.94-2.06-.94-.94-2.06-.94 2.06-2.06.94zm-11 1L8.5 8.5l.94-2.06 2.06-.94-2.06-.94L8.5 2.5l-.94 2.06-2.06.94zm10 10l.94 2.06.94-2.06 2.06-.94-2.06-.94-.94-2.06-.94 2.06-2.06.94z\"/><path d=\"M17.41 7.96l-1.37-1.37c-.4-.4-.92-.59-1.43-.59-.52 0-1.04.2-1.43.59L10.3 9.45l-7.72 7.72c-.78.78-.78 2.05 0 2.83L4 21.41c.39.39.9.59 1.41.59.51 0 1.02-.2 1.41-.59l7.78-7.78 2.81-2.81c.8-.78.8-2.07 0-2.86zM5.41 20L4 18.59l7.72-7.72 1.47 1.35L5.41 20z\"/>\n",
              "  </svg>\n",
              "      </button>\n",
              "      \n",
              "  <style>\n",
              "    .colab-df-container {\n",
              "      display:flex;\n",
              "      flex-wrap:wrap;\n",
              "      gap: 12px;\n",
              "    }\n",
              "\n",
              "    .colab-df-convert {\n",
              "      background-color: #E8F0FE;\n",
              "      border: none;\n",
              "      border-radius: 50%;\n",
              "      cursor: pointer;\n",
              "      display: none;\n",
              "      fill: #1967D2;\n",
              "      height: 32px;\n",
              "      padding: 0 0 0 0;\n",
              "      width: 32px;\n",
              "    }\n",
              "\n",
              "    .colab-df-convert:hover {\n",
              "      background-color: #E2EBFA;\n",
              "      box-shadow: 0px 1px 2px rgba(60, 64, 67, 0.3), 0px 1px 3px 1px rgba(60, 64, 67, 0.15);\n",
              "      fill: #174EA6;\n",
              "    }\n",
              "\n",
              "    [theme=dark] .colab-df-convert {\n",
              "      background-color: #3B4455;\n",
              "      fill: #D2E3FC;\n",
              "    }\n",
              "\n",
              "    [theme=dark] .colab-df-convert:hover {\n",
              "      background-color: #434B5C;\n",
              "      box-shadow: 0px 1px 3px 1px rgba(0, 0, 0, 0.15);\n",
              "      filter: drop-shadow(0px 1px 2px rgba(0, 0, 0, 0.3));\n",
              "      fill: #FFFFFF;\n",
              "    }\n",
              "  </style>\n",
              "\n",
              "      <script>\n",
              "        const buttonEl =\n",
              "          document.querySelector('#df-6e655349-0687-46e9-9f2d-2f3757326feb button.colab-df-convert');\n",
              "        buttonEl.style.display =\n",
              "          google.colab.kernel.accessAllowed ? 'block' : 'none';\n",
              "\n",
              "        async function convertToInteractive(key) {\n",
              "          const element = document.querySelector('#df-6e655349-0687-46e9-9f2d-2f3757326feb');\n",
              "          const dataTable =\n",
              "            await google.colab.kernel.invokeFunction('convertToInteractive',\n",
              "                                                     [key], {});\n",
              "          if (!dataTable) return;\n",
              "\n",
              "          const docLinkHtml = 'Like what you see? Visit the ' +\n",
              "            '<a target=\"_blank\" href=https://colab.research.google.com/notebooks/data_table.ipynb>data table notebook</a>'\n",
              "            + ' to learn more about interactive tables.';\n",
              "          element.innerHTML = '';\n",
              "          dataTable['output_type'] = 'display_data';\n",
              "          await google.colab.output.renderOutput(dataTable, element);\n",
              "          const docLink = document.createElement('div');\n",
              "          docLink.innerHTML = docLinkHtml;\n",
              "          element.appendChild(docLink);\n",
              "        }\n",
              "      </script>\n",
              "    </div>\n",
              "  </div>\n",
              "  "
            ]
          },
          "metadata": {},
          "execution_count": 3
        }
      ],
      "source": [
        "import matplotlib.pyplot as plt\n",
        "import numpy as np\n",
        "import pandas as pd\n",
        "from sklearn.dummy import DummyClassifier\n",
        "from sklearn.ensemble import RandomForestClassifier\n",
        "from numpy import savetxt\n",
        "# Logistic Regression\n",
        "from sklearn.linear_model import LogisticRegression\n",
        "# Support Vector Machines\n",
        "from sklearn.svm import LinearSVC\n",
        "# Decision Trees\n",
        "from sklearn.tree import DecisionTreeClassifier\n",
        "# Naive Bayes\n",
        "from sklearn.naive_bayes import GaussianNB\n",
        "# K-Nearest Neighbors\n",
        "from sklearn.neighbors import KNeighborsClassifier\n",
        "# Random Forest\n",
        "from sklearn.ensemble import RandomForestClassifier\n",
        "from numpy import mean\n",
        "from numpy import std\n",
        "from sklearn.datasets import make_classification\n",
        "from sklearn.ensemble import GradientBoostingClassifier\n",
        "from sklearn.model_selection import cross_val_score\n",
        "from sklearn.model_selection import RepeatedStratifiedKFold\n",
        "from matplotlib import pyplot\n",
        "from sklearn.metrics import accuracy_score\n",
        "from sklearn.model_selection import train_test_split\n",
        "from sklearn.datasets import make_classification\n",
        "from sklearn.ensemble import AdaBoostClassifier\n",
        "from sklearn.discriminant_analysis import LinearDiscriminantAnalysis\n",
        "from sklearn.discriminant_analysis import QuadraticDiscriminantAnalysis\n",
        "import xgboost as xgb\n",
        "from sklearn.svm import SVC\n",
        "from sklearn.model_selection import GridSearchCV\n",
        "from sklearn.ensemble import VotingClassifier\n",
        "from keras import layers\n",
        "from keras import models\n",
        "from keras import optimizers\n",
        "from keras import losses\n",
        "from keras import metrics\n",
        "from sklearn.ensemble import BaggingClassifier\n",
        "from imblearn.ensemble import BalancedRandomForestClassifier\n",
        "from   sklearn.model_selection import RandomizedSearchCV\n",
        "from sklearn.metrics import mean_squared_error\n",
        "from sklearn.naive_bayes import MultinomialNB\n",
        "from sklearn.ensemble import VotingClassifier\n",
        "from sklearn.model_selection import  KFold\n",
        "from sklearn.preprocessing import StandardScaler\n",
        "from sklearn.preprocessing import LabelEncoder\n",
        "import tensorflow as tf\n",
        "from tensorflow import keras\n",
        "from keras.models import Sequential\n",
        "from keras.layers import Dense\n",
        "from sklearn.neural_network import MLPClassifier\n",
        "from sklearn.gaussian_process import GaussianProcessClassifier\n",
        "from sklearn.gaussian_process.kernels import RBF\n",
        "from sklearn.linear_model import SGDClassifier\n",
        "from sklearn.ensemble import GradientBoostingClassifier\n",
        "from sklearn.metrics import confusion_matrix, ConfusionMatrixDisplay\n",
        "dataset = pd.read_csv('training.csv',engine='python' )\n",
        "dataset_test = pd.read_csv('test.csv',engine='python' )\n",
        "dataset.head()\n"
      ]
    },
    {
      "cell_type": "markdown",
      "metadata": {
        "id": "1Z3_TlngGzQc"
      },
      "source": [
        "**Binary Classification** \n",
        "\n",
        "Classify the activity into static(0) and dynamic(1)\n",
        "\n",
        "The following models are included:  \n",
        "\n",
        "(1) Support Vector Machine with kenel: linear, poly, rbf, sigmoid. \n",
        "\n",
        "(2) Decision Tree \n",
        "\n",
        "(3) Guassian Naive Bayes \n",
        "\n",
        "(4) K-Nearest Neighbors \n",
        "\n",
        "(5) Logistic Regression \n",
        "\n",
        "(6) Linear Discriminant Analysis \n",
        "\n",
        "(7) Quadratic Discriminant Analysis  \n",
        "\n",
        "(8) Random Forest  \n",
        "\n",
        "(9) Voting Classifier \n",
        "\n",
        "(10) Neutral Network \n",
        "\n",
        "(11) Bagging Classifier  \n",
        "\n",
        "(12) AdaBoost Classifier \n",
        "\n",
        "(13) Gaussian Process Classifier with RBF kernel  \n",
        "\n",
        "(14) SGD Classifier \n",
        "\n",
        "(15) Multinomial Logistic Regression\n",
        "\n",
        "(16) Gradient Boost Classifier"
      ]
    },
    {
      "cell_type": "markdown",
      "metadata": {
        "id": "OYqvbr9XHTlB"
      },
      "source": [
        "**Step 1: Enable Data**"
      ]
    },
    {
      "cell_type": "code",
      "execution_count": 4,
      "metadata": {
        "colab": {
          "base_uri": "https://localhost:8080/",
          "height": 505
        },
        "id": "m00jyX8GnlFS",
        "outputId": "edb86323-73bc-4328-9867-22b4910483bc"
      },
      "outputs": [
        {
          "output_type": "execute_result",
          "data": {
            "text/plain": [
              "      Unnamed: 0       V1        V2           V3            V4            V5  \\\n",
              "0              1  subject  activity           F1            F2            F3   \n",
              "1              2        1         5  0.043579674  -0.005970221  -0.035054344   \n",
              "2              3        1         5  0.039480037  -0.002131276  -0.029067362   \n",
              "3              4        1         5  0.039977781  -0.005152716  -0.022650708   \n",
              "4              5        1         5  0.039784558  -0.011808778  -0.028915779   \n",
              "...          ...      ...       ...          ...           ...           ...   \n",
              "7763        7764       30         2  0.048048374  -0.042445161  -0.065884336   \n",
              "7764        7765       30         2  0.037638604   0.006430371  -0.044344723   \n",
              "7765        7766       30         2  0.037450938  -0.002724424   0.021009408   \n",
              "7766        7767       30         2  0.044011045  -0.004535781  -0.051242204   \n",
              "7767        7768       30         2  0.068953765   0.001810322  -0.080323431   \n",
              "\n",
              "                V6            V7            V8            V9  ...  \\\n",
              "0               F4            F5            F6            F7  ...   \n",
              "1      -0.99538116  -0.988365863  -0.937382005  -0.995007045  ...   \n",
              "2     -0.998347999  -0.982944945  -0.971272882  -0.998701962  ...   \n",
              "3     -0.995482127  -0.977313843  -0.984759524  -0.996414838  ...   \n",
              "4       -0.9961941  -0.988568594  -0.993255602  -0.996994335  ...   \n",
              "...            ...           ...           ...           ...  ...   \n",
              "7763  -0.195447967  -0.278326363  -0.219953526  -0.282233132  ...   \n",
              "7764  -0.235372031   -0.30268012  -0.232843488  -0.322482719  ...   \n",
              "7765    -0.2182808   -0.37808216  -0.076950379  -0.304446475  ...   \n",
              "7766  -0.219202106   -0.38334992   -0.08103469  -0.310418503  ...   \n",
              "7767  -0.269335686  -0.366553435  -0.147294234  -0.377331537  ...   \n",
              "\n",
              "              V555          V556          V557          V558          V559  \\\n",
              "0             F553          F554          F555          F556          F557   \n",
              "1     -0.314848353  -0.713307812  -0.112754341   0.030400372  -0.464761386   \n",
              "2     -0.603199224  -0.860676901   0.053476955  -0.007434566   -0.73262621   \n",
              "3      -0.40442749  -0.761847228  -0.118559255   0.177899475   0.100699208   \n",
              "4      -0.13837282  -0.491604347  -0.036787973  -0.012892494   0.640011043   \n",
              "...            ...           ...           ...           ...           ...   \n",
              "7763  -0.596760198  -0.879025634  -0.190436861   0.829718416   0.206972154   \n",
              "7764  -0.404417928  -0.684496226   0.064906712   0.875679049  -0.879032789   \n",
              "7765   0.000206574  -0.317314291   0.052805928  -0.266724365   0.864404011   \n",
              "7766   0.037918739  -0.356579108  -0.101360118   0.700739689   0.936673944   \n",
              "7767   -0.40083141  -0.742971769  -0.280088053  -0.007739278  -0.056087594   \n",
              "\n",
              "              V560          V561         V562          V563 V0  \n",
              "0             F558          F559         F560          F561  0  \n",
              "1     -0.018445884  -0.841558511  0.179912811  -0.051718416  0  \n",
              "2      0.703510588  -0.845092399   0.18026111  -0.047436337  0  \n",
              "3      0.808529075  -0.849230131  0.180609558  -0.042271363  0  \n",
              "4     -0.485366445  -0.848946592  0.181907092  -0.040826223  0  \n",
              "...            ...           ...          ...           ... ..  \n",
              "7763  -0.425618579  -0.792291739  0.238580336   0.056019937  1  \n",
              "7764    0.40021936  -0.772287652  0.252652789   0.056251833  1  \n",
              "7765   0.701168816  -0.779566335  0.249121453   0.047070771  1  \n",
              "7766   -0.58947895   -0.78560327  0.246408672   0.031700029  1  \n",
              "7767   -0.61695645  -0.783692535  0.246784989   0.042981289  1  \n",
              "\n",
              "[7768 rows x 565 columns]"
            ],
            "text/html": [
              "\n",
              "  <div id=\"df-7c4ec204-5498-49d6-80d6-573a8e7684b9\">\n",
              "    <div class=\"colab-df-container\">\n",
              "      <div>\n",
              "<style scoped>\n",
              "    .dataframe tbody tr th:only-of-type {\n",
              "        vertical-align: middle;\n",
              "    }\n",
              "\n",
              "    .dataframe tbody tr th {\n",
              "        vertical-align: top;\n",
              "    }\n",
              "\n",
              "    .dataframe thead th {\n",
              "        text-align: right;\n",
              "    }\n",
              "</style>\n",
              "<table border=\"1\" class=\"dataframe\">\n",
              "  <thead>\n",
              "    <tr style=\"text-align: right;\">\n",
              "      <th></th>\n",
              "      <th>Unnamed: 0</th>\n",
              "      <th>V1</th>\n",
              "      <th>V2</th>\n",
              "      <th>V3</th>\n",
              "      <th>V4</th>\n",
              "      <th>V5</th>\n",
              "      <th>V6</th>\n",
              "      <th>V7</th>\n",
              "      <th>V8</th>\n",
              "      <th>V9</th>\n",
              "      <th>...</th>\n",
              "      <th>V555</th>\n",
              "      <th>V556</th>\n",
              "      <th>V557</th>\n",
              "      <th>V558</th>\n",
              "      <th>V559</th>\n",
              "      <th>V560</th>\n",
              "      <th>V561</th>\n",
              "      <th>V562</th>\n",
              "      <th>V563</th>\n",
              "      <th>V0</th>\n",
              "    </tr>\n",
              "  </thead>\n",
              "  <tbody>\n",
              "    <tr>\n",
              "      <th>0</th>\n",
              "      <td>1</td>\n",
              "      <td>subject</td>\n",
              "      <td>activity</td>\n",
              "      <td>F1</td>\n",
              "      <td>F2</td>\n",
              "      <td>F3</td>\n",
              "      <td>F4</td>\n",
              "      <td>F5</td>\n",
              "      <td>F6</td>\n",
              "      <td>F7</td>\n",
              "      <td>...</td>\n",
              "      <td>F553</td>\n",
              "      <td>F554</td>\n",
              "      <td>F555</td>\n",
              "      <td>F556</td>\n",
              "      <td>F557</td>\n",
              "      <td>F558</td>\n",
              "      <td>F559</td>\n",
              "      <td>F560</td>\n",
              "      <td>F561</td>\n",
              "      <td>0</td>\n",
              "    </tr>\n",
              "    <tr>\n",
              "      <th>1</th>\n",
              "      <td>2</td>\n",
              "      <td>1</td>\n",
              "      <td>5</td>\n",
              "      <td>0.043579674</td>\n",
              "      <td>-0.005970221</td>\n",
              "      <td>-0.035054344</td>\n",
              "      <td>-0.99538116</td>\n",
              "      <td>-0.988365863</td>\n",
              "      <td>-0.937382005</td>\n",
              "      <td>-0.995007045</td>\n",
              "      <td>...</td>\n",
              "      <td>-0.314848353</td>\n",
              "      <td>-0.713307812</td>\n",
              "      <td>-0.112754341</td>\n",
              "      <td>0.030400372</td>\n",
              "      <td>-0.464761386</td>\n",
              "      <td>-0.018445884</td>\n",
              "      <td>-0.841558511</td>\n",
              "      <td>0.179912811</td>\n",
              "      <td>-0.051718416</td>\n",
              "      <td>0</td>\n",
              "    </tr>\n",
              "    <tr>\n",
              "      <th>2</th>\n",
              "      <td>3</td>\n",
              "      <td>1</td>\n",
              "      <td>5</td>\n",
              "      <td>0.039480037</td>\n",
              "      <td>-0.002131276</td>\n",
              "      <td>-0.029067362</td>\n",
              "      <td>-0.998347999</td>\n",
              "      <td>-0.982944945</td>\n",
              "      <td>-0.971272882</td>\n",
              "      <td>-0.998701962</td>\n",
              "      <td>...</td>\n",
              "      <td>-0.603199224</td>\n",
              "      <td>-0.860676901</td>\n",
              "      <td>0.053476955</td>\n",
              "      <td>-0.007434566</td>\n",
              "      <td>-0.73262621</td>\n",
              "      <td>0.703510588</td>\n",
              "      <td>-0.845092399</td>\n",
              "      <td>0.18026111</td>\n",
              "      <td>-0.047436337</td>\n",
              "      <td>0</td>\n",
              "    </tr>\n",
              "    <tr>\n",
              "      <th>3</th>\n",
              "      <td>4</td>\n",
              "      <td>1</td>\n",
              "      <td>5</td>\n",
              "      <td>0.039977781</td>\n",
              "      <td>-0.005152716</td>\n",
              "      <td>-0.022650708</td>\n",
              "      <td>-0.995482127</td>\n",
              "      <td>-0.977313843</td>\n",
              "      <td>-0.984759524</td>\n",
              "      <td>-0.996414838</td>\n",
              "      <td>...</td>\n",
              "      <td>-0.40442749</td>\n",
              "      <td>-0.761847228</td>\n",
              "      <td>-0.118559255</td>\n",
              "      <td>0.177899475</td>\n",
              "      <td>0.100699208</td>\n",
              "      <td>0.808529075</td>\n",
              "      <td>-0.849230131</td>\n",
              "      <td>0.180609558</td>\n",
              "      <td>-0.042271363</td>\n",
              "      <td>0</td>\n",
              "    </tr>\n",
              "    <tr>\n",
              "      <th>4</th>\n",
              "      <td>5</td>\n",
              "      <td>1</td>\n",
              "      <td>5</td>\n",
              "      <td>0.039784558</td>\n",
              "      <td>-0.011808778</td>\n",
              "      <td>-0.028915779</td>\n",
              "      <td>-0.9961941</td>\n",
              "      <td>-0.988568594</td>\n",
              "      <td>-0.993255602</td>\n",
              "      <td>-0.996994335</td>\n",
              "      <td>...</td>\n",
              "      <td>-0.13837282</td>\n",
              "      <td>-0.491604347</td>\n",
              "      <td>-0.036787973</td>\n",
              "      <td>-0.012892494</td>\n",
              "      <td>0.640011043</td>\n",
              "      <td>-0.485366445</td>\n",
              "      <td>-0.848946592</td>\n",
              "      <td>0.181907092</td>\n",
              "      <td>-0.040826223</td>\n",
              "      <td>0</td>\n",
              "    </tr>\n",
              "    <tr>\n",
              "      <th>...</th>\n",
              "      <td>...</td>\n",
              "      <td>...</td>\n",
              "      <td>...</td>\n",
              "      <td>...</td>\n",
              "      <td>...</td>\n",
              "      <td>...</td>\n",
              "      <td>...</td>\n",
              "      <td>...</td>\n",
              "      <td>...</td>\n",
              "      <td>...</td>\n",
              "      <td>...</td>\n",
              "      <td>...</td>\n",
              "      <td>...</td>\n",
              "      <td>...</td>\n",
              "      <td>...</td>\n",
              "      <td>...</td>\n",
              "      <td>...</td>\n",
              "      <td>...</td>\n",
              "      <td>...</td>\n",
              "      <td>...</td>\n",
              "      <td>...</td>\n",
              "    </tr>\n",
              "    <tr>\n",
              "      <th>7763</th>\n",
              "      <td>7764</td>\n",
              "      <td>30</td>\n",
              "      <td>2</td>\n",
              "      <td>0.048048374</td>\n",
              "      <td>-0.042445161</td>\n",
              "      <td>-0.065884336</td>\n",
              "      <td>-0.195447967</td>\n",
              "      <td>-0.278326363</td>\n",
              "      <td>-0.219953526</td>\n",
              "      <td>-0.282233132</td>\n",
              "      <td>...</td>\n",
              "      <td>-0.596760198</td>\n",
              "      <td>-0.879025634</td>\n",
              "      <td>-0.190436861</td>\n",
              "      <td>0.829718416</td>\n",
              "      <td>0.206972154</td>\n",
              "      <td>-0.425618579</td>\n",
              "      <td>-0.792291739</td>\n",
              "      <td>0.238580336</td>\n",
              "      <td>0.056019937</td>\n",
              "      <td>1</td>\n",
              "    </tr>\n",
              "    <tr>\n",
              "      <th>7764</th>\n",
              "      <td>7765</td>\n",
              "      <td>30</td>\n",
              "      <td>2</td>\n",
              "      <td>0.037638604</td>\n",
              "      <td>0.006430371</td>\n",
              "      <td>-0.044344723</td>\n",
              "      <td>-0.235372031</td>\n",
              "      <td>-0.30268012</td>\n",
              "      <td>-0.232843488</td>\n",
              "      <td>-0.322482719</td>\n",
              "      <td>...</td>\n",
              "      <td>-0.404417928</td>\n",
              "      <td>-0.684496226</td>\n",
              "      <td>0.064906712</td>\n",
              "      <td>0.875679049</td>\n",
              "      <td>-0.879032789</td>\n",
              "      <td>0.40021936</td>\n",
              "      <td>-0.772287652</td>\n",
              "      <td>0.252652789</td>\n",
              "      <td>0.056251833</td>\n",
              "      <td>1</td>\n",
              "    </tr>\n",
              "    <tr>\n",
              "      <th>7765</th>\n",
              "      <td>7766</td>\n",
              "      <td>30</td>\n",
              "      <td>2</td>\n",
              "      <td>0.037450938</td>\n",
              "      <td>-0.002724424</td>\n",
              "      <td>0.021009408</td>\n",
              "      <td>-0.2182808</td>\n",
              "      <td>-0.37808216</td>\n",
              "      <td>-0.076950379</td>\n",
              "      <td>-0.304446475</td>\n",
              "      <td>...</td>\n",
              "      <td>0.000206574</td>\n",
              "      <td>-0.317314291</td>\n",
              "      <td>0.052805928</td>\n",
              "      <td>-0.266724365</td>\n",
              "      <td>0.864404011</td>\n",
              "      <td>0.701168816</td>\n",
              "      <td>-0.779566335</td>\n",
              "      <td>0.249121453</td>\n",
              "      <td>0.047070771</td>\n",
              "      <td>1</td>\n",
              "    </tr>\n",
              "    <tr>\n",
              "      <th>7766</th>\n",
              "      <td>7767</td>\n",
              "      <td>30</td>\n",
              "      <td>2</td>\n",
              "      <td>0.044011045</td>\n",
              "      <td>-0.004535781</td>\n",
              "      <td>-0.051242204</td>\n",
              "      <td>-0.219202106</td>\n",
              "      <td>-0.38334992</td>\n",
              "      <td>-0.08103469</td>\n",
              "      <td>-0.310418503</td>\n",
              "      <td>...</td>\n",
              "      <td>0.037918739</td>\n",
              "      <td>-0.356579108</td>\n",
              "      <td>-0.101360118</td>\n",
              "      <td>0.700739689</td>\n",
              "      <td>0.936673944</td>\n",
              "      <td>-0.58947895</td>\n",
              "      <td>-0.78560327</td>\n",
              "      <td>0.246408672</td>\n",
              "      <td>0.031700029</td>\n",
              "      <td>1</td>\n",
              "    </tr>\n",
              "    <tr>\n",
              "      <th>7767</th>\n",
              "      <td>7768</td>\n",
              "      <td>30</td>\n",
              "      <td>2</td>\n",
              "      <td>0.068953765</td>\n",
              "      <td>0.001810322</td>\n",
              "      <td>-0.080323431</td>\n",
              "      <td>-0.269335686</td>\n",
              "      <td>-0.366553435</td>\n",
              "      <td>-0.147294234</td>\n",
              "      <td>-0.377331537</td>\n",
              "      <td>...</td>\n",
              "      <td>-0.40083141</td>\n",
              "      <td>-0.742971769</td>\n",
              "      <td>-0.280088053</td>\n",
              "      <td>-0.007739278</td>\n",
              "      <td>-0.056087594</td>\n",
              "      <td>-0.61695645</td>\n",
              "      <td>-0.783692535</td>\n",
              "      <td>0.246784989</td>\n",
              "      <td>0.042981289</td>\n",
              "      <td>1</td>\n",
              "    </tr>\n",
              "  </tbody>\n",
              "</table>\n",
              "<p>7768 rows × 565 columns</p>\n",
              "</div>\n",
              "      <button class=\"colab-df-convert\" onclick=\"convertToInteractive('df-7c4ec204-5498-49d6-80d6-573a8e7684b9')\"\n",
              "              title=\"Convert this dataframe to an interactive table.\"\n",
              "              style=\"display:none;\">\n",
              "        \n",
              "  <svg xmlns=\"http://www.w3.org/2000/svg\" height=\"24px\"viewBox=\"0 0 24 24\"\n",
              "       width=\"24px\">\n",
              "    <path d=\"M0 0h24v24H0V0z\" fill=\"none\"/>\n",
              "    <path d=\"M18.56 5.44l.94 2.06.94-2.06 2.06-.94-2.06-.94-.94-2.06-.94 2.06-2.06.94zm-11 1L8.5 8.5l.94-2.06 2.06-.94-2.06-.94L8.5 2.5l-.94 2.06-2.06.94zm10 10l.94 2.06.94-2.06 2.06-.94-2.06-.94-.94-2.06-.94 2.06-2.06.94z\"/><path d=\"M17.41 7.96l-1.37-1.37c-.4-.4-.92-.59-1.43-.59-.52 0-1.04.2-1.43.59L10.3 9.45l-7.72 7.72c-.78.78-.78 2.05 0 2.83L4 21.41c.39.39.9.59 1.41.59.51 0 1.02-.2 1.41-.59l7.78-7.78 2.81-2.81c.8-.78.8-2.07 0-2.86zM5.41 20L4 18.59l7.72-7.72 1.47 1.35L5.41 20z\"/>\n",
              "  </svg>\n",
              "      </button>\n",
              "      \n",
              "  <style>\n",
              "    .colab-df-container {\n",
              "      display:flex;\n",
              "      flex-wrap:wrap;\n",
              "      gap: 12px;\n",
              "    }\n",
              "\n",
              "    .colab-df-convert {\n",
              "      background-color: #E8F0FE;\n",
              "      border: none;\n",
              "      border-radius: 50%;\n",
              "      cursor: pointer;\n",
              "      display: none;\n",
              "      fill: #1967D2;\n",
              "      height: 32px;\n",
              "      padding: 0 0 0 0;\n",
              "      width: 32px;\n",
              "    }\n",
              "\n",
              "    .colab-df-convert:hover {\n",
              "      background-color: #E2EBFA;\n",
              "      box-shadow: 0px 1px 2px rgba(60, 64, 67, 0.3), 0px 1px 3px 1px rgba(60, 64, 67, 0.15);\n",
              "      fill: #174EA6;\n",
              "    }\n",
              "\n",
              "    [theme=dark] .colab-df-convert {\n",
              "      background-color: #3B4455;\n",
              "      fill: #D2E3FC;\n",
              "    }\n",
              "\n",
              "    [theme=dark] .colab-df-convert:hover {\n",
              "      background-color: #434B5C;\n",
              "      box-shadow: 0px 1px 3px 1px rgba(0, 0, 0, 0.15);\n",
              "      filter: drop-shadow(0px 1px 2px rgba(0, 0, 0, 0.3));\n",
              "      fill: #FFFFFF;\n",
              "    }\n",
              "  </style>\n",
              "\n",
              "      <script>\n",
              "        const buttonEl =\n",
              "          document.querySelector('#df-7c4ec204-5498-49d6-80d6-573a8e7684b9 button.colab-df-convert');\n",
              "        buttonEl.style.display =\n",
              "          google.colab.kernel.accessAllowed ? 'block' : 'none';\n",
              "\n",
              "        async function convertToInteractive(key) {\n",
              "          const element = document.querySelector('#df-7c4ec204-5498-49d6-80d6-573a8e7684b9');\n",
              "          const dataTable =\n",
              "            await google.colab.kernel.invokeFunction('convertToInteractive',\n",
              "                                                     [key], {});\n",
              "          if (!dataTable) return;\n",
              "\n",
              "          const docLinkHtml = 'Like what you see? Visit the ' +\n",
              "            '<a target=\"_blank\" href=https://colab.research.google.com/notebooks/data_table.ipynb>data table notebook</a>'\n",
              "            + ' to learn more about interactive tables.';\n",
              "          element.innerHTML = '';\n",
              "          dataTable['output_type'] = 'display_data';\n",
              "          await google.colab.output.renderOutput(dataTable, element);\n",
              "          const docLink = document.createElement('div');\n",
              "          docLink.innerHTML = docLinkHtml;\n",
              "          element.appendChild(docLink);\n",
              "        }\n",
              "      </script>\n",
              "    </div>\n",
              "  </div>\n",
              "  "
            ]
          },
          "metadata": {},
          "execution_count": 4
        }
      ],
      "source": [
        "List0 = ['4','5','6']\n",
        "List1 = ['1','2','3']\n",
        "List2 = ['7','8','9','10','11','12']\n",
        "dataset[\"V0\"] = np.where(dataset['V2'].isin(List1),'1','0')\n",
        "ytrain = dataset[\"V0\"]\n",
        "dataset"
      ]
    },
    {
      "cell_type": "code",
      "execution_count": 5,
      "metadata": {
        "id": "TXlFcIqenpAA"
      },
      "outputs": [],
      "source": [
        "xtrain=dataset.iloc[1:,3:564]\n",
        "xtrain\n",
        "ytrain=ytrain.iloc[1:]\n",
        "dataset_test['V2']=0\n",
        "dataset_test_x = pd.read_csv('xtest.csv',engine='python' )\n",
        "dataset_test_x\n",
        "xtest2=dataset_test_x.iloc[0:,1:]\n",
        "xtest2\n",
        "dataset_test.head()\n",
        "models = {}\n",
        "xtrain=dataset.iloc[1:,3:564]\n",
        "\n",
        "dataset_test_x = pd.read_csv('xtest.csv',engine='python' )"
      ]
    },
    {
      "cell_type": "markdown",
      "metadata": {
        "id": "yAp2dDzhIZZx"
      },
      "source": [
        "**Step 2: Split Data**"
      ]
    },
    {
      "cell_type": "code",
      "execution_count": 6,
      "metadata": {
        "id": "bPl5Vg9vozq8"
      },
      "outputs": [],
      "source": [
        "#I tried several ways to split the data, including 0.1, 0.15, 0.2, 0.25, 0.3, 0.35, 0.4. \n",
        "#Considering the limited space here, this version of code only including the 0.4, \n",
        "#which meeans divide the data into train(60%) and test(40%) data. \n",
        "#You can easily change the fraction as you want.\n",
        "X_train31, X_test31, y_train31, y_test31 = train_test_split(xtrain, ytrain , test_size=0.4, random_state=0)"
      ]
    },
    {
      "cell_type": "markdown",
      "metadata": {
        "id": "ryN3qxfaIAJQ"
      },
      "source": [
        "**Step 3: Build base model**"
      ]
    },
    {
      "cell_type": "code",
      "execution_count": 7,
      "metadata": {
        "colab": {
          "base_uri": "https://localhost:8080/",
          "height": 449
        },
        "id": "3Yi4Kcp0oRjo",
        "outputId": "24dbf023-5c64-4791-b719-9e520c30937d"
      },
      "outputs": [
        {
          "output_type": "display_data",
          "data": {
            "text/plain": [
              "<Figure size 640x480 with 2 Axes>"
            ],
            "image/png": "[encoded data removed]"
          },
          "metadata": {}
        }
      ],
      "source": [
        "# Initialize Estimator\n",
        "dummy = DummyClassifier(strategy='stratified')\n",
        "dummy.fit(X_train31,y_train31)\n",
        "\n",
        "# Check for Model Accuracy\n",
        "\n",
        "cm = confusion_matrix(y_test31,dummy.predict(X_test31), labels=dummy.classes_)\n",
        "disp = ConfusionMatrixDisplay(confusion_matrix=cm, display_labels=dummy.classes_)\n",
        "disp.plot()\n",
        "plt.show()"
      ]
    },
    {
      "cell_type": "markdown",
      "metadata": {
        "id": "avYVaLYDM-Fq"
      },
      "source": [
        "**Step 4: Find the opimal parameters**"
      ]
    },
    {
      "cell_type": "code",
      "execution_count": null,
      "metadata": {
        "colab": {
          "base_uri": "https://localhost:8080/"
        },
        "id": "svp2oaO6o2XY",
        "outputId": "3482138c-49ed-417a-ebf7-ac2b181bc5c2"
      },
      "outputs": [
        {
          "name": "stdout",
          "output_type": "stream",
          "text": [
            "Best random_state: 0\n",
            "Mean test score: 0.9991416309012877\n"
          ]
        }
      ],
      "source": [
        "# Define the parameter grid for random_state\n",
        "param_grid = {'random_state': range(0, 101)}\n",
        "\n",
        "# Define the SVM classifier\n",
        "svc = SVC()\n",
        "\n",
        "# Define the grid search object\n",
        "grid_search = GridSearchCV(svc, param_grid=param_grid, cv=5)\n",
        "\n",
        "# Fit the grid search object to the data\n",
        "grid_search.fit(X_train31, y_train31)\n",
        "\n",
        "# Print the best random_state parameter value and the corresponding mean test score\n",
        "print('Best random_state:', grid_search.best_params_['random_state'])\n",
        "print('Mean test score:', grid_search.best_score_)"
      ]
    },
    {
      "cell_type": "code",
      "execution_count": null,
      "metadata": {
        "colab": {
          "base_uri": "https://localhost:8080/"
        },
        "id": "Ayc5CilGpRsU",
        "outputId": "1aeb29af-719c-4b9d-8bd0-c7b5fd27995b"
      },
      "outputs": [
        {
          "name": "stdout",
          "output_type": "stream",
          "text": [
            "{'max_depth': 4, 'min_samples_leaf': 1, 'min_samples_split': 8}\n"
          ]
        }
      ],
      "source": [
        "# create decision tree classifier\n",
        "dtc = DecisionTreeClassifier()\n",
        "\n",
        "# define parameter grid\n",
        "param_grid = {\n",
        "    'max_depth': [2, 4, 6, 8, 10],\n",
        "    'min_samples_split': [2, 4, 6, 8],\n",
        "    'min_samples_leaf': [1, 2, 3, 4]\n",
        "}\n",
        "\n",
        "# perform grid search\n",
        "grid_search = GridSearchCV(dtc, param_grid, cv=5)\n",
        "grid_search.fit(X_train31, y_train31)\n",
        "\n",
        "# print optimal parameters\n",
        "print(grid_search.best_params_)"
      ]
    },
    {
      "cell_type": "code",
      "execution_count": null,
      "metadata": {
        "colab": {
          "background_save": true
        },
        "id": "kAifWooYpd6v",
        "outputId": "b6b2ef7a-69e8-4d32-9df0-bd9692473877"
      },
      "outputs": [
        {
          "name": "stderr",
          "output_type": "stream",
          "text": [
            "/usr/local/lib/python3.9/dist-packages/sklearn/linear_model/_sag.py:350: ConvergenceWarning: The max_iter was reached which means the coef_ did not converge\n",
            "  warnings.warn(\n",
            "/usr/local/lib/python3.9/dist-packages/sklearn/linear_model/_sag.py:350: ConvergenceWarning: The max_iter was reached which means the coef_ did not converge\n",
            "  warnings.warn(\n",
            "/usr/local/lib/python3.9/dist-packages/sklearn/linear_model/_sag.py:350: ConvergenceWarning: The max_iter was reached which means the coef_ did not converge\n",
            "  warnings.warn(\n",
            "/usr/local/lib/python3.9/dist-packages/sklearn/linear_model/_sag.py:350: ConvergenceWarning: The max_iter was reached which means the coef_ did not converge\n",
            "  warnings.warn(\n",
            "/usr/local/lib/python3.9/dist-packages/sklearn/linear_model/_sag.py:350: ConvergenceWarning: The max_iter was reached which means the coef_ did not converge\n",
            "  warnings.warn(\n",
            "/usr/local/lib/python3.9/dist-packages/sklearn/linear_model/_sag.py:350: ConvergenceWarning: The max_iter was reached which means the coef_ did not converge\n",
            "  warnings.warn(\n",
            "/usr/local/lib/python3.9/dist-packages/sklearn/linear_model/_sag.py:350: ConvergenceWarning: The max_iter was reached which means the coef_ did not converge\n",
            "  warnings.warn(\n",
            "/usr/local/lib/python3.9/dist-packages/sklearn/linear_model/_sag.py:350: ConvergenceWarning: The max_iter was reached which means the coef_ did not converge\n",
            "  warnings.warn(\n",
            "/usr/local/lib/python3.9/dist-packages/sklearn/linear_model/_sag.py:350: ConvergenceWarning: The max_iter was reached which means the coef_ did not converge\n",
            "  warnings.warn(\n",
            "/usr/local/lib/python3.9/dist-packages/sklearn/linear_model/_sag.py:350: ConvergenceWarning: The max_iter was reached which means the coef_ did not converge\n",
            "  warnings.warn(\n",
            "/usr/local/lib/python3.9/dist-packages/sklearn/linear_model/_sag.py:350: ConvergenceWarning: The max_iter was reached which means the coef_ did not converge\n",
            "  warnings.warn(\n",
            "/usr/local/lib/python3.9/dist-packages/sklearn/linear_model/_sag.py:350: ConvergenceWarning: The max_iter was reached which means the coef_ did not converge\n",
            "  warnings.warn(\n",
            "/usr/local/lib/python3.9/dist-packages/sklearn/linear_model/_sag.py:350: ConvergenceWarning: The max_iter was reached which means the coef_ did not converge\n",
            "  warnings.warn(\n",
            "/usr/local/lib/python3.9/dist-packages/sklearn/linear_model/_sag.py:350: ConvergenceWarning: The max_iter was reached which means the coef_ did not converge\n",
            "  warnings.warn(\n",
            "/usr/local/lib/python3.9/dist-packages/sklearn/linear_model/_sag.py:350: ConvergenceWarning: The max_iter was reached which means the coef_ did not converge\n",
            "  warnings.warn(\n",
            "/usr/local/lib/python3.9/dist-packages/sklearn/linear_model/_sag.py:350: ConvergenceWarning: The max_iter was reached which means the coef_ did not converge\n",
            "  warnings.warn(\n",
            "/usr/local/lib/python3.9/dist-packages/sklearn/linear_model/_sag.py:350: ConvergenceWarning: The max_iter was reached which means the coef_ did not converge\n",
            "  warnings.warn(\n",
            "/usr/local/lib/python3.9/dist-packages/sklearn/linear_model/_sag.py:350: ConvergenceWarning: The max_iter was reached which means the coef_ did not converge\n",
            "  warnings.warn(\n",
            "/usr/local/lib/python3.9/dist-packages/sklearn/linear_model/_sag.py:350: ConvergenceWarning: The max_iter was reached which means the coef_ did not converge\n",
            "  warnings.warn(\n",
            "/usr/local/lib/python3.9/dist-packages/sklearn/linear_model/_sag.py:350: ConvergenceWarning: The max_iter was reached which means the coef_ did not converge\n",
            "  warnings.warn(\n",
            "/usr/local/lib/python3.9/dist-packages/sklearn/linear_model/_sag.py:350: ConvergenceWarning: The max_iter was reached which means the coef_ did not converge\n",
            "  warnings.warn(\n",
            "/usr/local/lib/python3.9/dist-packages/sklearn/linear_model/_sag.py:350: ConvergenceWarning: The max_iter was reached which means the coef_ did not converge\n",
            "  warnings.warn(\n",
            "/usr/local/lib/python3.9/dist-packages/sklearn/linear_model/_sag.py:350: ConvergenceWarning: The max_iter was reached which means the coef_ did not converge\n",
            "  warnings.warn(\n",
            "/usr/local/lib/python3.9/dist-packages/sklearn/linear_model/_sag.py:350: ConvergenceWarning: The max_iter was reached which means the coef_ did not converge\n",
            "  warnings.warn(\n",
            "/usr/local/lib/python3.9/dist-packages/sklearn/linear_model/_sag.py:350: ConvergenceWarning: The max_iter was reached which means the coef_ did not converge\n",
            "  warnings.warn(\n",
            "/usr/local/lib/python3.9/dist-packages/sklearn/linear_model/_sag.py:350: ConvergenceWarning: The max_iter was reached which means the coef_ did not converge\n",
            "  warnings.warn(\n",
            "/usr/local/lib/python3.9/dist-packages/sklearn/linear_model/_sag.py:350: ConvergenceWarning: The max_iter was reached which means the coef_ did not converge\n",
            "  warnings.warn(\n",
            "/usr/local/lib/python3.9/dist-packages/sklearn/linear_model/_sag.py:350: ConvergenceWarning: The max_iter was reached which means the coef_ did not converge\n",
            "  warnings.warn(\n",
            "/usr/local/lib/python3.9/dist-packages/sklearn/linear_model/_sag.py:350: ConvergenceWarning: The max_iter was reached which means the coef_ did not converge\n",
            "  warnings.warn(\n",
            "/usr/local/lib/python3.9/dist-packages/sklearn/linear_model/_sag.py:350: ConvergenceWarning: The max_iter was reached which means the coef_ did not converge\n",
            "  warnings.warn(\n",
            "/usr/local/lib/python3.9/dist-packages/sklearn/linear_model/_sag.py:350: ConvergenceWarning: The max_iter was reached which means the coef_ did not converge\n",
            "  warnings.warn(\n",
            "/usr/local/lib/python3.9/dist-packages/sklearn/linear_model/_sag.py:350: ConvergenceWarning: The max_iter was reached which means the coef_ did not converge\n",
            "  warnings.warn(\n",
            "/usr/local/lib/python3.9/dist-packages/sklearn/linear_model/_sag.py:350: ConvergenceWarning: The max_iter was reached which means the coef_ did not converge\n",
            "  warnings.warn(\n",
            "/usr/local/lib/python3.9/dist-packages/sklearn/linear_model/_sag.py:350: ConvergenceWarning: The max_iter was reached which means the coef_ did not converge\n",
            "  warnings.warn(\n",
            "/usr/local/lib/python3.9/dist-packages/sklearn/linear_model/_sag.py:350: ConvergenceWarning: The max_iter was reached which means the coef_ did not converge\n",
            "  warnings.warn(\n",
            "/usr/local/lib/python3.9/dist-packages/sklearn/linear_model/_sag.py:350: ConvergenceWarning: The max_iter was reached which means the coef_ did not converge\n",
            "  warnings.warn(\n",
            "/usr/local/lib/python3.9/dist-packages/sklearn/linear_model/_sag.py:350: ConvergenceWarning: The max_iter was reached which means the coef_ did not converge\n",
            "  warnings.warn(\n",
            "/usr/local/lib/python3.9/dist-packages/sklearn/linear_model/_sag.py:350: ConvergenceWarning: The max_iter was reached which means the coef_ did not converge\n",
            "  warnings.warn(\n",
            "/usr/local/lib/python3.9/dist-packages/sklearn/linear_model/_sag.py:350: ConvergenceWarning: The max_iter was reached which means the coef_ did not converge\n",
            "  warnings.warn(\n",
            "/usr/local/lib/python3.9/dist-packages/sklearn/linear_model/_sag.py:350: ConvergenceWarning: The max_iter was reached which means the coef_ did not converge\n",
            "  warnings.warn(\n",
            "/usr/local/lib/python3.9/dist-packages/sklearn/linear_model/_sag.py:350: ConvergenceWarning: The max_iter was reached which means the coef_ did not converge\n",
            "  warnings.warn(\n",
            "/usr/local/lib/python3.9/dist-packages/sklearn/linear_model/_sag.py:350: ConvergenceWarning: The max_iter was reached which means the coef_ did not converge\n",
            "  warnings.warn(\n",
            "/usr/local/lib/python3.9/dist-packages/sklearn/linear_model/_sag.py:350: ConvergenceWarning: The max_iter was reached which means the coef_ did not converge\n",
            "  warnings.warn(\n",
            "/usr/local/lib/python3.9/dist-packages/sklearn/linear_model/_sag.py:350: ConvergenceWarning: The max_iter was reached which means the coef_ did not converge\n",
            "  warnings.warn(\n",
            "/usr/local/lib/python3.9/dist-packages/sklearn/linear_model/_sag.py:350: ConvergenceWarning: The max_iter was reached which means the coef_ did not converge\n",
            "  warnings.warn(\n",
            "/usr/local/lib/python3.9/dist-packages/sklearn/linear_model/_sag.py:350: ConvergenceWarning: The max_iter was reached which means the coef_ did not converge\n",
            "  warnings.warn(\n",
            "/usr/local/lib/python3.9/dist-packages/sklearn/linear_model/_sag.py:350: ConvergenceWarning: The max_iter was reached which means the coef_ did not converge\n",
            "  warnings.warn(\n",
            "/usr/local/lib/python3.9/dist-packages/sklearn/linear_model/_sag.py:350: ConvergenceWarning: The max_iter was reached which means the coef_ did not converge\n",
            "  warnings.warn(\n",
            "/usr/local/lib/python3.9/dist-packages/sklearn/linear_model/_sag.py:350: ConvergenceWarning: The max_iter was reached which means the coef_ did not converge\n",
            "  warnings.warn(\n",
            "/usr/local/lib/python3.9/dist-packages/sklearn/linear_model/_sag.py:350: ConvergenceWarning: The max_iter was reached which means the coef_ did not converge\n",
            "  warnings.warn(\n"
          ]
        },
        {
          "name": "stdout",
          "output_type": "stream",
          "text": [
            "{'C': 1, 'penalty': 'l2', 'solver': 'liblinear'}\n"
          ]
        }
      ],
      "source": [
        "# create logistic regression classifier\n",
        "lr = LogisticRegression()\n",
        "\n",
        "# define parameter grid\n",
        "param_grid = {\n",
        "    'C': [0.001, 0.01, 0.1, 1, 10, 100],\n",
        "    'penalty': ['l1', 'l2'],\n",
        "    'solver': ['liblinear', 'saga']\n",
        "}\n",
        "\n",
        "# perform grid search\n",
        "grid_search = GridSearchCV(lr, param_grid, cv=5)\n",
        "grid_search.fit(X_train31, y_train31)\n",
        "\n",
        "# print optimal parameters\n",
        "print(grid_search.best_params_)"
      ]
    },
    {
      "cell_type": "code",
      "execution_count": null,
      "metadata": {
        "colab": {
          "background_save": true
        },
        "id": "z91-ZqtUpj5A",
        "outputId": "ebce9cd3-f060-4f2f-9fc4-acb14959c49e"
      },
      "outputs": [
        {
          "name": "stderr",
          "output_type": "stream",
          "text": [
            "/usr/local/lib/python3.9/dist-packages/sklearn/model_selection/_validation.py:378: FitFailedWarning: \n",
            "120 fits failed out of a total of 150.\n",
            "The score on these train-test partitions for these parameters will be set to nan.\n",
            "If these failures are not expected, you can try to debug them by setting error_score='raise'.\n",
            "\n",
            "Below are more details about the failures:\n",
            "--------------------------------------------------------------------------------\n",
            "20 fits failed with the following error:\n",
            "Traceback (most recent call last):\n",
            "  File \"/usr/local/lib/python3.9/dist-packages/sklearn/model_selection/_validation.py\", line 686, in _fit_and_score\n",
            "    estimator.fit(X_train, y_train, **fit_params)\n",
            "  File \"/usr/local/lib/python3.9/dist-packages/sklearn/discriminant_analysis.py\", line 615, in fit\n",
            "    raise NotImplementedError(\"shrinkage not supported with 'svd' solver.\")\n",
            "NotImplementedError: shrinkage not supported with 'svd' solver.\n",
            "\n",
            "--------------------------------------------------------------------------------\n",
            "100 fits failed with the following error:\n",
            "Traceback (most recent call last):\n",
            "  File \"/usr/local/lib/python3.9/dist-packages/sklearn/model_selection/_validation.py\", line 686, in _fit_and_score\n",
            "    estimator.fit(X_train, y_train, **fit_params)\n",
            "  File \"/usr/local/lib/python3.9/dist-packages/sklearn/discriminant_analysis.py\", line 608, in fit\n",
            "    raise ValueError(\n",
            "ValueError: n_components cannot be larger than min(n_features, n_classes - 1).\n",
            "\n",
            "  warnings.warn(some_fits_failed_message, FitFailedWarning)\n",
            "/usr/local/lib/python3.9/dist-packages/sklearn/model_selection/_search.py:952: UserWarning: One or more of the test scores are non-finite: [0.99957082 0.50579399        nan 0.99892704        nan 0.99892704\n",
            "        nan 0.99828326        nan 0.99613734        nan        nan\n",
            "        nan        nan        nan        nan        nan        nan\n",
            "        nan        nan        nan        nan        nan        nan\n",
            "        nan        nan        nan        nan        nan        nan]\n",
            "  warnings.warn(\n"
          ]
        },
        {
          "name": "stdout",
          "output_type": "stream",
          "text": [
            "{'n_components': 1, 'shrinkage': None, 'solver': 'svd'}\n"
          ]
        }
      ],
      "source": [
        "# create LDA classifier\n",
        "lda = LinearDiscriminantAnalysis()\n",
        "\n",
        "# define parameter grid\n",
        "param_grid = {\n",
        "    'solver': ['svd', 'lsqr'],\n",
        "    'shrinkage': [None, 'auto', 0.1, 0.5, 0.9],\n",
        "    'n_components': [1, 2, 3]\n",
        "}\n",
        "\n",
        "# perform grid search\n",
        "grid_search = GridSearchCV(lda, param_grid, cv=5)\n",
        "grid_search.fit(X_train31, y_train31)\n",
        "\n",
        "# print optimal parameters\n",
        "print(grid_search.best_params_)"
      ]
    },
    {
      "cell_type": "code",
      "execution_count": null,
      "metadata": {
        "colab": {
          "background_save": true
        },
        "id": "MELY4Lbcp-FN",
        "outputId": "d7237f4b-bb1d-423a-f139-8f4750aca584"
      },
      "outputs": [
        {
          "name": "stdout",
          "output_type": "stream",
          "text": [
            "{'metric': 'manhattan', 'n_neighbors': 1, 'weights': 'uniform'}\n"
          ]
        }
      ],
      "source": [
        "# create KNN classifier\n",
        "knn = KNeighborsClassifier()\n",
        "\n",
        "# define parameter grid\n",
        "param_grid = {\n",
        "    'n_neighbors': [1, 3, 5, 7, 9],\n",
        "    'weights': ['uniform', 'distance'],\n",
        "    'metric': ['euclidean', 'manhattan']\n",
        "}\n",
        "\n",
        "# perform grid search\n",
        "grid_search = GridSearchCV(knn, param_grid, cv=5)\n",
        "grid_search.fit(X_train31, y_train31)\n",
        "\n",
        "# print optimal parameters\n",
        "print(grid_search.best_params_)"
      ]
    },
    {
      "cell_type": "code",
      "execution_count": null,
      "metadata": {
        "colab": {
          "background_save": true
        },
        "id": "R4W4sX1Fp5Z9",
        "outputId": "5ced43af-44a2-4c67-bd88-f91079ead016"
      },
      "outputs": [
        {
          "name": "stderr",
          "output_type": "stream",
          "text": [
            "/usr/local/lib/python3.9/dist-packages/sklearn/discriminant_analysis.py:926: UserWarning: Variables are collinear\n",
            "  warnings.warn(\"Variables are collinear\")\n",
            "/usr/local/lib/python3.9/dist-packages/sklearn/discriminant_analysis.py:926: UserWarning: Variables are collinear\n",
            "  warnings.warn(\"Variables are collinear\")\n",
            "/usr/local/lib/python3.9/dist-packages/sklearn/discriminant_analysis.py:926: UserWarning: Variables are collinear\n",
            "  warnings.warn(\"Variables are collinear\")\n",
            "/usr/local/lib/python3.9/dist-packages/sklearn/discriminant_analysis.py:926: UserWarning: Variables are collinear\n",
            "  warnings.warn(\"Variables are collinear\")\n",
            "/usr/local/lib/python3.9/dist-packages/sklearn/discriminant_analysis.py:926: UserWarning: Variables are collinear\n",
            "  warnings.warn(\"Variables are collinear\")\n",
            "/usr/local/lib/python3.9/dist-packages/sklearn/discriminant_analysis.py:926: UserWarning: Variables are collinear\n",
            "  warnings.warn(\"Variables are collinear\")\n",
            "/usr/local/lib/python3.9/dist-packages/sklearn/discriminant_analysis.py:926: UserWarning: Variables are collinear\n",
            "  warnings.warn(\"Variables are collinear\")\n",
            "/usr/local/lib/python3.9/dist-packages/sklearn/discriminant_analysis.py:926: UserWarning: Variables are collinear\n",
            "  warnings.warn(\"Variables are collinear\")\n",
            "/usr/local/lib/python3.9/dist-packages/sklearn/discriminant_analysis.py:926: UserWarning: Variables are collinear\n",
            "  warnings.warn(\"Variables are collinear\")\n",
            "/usr/local/lib/python3.9/dist-packages/sklearn/discriminant_analysis.py:926: UserWarning: Variables are collinear\n",
            "  warnings.warn(\"Variables are collinear\")\n",
            "/usr/local/lib/python3.9/dist-packages/sklearn/discriminant_analysis.py:926: UserWarning: Variables are collinear\n",
            "  warnings.warn(\"Variables are collinear\")\n",
            "/usr/local/lib/python3.9/dist-packages/sklearn/discriminant_analysis.py:926: UserWarning: Variables are collinear\n",
            "  warnings.warn(\"Variables are collinear\")\n",
            "/usr/local/lib/python3.9/dist-packages/sklearn/discriminant_analysis.py:926: UserWarning: Variables are collinear\n",
            "  warnings.warn(\"Variables are collinear\")\n",
            "/usr/local/lib/python3.9/dist-packages/sklearn/discriminant_analysis.py:926: UserWarning: Variables are collinear\n",
            "  warnings.warn(\"Variables are collinear\")\n",
            "/usr/local/lib/python3.9/dist-packages/sklearn/discriminant_analysis.py:926: UserWarning: Variables are collinear\n",
            "  warnings.warn(\"Variables are collinear\")\n",
            "/usr/local/lib/python3.9/dist-packages/sklearn/discriminant_analysis.py:926: UserWarning: Variables are collinear\n",
            "  warnings.warn(\"Variables are collinear\")\n",
            "/usr/local/lib/python3.9/dist-packages/sklearn/discriminant_analysis.py:926: UserWarning: Variables are collinear\n",
            "  warnings.warn(\"Variables are collinear\")\n",
            "/usr/local/lib/python3.9/dist-packages/sklearn/discriminant_analysis.py:926: UserWarning: Variables are collinear\n",
            "  warnings.warn(\"Variables are collinear\")\n",
            "/usr/local/lib/python3.9/dist-packages/sklearn/discriminant_analysis.py:926: UserWarning: Variables are collinear\n",
            "  warnings.warn(\"Variables are collinear\")\n",
            "/usr/local/lib/python3.9/dist-packages/sklearn/discriminant_analysis.py:926: UserWarning: Variables are collinear\n",
            "  warnings.warn(\"Variables are collinear\")\n",
            "/usr/local/lib/python3.9/dist-packages/sklearn/discriminant_analysis.py:926: UserWarning: Variables are collinear\n",
            "  warnings.warn(\"Variables are collinear\")\n"
          ]
        },
        {
          "name": "stdout",
          "output_type": "stream",
          "text": [
            "{'reg_param': 0.1}\n"
          ]
        }
      ],
      "source": [
        "# create QDA classifier\n",
        "qda = QuadraticDiscriminantAnalysis()\n",
        "\n",
        "# define parameter grid\n",
        "param_grid = {\n",
        "    'reg_param': [0.0, 0.1, 0.5, 0.9]\n",
        "}\n",
        "\n",
        "# perform grid search\n",
        "grid_search = GridSearchCV(qda, param_grid, cv=5)\n",
        "grid_search.fit(X_train31, y_train31)\n",
        "\n",
        "# print optimal parameters\n",
        "print(grid_search.best_params_)"
      ]
    },
    {
      "cell_type": "code",
      "execution_count": null,
      "metadata": {
        "colab": {
          "background_save": true
        },
        "id": "U12fhU7iquQk",
        "outputId": "e82d3ba6-3315-4d58-9322-8f6e181629a6"
      },
      "outputs": [
        {
          "name": "stdout",
          "output_type": "stream",
          "text": [
            "Best hyperparameters: {'class_weight': 'balanced', 'max_depth': 10, 'n_jobs': -1, 'random_state': 456}\n",
            "Validation score: 1.00\n"
          ]
        }
      ],
      "source": [
        "# Define the parameter grid to search over\n",
        "param_grid = {\n",
        "    'max_depth': [5, 10, 20],\n",
        "    'class_weight': [None, 'balanced'],\n",
        "    'n_jobs': [-1, 1, 2],\n",
        "    'random_state': [0,42, 123, 456]\n",
        "}\n",
        "\n",
        "# Create the random forest classifier\n",
        "clf = RandomForestClassifier()\n",
        "\n",
        "# Perform the grid search using cross-validation\n",
        "grid_search = GridSearchCV(clf, param_grid, cv=5)\n",
        "grid_search.fit(X_train31, y_train31)\n",
        "\n",
        "# Print the best hyperparameters and the corresponding validation score\n",
        "print(f\"Best hyperparameters: {grid_search.best_params_}\")\n",
        "print(f\"Validation score: {grid_search.best_score_:.2f}\")"
      ]
    },
    {
      "cell_type": "code",
      "execution_count": null,
      "metadata": {
        "colab": {
          "background_save": true
        },
        "id": "jxJrGr1uq6dB",
        "outputId": "67324333-4a9d-4b14-d4de-c994e2b22152"
      },
      "outputs": [
        {
          "name": "stdout",
          "output_type": "stream",
          "text": [
            "{'C': 0.1, 'gamma': 0.1, 'kernel': 'poly'}\n"
          ]
        }
      ],
      "source": [
        "# define parameter grid\n",
        "param_grid = {'C': [0.1, 1, 10, 100], 'gamma': [0.1, 1, 10, 100], 'kernel':['linear', 'poly', 'rbf', 'sigmoid']}\n",
        "\n",
        "# create SVM classifier\n",
        "svc = SVC()\n",
        "\n",
        "# perform grid search\n",
        "grid_search = GridSearchCV(svc, param_grid, cv=5)\n",
        "grid_search.fit(X_train31, y_train31)\n",
        "\n",
        "# print optimal parameters\n",
        "print(grid_search.best_params_)"
      ]
    },
    {
      "cell_type": "markdown",
      "metadata": {
        "id": "WQ1eFk6uOkuQ"
      },
      "source": [
        "**Step 5: Training data evaluation**"
      ]
    },
    {
      "cell_type": "code",
      "execution_count": null,
      "metadata": {
        "colab": {
          "background_save": true
        },
        "id": "2s6XSn8vo8Nj",
        "outputId": "89b39cc0-7dec-43cc-b2a8-c05fc4831f21"
      },
      "outputs": [
        {
          "name": "stderr",
          "output_type": "stream",
          "text": [
            "/usr/local/lib/python3.9/dist-packages/sklearn/svm/_base.py:1244: ConvergenceWarning: Liblinear failed to converge, increase the number of iterations.\n",
            "  warnings.warn(\n",
            "/usr/local/lib/python3.9/dist-packages/sklearn/discriminant_analysis.py:926: UserWarning: Variables are collinear\n",
            "  warnings.warn(\"Variables are collinear\")\n",
            "/usr/local/lib/python3.9/dist-packages/sklearn/svm/_base.py:1244: ConvergenceWarning: Liblinear failed to converge, increase the number of iterations.\n",
            "  warnings.warn(\n",
            "/usr/local/lib/python3.9/dist-packages/sklearn/discriminant_analysis.py:926: UserWarning: Variables are collinear\n",
            "  warnings.warn(\"Variables are collinear\")\n",
            "/usr/local/lib/python3.9/dist-packages/sklearn/svm/_base.py:1244: ConvergenceWarning: Liblinear failed to converge, increase the number of iterations.\n",
            "  warnings.warn(\n",
            "/usr/local/lib/python3.9/dist-packages/sklearn/svm/_base.py:1244: ConvergenceWarning: Liblinear failed to converge, increase the number of iterations.\n",
            "  warnings.warn(\n",
            "/usr/local/lib/python3.9/dist-packages/sklearn/discriminant_analysis.py:926: UserWarning: Variables are collinear\n",
            "  warnings.warn(\"Variables are collinear\")\n"
          ]
        },
        {
          "name": "stdout",
          "output_type": "stream",
          "text": [
            "svm0 Classifier accuracy: 0.9996781461216607\n",
            "svm3 Classifier accuracy: 0.9996781461216607\n",
            "svm4 Classifier accuracy: 1.0\n",
            "svm5 Classifier accuracy: 0.9993562922433216\n",
            "svm6 Classifier accuracy: 0.9893788220148053\n",
            "dt Classifier accuracy: 0.9967814612166077\n",
            "nb Classifier accuracy: 0.9874476987447699\n",
            "K-Nearest Neighbors Classifier accuracy: 0.9980688767299646\n",
            "Logistic Regression Classifier accuracy: 1.0\n",
            "lda Classifier accuracy: 0.9996781461216607\n",
            "qda Classifier accuracy: 0.9993562922433216\n",
            "clf Classifier accuracy: 0.9996781461216607\n",
            "ensemble Classifier accuracy: 0.9996781461216607\n",
            "ensemble2 Classifier accuracy: 0.9996781461216607\n",
            "ensemble3 Classifier accuracy: 0.9996781461216607\n"
          ]
        }
      ],
      "source": [
        "# Build multiple classifiers\n",
        "svm0 = LinearSVC()\n",
        "dt = DecisionTreeClassifier( max_depth=4, min_samples_leaf= 2,min_samples_split= 4)\n",
        "nb = GaussianNB()\n",
        "knn = KNeighborsClassifier(algorithm = 'brute', n_jobs=-1)\n",
        "lr = LogisticRegression(C= 1, penalty= 'l2', solver='liblinear')\n",
        "# adab = AdaBoostClassifier(base_estimator=DecisionTreeClassifier(max_depth=1), n_estimators=100)\n",
        "lda = LinearDiscriminantAnalysis(n_components=1, shrinkage=None, solver='svd')\n",
        "qda = QuadraticDiscriminantAnalysis(reg_param= 0.1)\n",
        "#xgb = xgb.XGBClassifier()\n",
        "svm2 = SVC(random_state=0)\n",
        "clf = RandomForestClassifier(max_depth=10, n_jobs=-1, random_state=0)\n",
        "svm3 = SVC(C=0.1,gamma=0.1,kernel='linear')\n",
        "svm4 = SVC(kernel='poly')\n",
        "svm5 = SVC(kernel='rbf')\n",
        "svm6 = SVC(kernel='sigmoid')\n",
        "# Define the ensemble classifier\n",
        "ensemble = VotingClassifier(estimators=[('dt', svm0), ('lr', svm3), ('svm', svm4)], voting='hard')\n",
        "# Define the ensemble classifier\n",
        "ensemble2 = VotingClassifier(estimators=[('dt', dt ), ('lr', lr), ('knn', knn ), ('lda', lda), ('qda', qda),('svm6', svm6), ('nb', nb),('clf', clf),('svm0', svm0) ,('svm2', svm2),('svm3',svm3),('svm4', svm4 )], voting='hard')\n",
        "ensemble3 = VotingClassifier(estimators=[('dt', dt ), ('lr', lr), ('svm', svm0),('nb',nb),('knn', knn ), ('lda', lda), ('qda', qda), ('svm2', svm2),('svm3',svm3),('svm4', svm4 ), ('svm5', svm5), ('svm6', svm6)], voting='hard')\n",
        "\n",
        "# Train the classifiers on the training set\n",
        "svm0.fit(X_train31, y_train31)\n",
        "svm3.fit(X_train31, y_train31)\n",
        "svm4.fit(X_train31, y_train31)\n",
        "svm5.fit(X_train31, y_train31)\n",
        "svm6.fit(X_train31, y_train31)\n",
        "\n",
        "dt.fit(X_train31, y_train31)\n",
        "nb.fit(X_train31, y_train31)\n",
        "knn.fit(X_train31, y_train31)\n",
        "lr.fit(X_train31, y_train31)\n",
        "#adab.fit(X_train32, y_train32)\n",
        "lda.fit(X_train31, y_train31)\n",
        "qda.fit(X_train31, y_train31)\n",
        "#xgb.fit(X_train31, y_train31)\n",
        "clf.fit(X_train31, y_train31)\n",
        "ensemble.fit(X_train31, y_train31)\n",
        "ensemble2.fit(X_train31, y_train31)\n",
        "ensemble3.fit(X_train31, y_train31)\n",
        "# Predict the test set using the trained classifiers\n",
        "svm0_pred = svm0.predict(X_test31)\n",
        "svm3_pred = svm3.predict(X_test31)\n",
        "svm4_pred = svm4.predict(X_test31)\n",
        "svm5_pred = svm5.predict(X_test31)\n",
        "svm6_pred = svm6.predict(X_test31)\n",
        "\n",
        "dt_pred = dt.predict(X_test31)\n",
        "nb_pred = nb.predict(X_test31)\n",
        "knn_pred = knn.predict(X_test31)\n",
        "lr_pred = lr.predict(X_test31)\n",
        "#adab_pred = adab.predict(X_test32)\n",
        "lda_pred = lda.predict(X_test31)\n",
        "qda_pred = qda.predict(X_test31)\n",
        "#xgb_pred = xgb.predict(X_test31)\n",
        "clf_pred = clf.predict(X_test31)\n",
        "ensemble_pred = ensemble.predict(X_test31)\n",
        "ensemble_pred2 = ensemble2.predict(X_test31)\n",
        "ensemble_pred3 = ensemble3.predict(X_test31)\n",
        "# Evaluate the accuracy of each classifier on the test set\n",
        "svm0_acc = accuracy_score(y_test31, svm0_pred)\n",
        "svm3_acc = accuracy_score(y_test31, svm3_pred)\n",
        "svm4_acc = accuracy_score(y_test31, svm4_pred)\n",
        "svm5_acc = accuracy_score(y_test31, svm5_pred)\n",
        "svm6_acc = accuracy_score(y_test31, svm6_pred)\n",
        "\n",
        "dt_acc = accuracy_score(y_test31, dt_pred)\n",
        "nb_acc = accuracy_score(y_test31, nb_pred)\n",
        "knn_acc = accuracy_score(y_test31, knn_pred)\n",
        "lr_acc = accuracy_score(y_test31, lr_pred)\n",
        "#adab_acc = accuracy_score(y_test32, adab_pred)\n",
        "lda_acc = accuracy_score(y_test31, lda_pred)\n",
        "qda_acc = accuracy_score(y_test31, qda_pred)\n",
        "#xgb_acc = accuracy_score(y_test31, xgb_pred)\n",
        "clf_acc = accuracy_score(y_test31, clf_pred)\n",
        "ensemble_acc = accuracy_score(y_test31, ensemble_pred)\n",
        "ensemble_acc2 = accuracy_score(y_test31, ensemble_pred2)\n",
        "ensemble_acc3 = accuracy_score(y_test31, ensemble_pred3)\n",
        "\n",
        "print('svm0 Classifier accuracy:', svm0_acc)\n",
        "print('svm3 Classifier accuracy:', svm3_acc)\n",
        "print('svm4 Classifier accuracy:', svm4_acc)\n",
        "print('svm5 Classifier accuracy:', svm5_acc)\n",
        "print('svm6 Classifier accuracy:', svm6_acc)\n",
        "\n",
        "print('dt Classifier accuracy:', dt_acc)\n",
        "print('nb Classifier accuracy:', nb_acc)\n",
        "print('K-Nearest Neighbors Classifier accuracy:', knn_acc)\n",
        "print('Logistic Regression Classifier accuracy:', lr_acc)\n",
        "#print('adab Classifier accuracy:', adab_acc)\n",
        "print('lda Classifier accuracy:', lda_acc)\n",
        "print('qda Classifier accuracy:', qda_acc)\n",
        "#print('xgb Classifier accuracy:', xgb_acc)\n",
        "print('clf Classifier accuracy:', clf_acc)\n",
        "print('ensemble Classifier accuracy:', ensemble_acc)\n",
        "print('ensemble2 Classifier accuracy:', ensemble_acc2)\n",
        "print('ensemble3 Classifier accuracy:', ensemble_acc3)"
      ]
    },
    {
      "cell_type": "code",
      "execution_count": null,
      "metadata": {
        "colab": {
          "base_uri": "https://localhost:8080/"
        },
        "id": "jWOLbAeiqJX8",
        "outputId": "2b5f807e-c357-4eca-9b50-cce0a1a11b80"
      },
      "outputs": [
        {
          "name": "stdout",
          "output_type": "stream",
          "text": [
            "bg Classifier accuracy: 0.9977470228516253\n"
          ]
        }
      ],
      "source": [
        "# max_samples: maximum size 0.5=50% of each sample taken from the full dataset\n",
        "# max_features: maximum of features 1=100% taken here all 10K \n",
        "# n_estimators: number of decision trees \n",
        "bg=BaggingClassifier(DecisionTreeClassifier(),max_samples=0.5,max_features=1.0,n_estimators=10)\n",
        "bg.fit(X_train31, y_train31)\n",
        "bg_pred = bg.predict(X_test31)\n",
        "bg_acc = accuracy_score(y_test31, bg_pred)\n",
        "print('bg Classifier accuracy:', bg_acc)"
      ]
    },
    {
      "cell_type": "code",
      "execution_count": null,
      "metadata": {
        "colab": {
          "base_uri": "https://localhost:8080/"
        },
        "id": "uNJEKUDhqQ3i",
        "outputId": "ed2ffe21-418e-4d54-8e29-904a805177e5"
      },
      "outputs": [
        {
          "name": "stdout",
          "output_type": "stream",
          "text": [
            "adb Classifier accuracy: 0.9993562922433216\n"
          ]
        }
      ],
      "source": [
        "adb = AdaBoostClassifier(DecisionTreeClassifier(min_samples_split=10,max_depth=4),n_estimators=10,learning_rate=0.6)\n",
        "adb.fit(X_train31, y_train31)\n",
        "adb_pred = adb.predict(X_test31)\n",
        "adb_acc = accuracy_score(y_test31, adb_pred)\n",
        "print('adb Classifier accuracy:', adb_acc)"
      ]
    },
    {
      "cell_type": "code",
      "execution_count": null,
      "metadata": {
        "colab": {
          "base_uri": "https://localhost:8080/"
        },
        "id": "9UxvNGwgqmqz",
        "outputId": "c5c2494d-fe7c-4719-aa2a-022535c0ae97"
      },
      "outputs": [
        {
          "name": "stdout",
          "output_type": "stream",
          "text": [
            "rf Classifier accuracy: 0.9996781461216607\n"
          ]
        }
      ],
      "source": [
        "rf = RandomForestClassifier(max_depth=10, n_jobs=-1, random_state=0)\n",
        "rf.fit(X_train31, y_train31)\n",
        "rf_pred = rf.predict(X_test31)\n",
        "rf_acc = accuracy_score(y_test31, rf_pred)\n",
        "print('rf Classifier accuracy:', rf_acc)"
      ]
    },
    {
      "cell_type": "code",
      "execution_count": null,
      "metadata": {
        "colab": {
          "base_uri": "https://localhost:8080/"
        },
        "id": "A_LPFtuPyI-o",
        "outputId": "11ba87db-a348-4f54-9f36-bcc1b2d4eb93"
      },
      "outputs": [
        {
          "name": "stdout",
          "output_type": "stream",
          "text": [
            "Accuracy: 1.0\n"
          ]
        }
      ],
      "source": [
        "# Create a Gaussian Process Classifier with RBF kernel\n",
        "kernel = 1.0 * RBF(length_scale=1.0)\n",
        "clf = GaussianProcessClassifier(kernel=kernel, random_state=42)\n",
        "\n",
        "# Train the classifier on the training data\n",
        "clf.fit(X_train31, y_train31)\n",
        "\n",
        "# Predict the class labels for the test data\n",
        "y_pred = clf.predict(X_test31)\n",
        "\n",
        "# Evaluate the performance of the classifier\n",
        "accuracy = accuracy_score(y_test31, y_pred)\n",
        "print(f\"Accuracy: {accuracy}\")"
      ]
    },
    {
      "cell_type": "code",
      "execution_count": null,
      "metadata": {
        "id": "Dbpo50zAN4AQ"
      },
      "outputs": [],
      "source": [
        "# create a Gradient Boosting Classifier\n",
        "gb_classifier = GradientBoostingClassifier(n_estimators=100, learning_rate=0.1, max_depth=3)\n",
        "\n",
        "# train the model on the training set\n",
        "gb_classifier.fit(X_train31, y_train31)\n",
        "\n",
        "# make predictions on the testing set\n",
        "y_pred = gb_classifier.predict(X_test31)\n",
        "\n",
        "# evaluate the model\n",
        "accuracy = accuracy_score(y_test31, y_pred)\n",
        "report = classification_report(y_test31, y_pred)\n",
        "\n",
        "print(f\"Accuracy: {accuracy}\")"
      ]
    },
    {
      "cell_type": "code",
      "execution_count": null,
      "metadata": {
        "colab": {
          "base_uri": "https://localhost:8080/"
        },
        "id": "fca4zKN_yOwc",
        "outputId": "44b8b08e-6884-4850-e175-45800f171359"
      },
      "outputs": [
        {
          "name": "stderr",
          "output_type": "stream",
          "text": [
            "/usr/local/lib/python3.9/dist-packages/sklearn/linear_model/_stochastic_gradient.py:163: FutureWarning: The loss 'log' was deprecated in v1.1 and will be removed in version 1.3. Use `loss='log_loss'` which is equivalent.\n",
            "  warnings.warn(\n"
          ]
        },
        {
          "name": "stdout",
          "output_type": "stream",
          "text": [
            "Accuracy: 0.9996781461216607\n"
          ]
        }
      ],
      "source": [
        "# Create an SGD Classifier with logistic loss function\n",
        "clf = SGDClassifier(loss='log', penalty='l2', max_iter=1000, random_state=42)\n",
        "\n",
        "# Train the classifier on the training data\n",
        "clf.fit(X_train31, y_train31)\n",
        "\n",
        "# Predict the class labels for the test data\n",
        "y_pred = clf.predict(X_test31)\n",
        "\n",
        "# Evaluate the performance of the classifier\n",
        "accuracy = accuracy_score(y_test31, y_pred)\n",
        "print(f\"Accuracy: {accuracy}\")"
      ]
    },
    {
      "cell_type": "code",
      "execution_count": null,
      "metadata": {
        "colab": {
          "base_uri": "https://localhost:8080/"
        },
        "id": "FiixeaNXzaYF",
        "outputId": "8ff794c7-7ec9-48e0-e2a4-649fd071ed23"
      },
      "outputs": [
        {
          "name": "stdout",
          "output_type": "stream",
          "text": [
            "Fitting 5 folds for each of 162 candidates, totalling 810 fits\n",
            "[CV] END alpha=0.0001, learning_rate=constant, loss=log, max_iter=1000, penalty=l1; total time=   0.1s\n",
            "[CV] END alpha=0.0001, learning_rate=constant, loss=log, max_iter=1000, penalty=l1; total time=   0.1s\n",
            "[CV] END alpha=0.0001, learning_rate=constant, loss=log, max_iter=1000, penalty=l1; total time=   0.1s\n",
            "[CV] END alpha=0.0001, learning_rate=constant, loss=log, max_iter=1000, penalty=l1; total time=   0.1s\n",
            "[CV] END alpha=0.0001, learning_rate=constant, loss=log, max_iter=1000, penalty=l1; total time=   0.1s\n",
            "[CV] END alpha=0.0001, learning_rate=constant, loss=log, max_iter=1000, penalty=l2; total time=   0.1s\n",
            "[CV] END alpha=0.0001, learning_rate=constant, loss=log, max_iter=1000, penalty=l2; total time=   0.1s\n",
            "[CV] END alpha=0.0001, learning_rate=constant, loss=log, max_iter=1000, penalty=l2; total time=   0.1s\n",
            "[CV] END alpha=0.0001, learning_rate=constant, loss=log, max_iter=1000, penalty=l2; total time=   0.1s\n",
            "[CV] END alpha=0.0001, learning_rate=constant, loss=log, max_iter=1000, penalty=l2; total time=   0.1s\n",
            "[CV] END alpha=0.0001, learning_rate=constant, loss=log, max_iter=1000, penalty=elasticnet; total time=   0.2s\n",
            "[CV] END alpha=0.0001, learning_rate=constant, loss=log, max_iter=1000, penalty=elasticnet; total time=   0.1s\n",
            "[CV] END alpha=0.0001, learning_rate=constant, loss=log, max_iter=1000, penalty=elasticnet; total time=   0.1s\n",
            "[CV] END alpha=0.0001, learning_rate=constant, loss=log, max_iter=1000, penalty=elasticnet; total time=   0.1s\n",
            "[CV] END alpha=0.0001, learning_rate=constant, loss=log, max_iter=1000, penalty=elasticnet; total time=   0.2s\n",
            "[CV] END alpha=0.0001, learning_rate=constant, loss=log, max_iter=2000, penalty=l1; total time=   0.1s\n",
            "[CV] END alpha=0.0001, learning_rate=constant, loss=log, max_iter=2000, penalty=l1; total time=   0.1s\n",
            "[CV] END alpha=0.0001, learning_rate=constant, loss=log, max_iter=2000, penalty=l1; total time=   0.1s\n",
            "[CV] END alpha=0.0001, learning_rate=constant, loss=log, max_iter=2000, penalty=l1; total time=   0.1s\n",
            "[CV] END alpha=0.0001, learning_rate=constant, loss=log, max_iter=2000, penalty=l1; total time=   0.1s\n",
            "[CV] END alpha=0.0001, learning_rate=constant, loss=log, max_iter=2000, penalty=l2; total time=   0.1s\n",
            "[CV] END alpha=0.0001, learning_rate=constant, loss=log, max_iter=2000, penalty=l2; total time=   0.1s\n",
            "[CV] END alpha=0.0001, learning_rate=constant, loss=log, max_iter=2000, penalty=l2; total time=   0.1s\n",
            "[CV] END alpha=0.0001, learning_rate=constant, loss=log, max_iter=2000, penalty=l2; total time=   0.1s\n",
            "[CV] END alpha=0.0001, learning_rate=constant, loss=log, max_iter=2000, penalty=l2; total time=   0.1s\n",
            "[CV] END alpha=0.0001, learning_rate=constant, loss=log, max_iter=2000, penalty=elasticnet; total time=   0.1s\n",
            "[CV] END alpha=0.0001, learning_rate=constant, loss=log, max_iter=2000, penalty=elasticnet; total time=   0.1s\n",
            "[CV] END alpha=0.0001, learning_rate=constant, loss=log, max_iter=2000, penalty=elasticnet; total time=   0.1s\n",
            "[CV] END alpha=0.0001, learning_rate=constant, loss=log, max_iter=2000, penalty=elasticnet; total time=   0.1s\n",
            "[CV] END alpha=0.0001, learning_rate=constant, loss=log, max_iter=2000, penalty=elasticnet; total time=   0.1s\n",
            "[CV] END alpha=0.0001, learning_rate=constant, loss=log, max_iter=3000, penalty=l1; total time=   0.1s\n",
            "[CV] END alpha=0.0001, learning_rate=constant, loss=log, max_iter=3000, penalty=l1; total time=   0.1s\n",
            "[CV] END alpha=0.0001, learning_rate=constant, loss=log, max_iter=3000, penalty=l1; total time=   0.1s\n",
            "[CV] END alpha=0.0001, learning_rate=constant, loss=log, max_iter=3000, penalty=l1; total time=   0.1s\n",
            "[CV] END alpha=0.0001, learning_rate=constant, loss=log, max_iter=3000, penalty=l1; total time=   0.1s\n",
            "[CV] END alpha=0.0001, learning_rate=constant, loss=log, max_iter=3000, penalty=l2; total time=   0.1s\n",
            "[CV] END alpha=0.0001, learning_rate=constant, loss=log, max_iter=3000, penalty=l2; total time=   0.1s\n",
            "[CV] END alpha=0.0001, learning_rate=constant, loss=log, max_iter=3000, penalty=l2; total time=   0.1s\n",
            "[CV] END alpha=0.0001, learning_rate=constant, loss=log, max_iter=3000, penalty=l2; total time=   0.1s\n",
            "[CV] END alpha=0.0001, learning_rate=constant, loss=log, max_iter=3000, penalty=l2; total time=   0.1s\n",
            "[CV] END alpha=0.0001, learning_rate=constant, loss=log, max_iter=3000, penalty=elasticnet; total time=   0.1s\n",
            "[CV] END alpha=0.0001, learning_rate=constant, loss=log, max_iter=3000, penalty=elasticnet; total time=   0.1s\n",
            "[CV] END alpha=0.0001, learning_rate=constant, loss=log, max_iter=3000, penalty=elasticnet; total time=   0.1s\n",
            "[CV] END alpha=0.0001, learning_rate=constant, loss=log, max_iter=3000, penalty=elasticnet; total time=   0.1s\n",
            "[CV] END alpha=0.0001, learning_rate=constant, loss=log, max_iter=3000, penalty=elasticnet; total time=   0.1s\n",
            "[CV] END alpha=0.0001, learning_rate=constant, loss=hinge, max_iter=1000, penalty=l1; total time=   0.1s\n",
            "[CV] END alpha=0.0001, learning_rate=constant, loss=hinge, max_iter=1000, penalty=l1; total time=   0.1s\n",
            "[CV] END alpha=0.0001, learning_rate=constant, loss=hinge, max_iter=1000, penalty=l1; total time=   0.1s\n",
            "[CV] END alpha=0.0001, learning_rate=constant, loss=hinge, max_iter=1000, penalty=l1; total time=   0.1s\n",
            "[CV] END alpha=0.0001, learning_rate=constant, loss=hinge, max_iter=1000, penalty=l1; total time=   0.1s\n",
            "[CV] END alpha=0.0001, learning_rate=constant, loss=hinge, max_iter=1000, penalty=l2; total time=   0.1s\n",
            "[CV] END alpha=0.0001, learning_rate=constant, loss=hinge, max_iter=1000, penalty=l2; total time=   0.1s\n",
            "[CV] END alpha=0.0001, learning_rate=constant, loss=hinge, max_iter=1000, penalty=l2; total time=   0.1s\n",
            "[CV] END alpha=0.0001, learning_rate=constant, loss=hinge, max_iter=1000, penalty=l2; total time=   0.1s\n",
            "[CV] END alpha=0.0001, learning_rate=constant, loss=hinge, max_iter=1000, penalty=l2; total time=   0.1s\n",
            "[CV] END alpha=0.0001, learning_rate=constant, loss=hinge, max_iter=1000, penalty=elasticnet; total time=   0.1s\n",
            "[CV] END alpha=0.0001, learning_rate=constant, loss=hinge, max_iter=1000, penalty=elasticnet; total time=   0.1s\n",
            "[CV] END alpha=0.0001, learning_rate=constant, loss=hinge, max_iter=1000, penalty=elasticnet; total time=   0.1s\n",
            "[CV] END alpha=0.0001, learning_rate=constant, loss=hinge, max_iter=1000, penalty=elasticnet; total time=   0.1s\n",
            "[CV] END alpha=0.0001, learning_rate=constant, loss=hinge, max_iter=1000, penalty=elasticnet; total time=   0.1s\n",
            "[CV] END alpha=0.0001, learning_rate=constant, loss=hinge, max_iter=2000, penalty=l1; total time=   0.1s\n",
            "[CV] END alpha=0.0001, learning_rate=constant, loss=hinge, max_iter=2000, penalty=l1; total time=   0.1s\n",
            "[CV] END alpha=0.0001, learning_rate=constant, loss=hinge, max_iter=2000, penalty=l1; total time=   0.1s\n",
            "[CV] END alpha=0.0001, learning_rate=constant, loss=hinge, max_iter=2000, penalty=l1; total time=   0.1s\n",
            "[CV] END alpha=0.0001, learning_rate=constant, loss=hinge, max_iter=2000, penalty=l1; total time=   0.1s\n",
            "[CV] END alpha=0.0001, learning_rate=constant, loss=hinge, max_iter=2000, penalty=l2; total time=   0.1s\n",
            "[CV] END alpha=0.0001, learning_rate=constant, loss=hinge, max_iter=2000, penalty=l2; total time=   0.1s\n",
            "[CV] END alpha=0.0001, learning_rate=constant, loss=hinge, max_iter=2000, penalty=l2; total time=   0.2s\n",
            "[CV] END alpha=0.0001, learning_rate=constant, loss=hinge, max_iter=2000, penalty=l2; total time=   0.1s\n",
            "[CV] END alpha=0.0001, learning_rate=constant, loss=hinge, max_iter=2000, penalty=l2; total time=   0.1s\n",
            "[CV] END alpha=0.0001, learning_rate=constant, loss=hinge, max_iter=2000, penalty=elasticnet; total time=   0.1s\n",
            "[CV] END alpha=0.0001, learning_rate=constant, loss=hinge, max_iter=2000, penalty=elasticnet; total time=   0.1s\n",
            "[CV] END alpha=0.0001, learning_rate=constant, loss=hinge, max_iter=2000, penalty=elasticnet; total time=   0.1s\n",
            "[CV] END alpha=0.0001, learning_rate=constant, loss=hinge, max_iter=2000, penalty=elasticnet; total time=   0.1s\n",
            "[CV] END alpha=0.0001, learning_rate=constant, loss=hinge, max_iter=2000, penalty=elasticnet; total time=   0.1s\n",
            "[CV] END alpha=0.0001, learning_rate=constant, loss=hinge, max_iter=3000, penalty=l1; total time=   0.1s\n",
            "[CV] END alpha=0.0001, learning_rate=constant, loss=hinge, max_iter=3000, penalty=l1; total time=   0.1s\n",
            "[CV] END alpha=0.0001, learning_rate=constant, loss=hinge, max_iter=3000, penalty=l1; total time=   0.1s\n",
            "[CV] END alpha=0.0001, learning_rate=constant, loss=hinge, max_iter=3000, penalty=l1; total time=   0.1s\n",
            "[CV] END alpha=0.0001, learning_rate=constant, loss=hinge, max_iter=3000, penalty=l1; total time=   0.1s\n",
            "[CV] END alpha=0.0001, learning_rate=constant, loss=hinge, max_iter=3000, penalty=l2; total time=   0.1s\n",
            "[CV] END alpha=0.0001, learning_rate=constant, loss=hinge, max_iter=3000, penalty=l2; total time=   0.1s\n",
            "[CV] END alpha=0.0001, learning_rate=constant, loss=hinge, max_iter=3000, penalty=l2; total time=   0.1s\n",
            "[CV] END alpha=0.0001, learning_rate=constant, loss=hinge, max_iter=3000, penalty=l2; total time=   0.1s\n",
            "[CV] END alpha=0.0001, learning_rate=constant, loss=hinge, max_iter=3000, penalty=l2; total time=   0.1s\n",
            "[CV] END alpha=0.0001, learning_rate=constant, loss=hinge, max_iter=3000, penalty=elasticnet; total time=   0.2s\n",
            "[CV] END alpha=0.0001, learning_rate=constant, loss=hinge, max_iter=3000, penalty=elasticnet; total time=   0.1s\n",
            "[CV] END alpha=0.0001, learning_rate=constant, loss=hinge, max_iter=3000, penalty=elasticnet; total time=   0.1s\n",
            "[CV] END alpha=0.0001, learning_rate=constant, loss=hinge, max_iter=3000, penalty=elasticnet; total time=   0.1s\n",
            "[CV] END alpha=0.0001, learning_rate=constant, loss=hinge, max_iter=3000, penalty=elasticnet; total time=   0.1s\n"
          ]
        },
        {
          "name": "stderr",
          "output_type": "stream",
          "text": [
            "/usr/local/lib/python3.9/dist-packages/sklearn/linear_model/_stochastic_gradient.py:163: FutureWarning: The loss 'log' was deprecated in v1.1 and will be removed in version 1.3. Use `loss='log_loss'` which is equivalent.\n",
            "  warnings.warn(\n"
          ]
        },
        {
          "name": "stdout",
          "output_type": "stream",
          "text": [
            "[CV] END alpha=0.0001, learning_rate=optimal, loss=log, max_iter=1000, penalty=l1; total time=   1.5s\n"
          ]
        },
        {
          "name": "stderr",
          "output_type": "stream",
          "text": [
            "/usr/local/lib/python3.9/dist-packages/sklearn/linear_model/_stochastic_gradient.py:163: FutureWarning: The loss 'log' was deprecated in v1.1 and will be removed in version 1.3. Use `loss='log_loss'` which is equivalent.\n",
            "  warnings.warn(\n"
          ]
        },
        {
          "name": "stdout",
          "output_type": "stream",
          "text": [
            "[CV] END alpha=0.0001, learning_rate=optimal, loss=log, max_iter=1000, penalty=l1; total time=   1.9s\n"
          ]
        },
        {
          "name": "stderr",
          "output_type": "stream",
          "text": [
            "/usr/local/lib/python3.9/dist-packages/sklearn/linear_model/_stochastic_gradient.py:163: FutureWarning: The loss 'log' was deprecated in v1.1 and will be removed in version 1.3. Use `loss='log_loss'` which is equivalent.\n",
            "  warnings.warn(\n"
          ]
        },
        {
          "name": "stdout",
          "output_type": "stream",
          "text": [
            "[CV] END alpha=0.0001, learning_rate=optimal, loss=log, max_iter=1000, penalty=l1; total time=   1.9s\n"
          ]
        },
        {
          "name": "stderr",
          "output_type": "stream",
          "text": [
            "/usr/local/lib/python3.9/dist-packages/sklearn/linear_model/_stochastic_gradient.py:163: FutureWarning: The loss 'log' was deprecated in v1.1 and will be removed in version 1.3. Use `loss='log_loss'` which is equivalent.\n",
            "  warnings.warn(\n"
          ]
        },
        {
          "name": "stdout",
          "output_type": "stream",
          "text": [
            "[CV] END alpha=0.0001, learning_rate=optimal, loss=log, max_iter=1000, penalty=l1; total time=   3.1s\n"
          ]
        },
        {
          "name": "stderr",
          "output_type": "stream",
          "text": [
            "/usr/local/lib/python3.9/dist-packages/sklearn/linear_model/_stochastic_gradient.py:163: FutureWarning: The loss 'log' was deprecated in v1.1 and will be removed in version 1.3. Use `loss='log_loss'` which is equivalent.\n",
            "  warnings.warn(\n"
          ]
        },
        {
          "name": "stdout",
          "output_type": "stream",
          "text": [
            "[CV] END alpha=0.0001, learning_rate=optimal, loss=log, max_iter=1000, penalty=l1; total time=   2.8s\n"
          ]
        },
        {
          "name": "stderr",
          "output_type": "stream",
          "text": [
            "/usr/local/lib/python3.9/dist-packages/sklearn/linear_model/_stochastic_gradient.py:163: FutureWarning: The loss 'log' was deprecated in v1.1 and will be removed in version 1.3. Use `loss='log_loss'` which is equivalent.\n",
            "  warnings.warn(\n"
          ]
        },
        {
          "name": "stdout",
          "output_type": "stream",
          "text": [
            "[CV] END alpha=0.0001, learning_rate=optimal, loss=log, max_iter=1000, penalty=l2; total time=   3.4s\n"
          ]
        },
        {
          "name": "stderr",
          "output_type": "stream",
          "text": [
            "/usr/local/lib/python3.9/dist-packages/sklearn/linear_model/_stochastic_gradient.py:163: FutureWarning: The loss 'log' was deprecated in v1.1 and will be removed in version 1.3. Use `loss='log_loss'` which is equivalent.\n",
            "  warnings.warn(\n"
          ]
        },
        {
          "name": "stdout",
          "output_type": "stream",
          "text": [
            "[CV] END alpha=0.0001, learning_rate=optimal, loss=log, max_iter=1000, penalty=l2; total time=   1.4s\n"
          ]
        },
        {
          "name": "stderr",
          "output_type": "stream",
          "text": [
            "/usr/local/lib/python3.9/dist-packages/sklearn/linear_model/_stochastic_gradient.py:163: FutureWarning: The loss 'log' was deprecated in v1.1 and will be removed in version 1.3. Use `loss='log_loss'` which is equivalent.\n",
            "  warnings.warn(\n"
          ]
        },
        {
          "name": "stdout",
          "output_type": "stream",
          "text": [
            "[CV] END alpha=0.0001, learning_rate=optimal, loss=log, max_iter=1000, penalty=l2; total time=   0.7s\n"
          ]
        },
        {
          "name": "stderr",
          "output_type": "stream",
          "text": [
            "/usr/local/lib/python3.9/dist-packages/sklearn/linear_model/_stochastic_gradient.py:163: FutureWarning: The loss 'log' was deprecated in v1.1 and will be removed in version 1.3. Use `loss='log_loss'` which is equivalent.\n",
            "  warnings.warn(\n"
          ]
        },
        {
          "name": "stdout",
          "output_type": "stream",
          "text": [
            "[CV] END alpha=0.0001, learning_rate=optimal, loss=log, max_iter=1000, penalty=l2; total time=   0.7s\n"
          ]
        },
        {
          "name": "stderr",
          "output_type": "stream",
          "text": [
            "/usr/local/lib/python3.9/dist-packages/sklearn/linear_model/_stochastic_gradient.py:163: FutureWarning: The loss 'log' was deprecated in v1.1 and will be removed in version 1.3. Use `loss='log_loss'` which is equivalent.\n",
            "  warnings.warn(\n"
          ]
        },
        {
          "name": "stdout",
          "output_type": "stream",
          "text": [
            "[CV] END alpha=0.0001, learning_rate=optimal, loss=log, max_iter=1000, penalty=l2; total time=   0.7s\n"
          ]
        },
        {
          "name": "stderr",
          "output_type": "stream",
          "text": [
            "/usr/local/lib/python3.9/dist-packages/sklearn/linear_model/_stochastic_gradient.py:163: FutureWarning: The loss 'log' was deprecated in v1.1 and will be removed in version 1.3. Use `loss='log_loss'` which is equivalent.\n",
            "  warnings.warn(\n"
          ]
        },
        {
          "name": "stdout",
          "output_type": "stream",
          "text": [
            "[CV] END alpha=0.0001, learning_rate=optimal, loss=log, max_iter=1000, penalty=elasticnet; total time=   0.7s\n"
          ]
        },
        {
          "name": "stderr",
          "output_type": "stream",
          "text": [
            "/usr/local/lib/python3.9/dist-packages/sklearn/linear_model/_stochastic_gradient.py:163: FutureWarning: The loss 'log' was deprecated in v1.1 and will be removed in version 1.3. Use `loss='log_loss'` which is equivalent.\n",
            "  warnings.warn(\n"
          ]
        },
        {
          "name": "stdout",
          "output_type": "stream",
          "text": [
            "[CV] END alpha=0.0001, learning_rate=optimal, loss=log, max_iter=1000, penalty=elasticnet; total time=   0.8s\n"
          ]
        },
        {
          "name": "stderr",
          "output_type": "stream",
          "text": [
            "/usr/local/lib/python3.9/dist-packages/sklearn/linear_model/_stochastic_gradient.py:163: FutureWarning: The loss 'log' was deprecated in v1.1 and will be removed in version 1.3. Use `loss='log_loss'` which is equivalent.\n",
            "  warnings.warn(\n"
          ]
        },
        {
          "name": "stdout",
          "output_type": "stream",
          "text": [
            "[CV] END alpha=0.0001, learning_rate=optimal, loss=log, max_iter=1000, penalty=elasticnet; total time=   0.8s\n"
          ]
        },
        {
          "name": "stderr",
          "output_type": "stream",
          "text": [
            "/usr/local/lib/python3.9/dist-packages/sklearn/linear_model/_stochastic_gradient.py:163: FutureWarning: The loss 'log' was deprecated in v1.1 and will be removed in version 1.3. Use `loss='log_loss'` which is equivalent.\n",
            "  warnings.warn(\n"
          ]
        },
        {
          "name": "stdout",
          "output_type": "stream",
          "text": [
            "[CV] END alpha=0.0001, learning_rate=optimal, loss=log, max_iter=1000, penalty=elasticnet; total time=   0.8s\n"
          ]
        },
        {
          "name": "stderr",
          "output_type": "stream",
          "text": [
            "/usr/local/lib/python3.9/dist-packages/sklearn/linear_model/_stochastic_gradient.py:163: FutureWarning: The loss 'log' was deprecated in v1.1 and will be removed in version 1.3. Use `loss='log_loss'` which is equivalent.\n",
            "  warnings.warn(\n"
          ]
        },
        {
          "name": "stdout",
          "output_type": "stream",
          "text": [
            "[CV] END alpha=0.0001, learning_rate=optimal, loss=log, max_iter=1000, penalty=elasticnet; total time=   0.7s\n"
          ]
        },
        {
          "name": "stderr",
          "output_type": "stream",
          "text": [
            "/usr/local/lib/python3.9/dist-packages/sklearn/linear_model/_stochastic_gradient.py:163: FutureWarning: The loss 'log' was deprecated in v1.1 and will be removed in version 1.3. Use `loss='log_loss'` which is equivalent.\n",
            "  warnings.warn(\n"
          ]
        },
        {
          "name": "stdout",
          "output_type": "stream",
          "text": [
            "[CV] END alpha=0.0001, learning_rate=optimal, loss=log, max_iter=2000, penalty=l1; total time=   0.9s\n"
          ]
        },
        {
          "name": "stderr",
          "output_type": "stream",
          "text": [
            "/usr/local/lib/python3.9/dist-packages/sklearn/linear_model/_stochastic_gradient.py:163: FutureWarning: The loss 'log' was deprecated in v1.1 and will be removed in version 1.3. Use `loss='log_loss'` which is equivalent.\n",
            "  warnings.warn(\n"
          ]
        },
        {
          "name": "stdout",
          "output_type": "stream",
          "text": [
            "[CV] END alpha=0.0001, learning_rate=optimal, loss=log, max_iter=2000, penalty=l1; total time=   1.2s\n"
          ]
        },
        {
          "name": "stderr",
          "output_type": "stream",
          "text": [
            "/usr/local/lib/python3.9/dist-packages/sklearn/linear_model/_stochastic_gradient.py:163: FutureWarning: The loss 'log' was deprecated in v1.1 and will be removed in version 1.3. Use `loss='log_loss'` which is equivalent.\n",
            "  warnings.warn(\n"
          ]
        },
        {
          "name": "stdout",
          "output_type": "stream",
          "text": [
            "[CV] END alpha=0.0001, learning_rate=optimal, loss=log, max_iter=2000, penalty=l1; total time=   2.1s\n"
          ]
        },
        {
          "name": "stderr",
          "output_type": "stream",
          "text": [
            "/usr/local/lib/python3.9/dist-packages/sklearn/linear_model/_stochastic_gradient.py:163: FutureWarning: The loss 'log' was deprecated in v1.1 and will be removed in version 1.3. Use `loss='log_loss'` which is equivalent.\n",
            "  warnings.warn(\n"
          ]
        },
        {
          "name": "stdout",
          "output_type": "stream",
          "text": [
            "[CV] END alpha=0.0001, learning_rate=optimal, loss=log, max_iter=2000, penalty=l1; total time=   1.7s\n"
          ]
        },
        {
          "name": "stderr",
          "output_type": "stream",
          "text": [
            "/usr/local/lib/python3.9/dist-packages/sklearn/linear_model/_stochastic_gradient.py:163: FutureWarning: The loss 'log' was deprecated in v1.1 and will be removed in version 1.3. Use `loss='log_loss'` which is equivalent.\n",
            "  warnings.warn(\n"
          ]
        },
        {
          "name": "stdout",
          "output_type": "stream",
          "text": [
            "[CV] END alpha=0.0001, learning_rate=optimal, loss=log, max_iter=2000, penalty=l1; total time=   1.3s\n"
          ]
        },
        {
          "name": "stderr",
          "output_type": "stream",
          "text": [
            "/usr/local/lib/python3.9/dist-packages/sklearn/linear_model/_stochastic_gradient.py:163: FutureWarning: The loss 'log' was deprecated in v1.1 and will be removed in version 1.3. Use `loss='log_loss'` which is equivalent.\n",
            "  warnings.warn(\n"
          ]
        },
        {
          "name": "stdout",
          "output_type": "stream",
          "text": [
            "[CV] END alpha=0.0001, learning_rate=optimal, loss=log, max_iter=2000, penalty=l2; total time=   0.7s\n"
          ]
        },
        {
          "name": "stderr",
          "output_type": "stream",
          "text": [
            "/usr/local/lib/python3.9/dist-packages/sklearn/linear_model/_stochastic_gradient.py:163: FutureWarning: The loss 'log' was deprecated in v1.1 and will be removed in version 1.3. Use `loss='log_loss'` which is equivalent.\n",
            "  warnings.warn(\n"
          ]
        },
        {
          "name": "stdout",
          "output_type": "stream",
          "text": [
            "[CV] END alpha=0.0001, learning_rate=optimal, loss=log, max_iter=2000, penalty=l2; total time=   0.7s\n"
          ]
        },
        {
          "name": "stderr",
          "output_type": "stream",
          "text": [
            "/usr/local/lib/python3.9/dist-packages/sklearn/linear_model/_stochastic_gradient.py:163: FutureWarning: The loss 'log' was deprecated in v1.1 and will be removed in version 1.3. Use `loss='log_loss'` which is equivalent.\n",
            "  warnings.warn(\n"
          ]
        },
        {
          "name": "stdout",
          "output_type": "stream",
          "text": [
            "[CV] END alpha=0.0001, learning_rate=optimal, loss=log, max_iter=2000, penalty=l2; total time=   0.7s\n"
          ]
        },
        {
          "name": "stderr",
          "output_type": "stream",
          "text": [
            "/usr/local/lib/python3.9/dist-packages/sklearn/linear_model/_stochastic_gradient.py:163: FutureWarning: The loss 'log' was deprecated in v1.1 and will be removed in version 1.3. Use `loss='log_loss'` which is equivalent.\n",
            "  warnings.warn(\n"
          ]
        },
        {
          "name": "stdout",
          "output_type": "stream",
          "text": [
            "[CV] END alpha=0.0001, learning_rate=optimal, loss=log, max_iter=2000, penalty=l2; total time=   0.7s\n"
          ]
        },
        {
          "name": "stderr",
          "output_type": "stream",
          "text": [
            "/usr/local/lib/python3.9/dist-packages/sklearn/linear_model/_stochastic_gradient.py:163: FutureWarning: The loss 'log' was deprecated in v1.1 and will be removed in version 1.3. Use `loss='log_loss'` which is equivalent.\n",
            "  warnings.warn(\n"
          ]
        },
        {
          "name": "stdout",
          "output_type": "stream",
          "text": [
            "[CV] END alpha=0.0001, learning_rate=optimal, loss=log, max_iter=2000, penalty=l2; total time=   0.7s\n"
          ]
        },
        {
          "name": "stderr",
          "output_type": "stream",
          "text": [
            "/usr/local/lib/python3.9/dist-packages/sklearn/linear_model/_stochastic_gradient.py:163: FutureWarning: The loss 'log' was deprecated in v1.1 and will be removed in version 1.3. Use `loss='log_loss'` which is equivalent.\n",
            "  warnings.warn(\n"
          ]
        },
        {
          "name": "stdout",
          "output_type": "stream",
          "text": [
            "[CV] END alpha=0.0001, learning_rate=optimal, loss=log, max_iter=2000, penalty=elasticnet; total time=   0.7s\n"
          ]
        },
        {
          "name": "stderr",
          "output_type": "stream",
          "text": [
            "/usr/local/lib/python3.9/dist-packages/sklearn/linear_model/_stochastic_gradient.py:163: FutureWarning: The loss 'log' was deprecated in v1.1 and will be removed in version 1.3. Use `loss='log_loss'` which is equivalent.\n",
            "  warnings.warn(\n"
          ]
        },
        {
          "name": "stdout",
          "output_type": "stream",
          "text": [
            "[CV] END alpha=0.0001, learning_rate=optimal, loss=log, max_iter=2000, penalty=elasticnet; total time=   0.7s\n"
          ]
        },
        {
          "name": "stderr",
          "output_type": "stream",
          "text": [
            "/usr/local/lib/python3.9/dist-packages/sklearn/linear_model/_stochastic_gradient.py:163: FutureWarning: The loss 'log' was deprecated in v1.1 and will be removed in version 1.3. Use `loss='log_loss'` which is equivalent.\n",
            "  warnings.warn(\n"
          ]
        },
        {
          "name": "stdout",
          "output_type": "stream",
          "text": [
            "[CV] END alpha=0.0001, learning_rate=optimal, loss=log, max_iter=2000, penalty=elasticnet; total time=   0.8s\n"
          ]
        },
        {
          "name": "stderr",
          "output_type": "stream",
          "text": [
            "/usr/local/lib/python3.9/dist-packages/sklearn/linear_model/_stochastic_gradient.py:163: FutureWarning: The loss 'log' was deprecated in v1.1 and will be removed in version 1.3. Use `loss='log_loss'` which is equivalent.\n",
            "  warnings.warn(\n"
          ]
        },
        {
          "name": "stdout",
          "output_type": "stream",
          "text": [
            "[CV] END alpha=0.0001, learning_rate=optimal, loss=log, max_iter=2000, penalty=elasticnet; total time=   0.8s\n"
          ]
        },
        {
          "name": "stderr",
          "output_type": "stream",
          "text": [
            "/usr/local/lib/python3.9/dist-packages/sklearn/linear_model/_stochastic_gradient.py:163: FutureWarning: The loss 'log' was deprecated in v1.1 and will be removed in version 1.3. Use `loss='log_loss'` which is equivalent.\n",
            "  warnings.warn(\n"
          ]
        },
        {
          "name": "stdout",
          "output_type": "stream",
          "text": [
            "[CV] END alpha=0.0001, learning_rate=optimal, loss=log, max_iter=2000, penalty=elasticnet; total time=   0.8s\n"
          ]
        },
        {
          "name": "stderr",
          "output_type": "stream",
          "text": [
            "/usr/local/lib/python3.9/dist-packages/sklearn/linear_model/_stochastic_gradient.py:163: FutureWarning: The loss 'log' was deprecated in v1.1 and will be removed in version 1.3. Use `loss='log_loss'` which is equivalent.\n",
            "  warnings.warn(\n"
          ]
        },
        {
          "name": "stdout",
          "output_type": "stream",
          "text": [
            "[CV] END alpha=0.0001, learning_rate=optimal, loss=log, max_iter=3000, penalty=l1; total time=   1.4s\n"
          ]
        },
        {
          "name": "stderr",
          "output_type": "stream",
          "text": [
            "/usr/local/lib/python3.9/dist-packages/sklearn/linear_model/_stochastic_gradient.py:163: FutureWarning: The loss 'log' was deprecated in v1.1 and will be removed in version 1.3. Use `loss='log_loss'` which is equivalent.\n",
            "  warnings.warn(\n"
          ]
        },
        {
          "name": "stdout",
          "output_type": "stream",
          "text": [
            "[CV] END alpha=0.0001, learning_rate=optimal, loss=log, max_iter=3000, penalty=l1; total time=   1.6s\n"
          ]
        },
        {
          "name": "stderr",
          "output_type": "stream",
          "text": [
            "/usr/local/lib/python3.9/dist-packages/sklearn/linear_model/_stochastic_gradient.py:163: FutureWarning: The loss 'log' was deprecated in v1.1 and will be removed in version 1.3. Use `loss='log_loss'` which is equivalent.\n",
            "  warnings.warn(\n"
          ]
        },
        {
          "name": "stdout",
          "output_type": "stream",
          "text": [
            "[CV] END alpha=0.0001, learning_rate=optimal, loss=log, max_iter=3000, penalty=l1; total time=   1.3s\n"
          ]
        },
        {
          "name": "stderr",
          "output_type": "stream",
          "text": [
            "/usr/local/lib/python3.9/dist-packages/sklearn/linear_model/_stochastic_gradient.py:163: FutureWarning: The loss 'log' was deprecated in v1.1 and will be removed in version 1.3. Use `loss='log_loss'` which is equivalent.\n",
            "  warnings.warn(\n"
          ]
        },
        {
          "name": "stdout",
          "output_type": "stream",
          "text": [
            "[CV] END alpha=0.0001, learning_rate=optimal, loss=log, max_iter=3000, penalty=l1; total time=   1.3s\n"
          ]
        },
        {
          "name": "stderr",
          "output_type": "stream",
          "text": [
            "/usr/local/lib/python3.9/dist-packages/sklearn/linear_model/_stochastic_gradient.py:163: FutureWarning: The loss 'log' was deprecated in v1.1 and will be removed in version 1.3. Use `loss='log_loss'` which is equivalent.\n",
            "  warnings.warn(\n"
          ]
        },
        {
          "name": "stdout",
          "output_type": "stream",
          "text": [
            "[CV] END alpha=0.0001, learning_rate=optimal, loss=log, max_iter=3000, penalty=l1; total time=   1.3s\n"
          ]
        },
        {
          "name": "stderr",
          "output_type": "stream",
          "text": [
            "/usr/local/lib/python3.9/dist-packages/sklearn/linear_model/_stochastic_gradient.py:163: FutureWarning: The loss 'log' was deprecated in v1.1 and will be removed in version 1.3. Use `loss='log_loss'` which is equivalent.\n",
            "  warnings.warn(\n"
          ]
        },
        {
          "name": "stdout",
          "output_type": "stream",
          "text": [
            "[CV] END alpha=0.0001, learning_rate=optimal, loss=log, max_iter=3000, penalty=l2; total time=   0.7s\n"
          ]
        },
        {
          "name": "stderr",
          "output_type": "stream",
          "text": [
            "/usr/local/lib/python3.9/dist-packages/sklearn/linear_model/_stochastic_gradient.py:163: FutureWarning: The loss 'log' was deprecated in v1.1 and will be removed in version 1.3. Use `loss='log_loss'` which is equivalent.\n",
            "  warnings.warn(\n"
          ]
        },
        {
          "name": "stdout",
          "output_type": "stream",
          "text": [
            "[CV] END alpha=0.0001, learning_rate=optimal, loss=log, max_iter=3000, penalty=l2; total time=   0.7s\n"
          ]
        },
        {
          "name": "stderr",
          "output_type": "stream",
          "text": [
            "/usr/local/lib/python3.9/dist-packages/sklearn/linear_model/_stochastic_gradient.py:163: FutureWarning: The loss 'log' was deprecated in v1.1 and will be removed in version 1.3. Use `loss='log_loss'` which is equivalent.\n",
            "  warnings.warn(\n"
          ]
        },
        {
          "name": "stdout",
          "output_type": "stream",
          "text": [
            "[CV] END alpha=0.0001, learning_rate=optimal, loss=log, max_iter=3000, penalty=l2; total time=   0.7s\n"
          ]
        },
        {
          "name": "stderr",
          "output_type": "stream",
          "text": [
            "/usr/local/lib/python3.9/dist-packages/sklearn/linear_model/_stochastic_gradient.py:163: FutureWarning: The loss 'log' was deprecated in v1.1 and will be removed in version 1.3. Use `loss='log_loss'` which is equivalent.\n",
            "  warnings.warn(\n"
          ]
        },
        {
          "name": "stdout",
          "output_type": "stream",
          "text": [
            "[CV] END alpha=0.0001, learning_rate=optimal, loss=log, max_iter=3000, penalty=l2; total time=   1.0s\n"
          ]
        },
        {
          "name": "stderr",
          "output_type": "stream",
          "text": [
            "/usr/local/lib/python3.9/dist-packages/sklearn/linear_model/_stochastic_gradient.py:163: FutureWarning: The loss 'log' was deprecated in v1.1 and will be removed in version 1.3. Use `loss='log_loss'` which is equivalent.\n",
            "  warnings.warn(\n"
          ]
        },
        {
          "name": "stdout",
          "output_type": "stream",
          "text": [
            "[CV] END alpha=0.0001, learning_rate=optimal, loss=log, max_iter=3000, penalty=l2; total time=   0.8s\n"
          ]
        },
        {
          "name": "stderr",
          "output_type": "stream",
          "text": [
            "/usr/local/lib/python3.9/dist-packages/sklearn/linear_model/_stochastic_gradient.py:163: FutureWarning: The loss 'log' was deprecated in v1.1 and will be removed in version 1.3. Use `loss='log_loss'` which is equivalent.\n",
            "  warnings.warn(\n"
          ]
        },
        {
          "name": "stdout",
          "output_type": "stream",
          "text": [
            "[CV] END alpha=0.0001, learning_rate=optimal, loss=log, max_iter=3000, penalty=elasticnet; total time=   2.1s\n"
          ]
        },
        {
          "name": "stderr",
          "output_type": "stream",
          "text": [
            "/usr/local/lib/python3.9/dist-packages/sklearn/linear_model/_stochastic_gradient.py:163: FutureWarning: The loss 'log' was deprecated in v1.1 and will be removed in version 1.3. Use `loss='log_loss'` which is equivalent.\n",
            "  warnings.warn(\n"
          ]
        },
        {
          "name": "stdout",
          "output_type": "stream",
          "text": [
            "[CV] END alpha=0.0001, learning_rate=optimal, loss=log, max_iter=3000, penalty=elasticnet; total time=   2.7s\n"
          ]
        },
        {
          "name": "stderr",
          "output_type": "stream",
          "text": [
            "/usr/local/lib/python3.9/dist-packages/sklearn/linear_model/_stochastic_gradient.py:163: FutureWarning: The loss 'log' was deprecated in v1.1 and will be removed in version 1.3. Use `loss='log_loss'` which is equivalent.\n",
            "  warnings.warn(\n"
          ]
        },
        {
          "name": "stdout",
          "output_type": "stream",
          "text": [
            "[CV] END alpha=0.0001, learning_rate=optimal, loss=log, max_iter=3000, penalty=elasticnet; total time=   1.8s\n"
          ]
        },
        {
          "name": "stderr",
          "output_type": "stream",
          "text": [
            "/usr/local/lib/python3.9/dist-packages/sklearn/linear_model/_stochastic_gradient.py:163: FutureWarning: The loss 'log' was deprecated in v1.1 and will be removed in version 1.3. Use `loss='log_loss'` which is equivalent.\n",
            "  warnings.warn(\n"
          ]
        },
        {
          "name": "stdout",
          "output_type": "stream",
          "text": [
            "[CV] END alpha=0.0001, learning_rate=optimal, loss=log, max_iter=3000, penalty=elasticnet; total time=   1.1s\n"
          ]
        },
        {
          "name": "stderr",
          "output_type": "stream",
          "text": [
            "/usr/local/lib/python3.9/dist-packages/sklearn/linear_model/_stochastic_gradient.py:163: FutureWarning: The loss 'log' was deprecated in v1.1 and will be removed in version 1.3. Use `loss='log_loss'` which is equivalent.\n",
            "  warnings.warn(\n"
          ]
        },
        {
          "name": "stdout",
          "output_type": "stream",
          "text": [
            "[CV] END alpha=0.0001, learning_rate=optimal, loss=log, max_iter=3000, penalty=elasticnet; total time=   0.7s\n",
            "[CV] END alpha=0.0001, learning_rate=optimal, loss=hinge, max_iter=1000, penalty=l1; total time=   0.8s\n",
            "[CV] END alpha=0.0001, learning_rate=optimal, loss=hinge, max_iter=1000, penalty=l1; total time=   1.1s\n",
            "[CV] END alpha=0.0001, learning_rate=optimal, loss=hinge, max_iter=1000, penalty=l1; total time=   1.1s\n",
            "[CV] END alpha=0.0001, learning_rate=optimal, loss=hinge, max_iter=1000, penalty=l1; total time=   1.0s\n",
            "[CV] END alpha=0.0001, learning_rate=optimal, loss=hinge, max_iter=1000, penalty=l1; total time=   1.1s\n",
            "[CV] END alpha=0.0001, learning_rate=optimal, loss=hinge, max_iter=1000, penalty=l2; total time=   1.1s\n",
            "[CV] END alpha=0.0001, learning_rate=optimal, loss=hinge, max_iter=1000, penalty=l2; total time=   1.1s\n",
            "[CV] END alpha=0.0001, learning_rate=optimal, loss=hinge, max_iter=1000, penalty=l2; total time=   0.8s\n",
            "[CV] END alpha=0.0001, learning_rate=optimal, loss=hinge, max_iter=1000, penalty=l2; total time=   0.7s\n",
            "[CV] END alpha=0.0001, learning_rate=optimal, loss=hinge, max_iter=1000, penalty=l2; total time=   0.6s\n",
            "[CV] END alpha=0.0001, learning_rate=optimal, loss=hinge, max_iter=1000, penalty=elasticnet; total time=   0.7s\n",
            "[CV] END alpha=0.0001, learning_rate=optimal, loss=hinge, max_iter=1000, penalty=elasticnet; total time=   0.7s\n",
            "[CV] END alpha=0.0001, learning_rate=optimal, loss=hinge, max_iter=1000, penalty=elasticnet; total time=   0.7s\n",
            "[CV] END alpha=0.0001, learning_rate=optimal, loss=hinge, max_iter=1000, penalty=elasticnet; total time=   0.8s\n",
            "[CV] END alpha=0.0001, learning_rate=optimal, loss=hinge, max_iter=1000, penalty=elasticnet; total time=   0.7s\n",
            "[CV] END alpha=0.0001, learning_rate=optimal, loss=hinge, max_iter=2000, penalty=l1; total time=   0.8s\n",
            "[CV] END alpha=0.0001, learning_rate=optimal, loss=hinge, max_iter=2000, penalty=l1; total time=   1.1s\n",
            "[CV] END alpha=0.0001, learning_rate=optimal, loss=hinge, max_iter=2000, penalty=l1; total time=   1.1s\n",
            "[CV] END alpha=0.0001, learning_rate=optimal, loss=hinge, max_iter=2000, penalty=l1; total time=   1.0s\n",
            "[CV] END alpha=0.0001, learning_rate=optimal, loss=hinge, max_iter=2000, penalty=l1; total time=   1.8s\n",
            "[CV] END alpha=0.0001, learning_rate=optimal, loss=hinge, max_iter=2000, penalty=l2; total time=   1.0s\n",
            "[CV] END alpha=0.0001, learning_rate=optimal, loss=hinge, max_iter=2000, penalty=l2; total time=   0.6s\n",
            "[CV] END alpha=0.0001, learning_rate=optimal, loss=hinge, max_iter=2000, penalty=l2; total time=   0.7s\n",
            "[CV] END alpha=0.0001, learning_rate=optimal, loss=hinge, max_iter=2000, penalty=l2; total time=   0.7s\n",
            "[CV] END alpha=0.0001, learning_rate=optimal, loss=hinge, max_iter=2000, penalty=l2; total time=   0.6s\n",
            "[CV] END alpha=0.0001, learning_rate=optimal, loss=hinge, max_iter=2000, penalty=elasticnet; total time=   0.7s\n",
            "[CV] END alpha=0.0001, learning_rate=optimal, loss=hinge, max_iter=2000, penalty=elasticnet; total time=   0.7s\n",
            "[CV] END alpha=0.0001, learning_rate=optimal, loss=hinge, max_iter=2000, penalty=elasticnet; total time=   0.7s\n",
            "[CV] END alpha=0.0001, learning_rate=optimal, loss=hinge, max_iter=2000, penalty=elasticnet; total time=   0.8s\n",
            "[CV] END alpha=0.0001, learning_rate=optimal, loss=hinge, max_iter=2000, penalty=elasticnet; total time=   0.7s\n",
            "[CV] END alpha=0.0001, learning_rate=optimal, loss=hinge, max_iter=3000, penalty=l1; total time=   0.8s\n",
            "[CV] END alpha=0.0001, learning_rate=optimal, loss=hinge, max_iter=3000, penalty=l1; total time=   1.1s\n",
            "[CV] END alpha=0.0001, learning_rate=optimal, loss=hinge, max_iter=3000, penalty=l1; total time=   1.2s\n",
            "[CV] END alpha=0.0001, learning_rate=optimal, loss=hinge, max_iter=3000, penalty=l1; total time=   1.7s\n",
            "[CV] END alpha=0.0001, learning_rate=optimal, loss=hinge, max_iter=3000, penalty=l1; total time=   1.4s\n",
            "[CV] END alpha=0.0001, learning_rate=optimal, loss=hinge, max_iter=3000, penalty=l2; total time=   0.6s\n",
            "[CV] END alpha=0.0001, learning_rate=optimal, loss=hinge, max_iter=3000, penalty=l2; total time=   0.6s\n",
            "[CV] END alpha=0.0001, learning_rate=optimal, loss=hinge, max_iter=3000, penalty=l2; total time=   0.7s\n",
            "[CV] END alpha=0.0001, learning_rate=optimal, loss=hinge, max_iter=3000, penalty=l2; total time=   0.6s\n",
            "[CV] END alpha=0.0001, learning_rate=optimal, loss=hinge, max_iter=3000, penalty=l2; total time=   0.6s\n",
            "[CV] END alpha=0.0001, learning_rate=optimal, loss=hinge, max_iter=3000, penalty=elasticnet; total time=   0.7s\n",
            "[CV] END alpha=0.0001, learning_rate=optimal, loss=hinge, max_iter=3000, penalty=elasticnet; total time=   0.7s\n",
            "[CV] END alpha=0.0001, learning_rate=optimal, loss=hinge, max_iter=3000, penalty=elasticnet; total time=   0.7s\n",
            "[CV] END alpha=0.0001, learning_rate=optimal, loss=hinge, max_iter=3000, penalty=elasticnet; total time=   0.8s\n",
            "[CV] END alpha=0.0001, learning_rate=optimal, loss=hinge, max_iter=3000, penalty=elasticnet; total time=   0.7s\n",
            "[CV] END alpha=0.0001, learning_rate=invscaling, loss=log, max_iter=1000, penalty=l1; total time=   0.1s\n",
            "[CV] END alpha=0.0001, learning_rate=invscaling, loss=log, max_iter=1000, penalty=l1; total time=   0.1s\n",
            "[CV] END alpha=0.0001, learning_rate=invscaling, loss=log, max_iter=1000, penalty=l1; total time=   0.1s\n",
            "[CV] END alpha=0.0001, learning_rate=invscaling, loss=log, max_iter=1000, penalty=l1; total time=   0.1s\n",
            "[CV] END alpha=0.0001, learning_rate=invscaling, loss=log, max_iter=1000, penalty=l1; total time=   0.1s\n",
            "[CV] END alpha=0.0001, learning_rate=invscaling, loss=log, max_iter=1000, penalty=l2; total time=   0.1s\n",
            "[CV] END alpha=0.0001, learning_rate=invscaling, loss=log, max_iter=1000, penalty=l2; total time=   0.1s\n",
            "[CV] END alpha=0.0001, learning_rate=invscaling, loss=log, max_iter=1000, penalty=l2; total time=   0.1s\n",
            "[CV] END alpha=0.0001, learning_rate=invscaling, loss=log, max_iter=1000, penalty=l2; total time=   0.1s\n",
            "[CV] END alpha=0.0001, learning_rate=invscaling, loss=log, max_iter=1000, penalty=l2; total time=   0.1s\n",
            "[CV] END alpha=0.0001, learning_rate=invscaling, loss=log, max_iter=1000, penalty=elasticnet; total time=   0.1s\n",
            "[CV] END alpha=0.0001, learning_rate=invscaling, loss=log, max_iter=1000, penalty=elasticnet; total time=   0.2s\n",
            "[CV] END alpha=0.0001, learning_rate=invscaling, loss=log, max_iter=1000, penalty=elasticnet; total time=   0.1s\n",
            "[CV] END alpha=0.0001, learning_rate=invscaling, loss=log, max_iter=1000, penalty=elasticnet; total time=   0.1s\n",
            "[CV] END alpha=0.0001, learning_rate=invscaling, loss=log, max_iter=1000, penalty=elasticnet; total time=   0.1s\n",
            "[CV] END alpha=0.0001, learning_rate=invscaling, loss=log, max_iter=2000, penalty=l1; total time=   0.1s\n",
            "[CV] END alpha=0.0001, learning_rate=invscaling, loss=log, max_iter=2000, penalty=l1; total time=   0.1s\n",
            "[CV] END alpha=0.0001, learning_rate=invscaling, loss=log, max_iter=2000, penalty=l1; total time=   0.1s\n",
            "[CV] END alpha=0.0001, learning_rate=invscaling, loss=log, max_iter=2000, penalty=l1; total time=   0.1s\n",
            "[CV] END alpha=0.0001, learning_rate=invscaling, loss=log, max_iter=2000, penalty=l1; total time=   0.1s\n",
            "[CV] END alpha=0.0001, learning_rate=invscaling, loss=log, max_iter=2000, penalty=l2; total time=   0.1s\n",
            "[CV] END alpha=0.0001, learning_rate=invscaling, loss=log, max_iter=2000, penalty=l2; total time=   0.1s\n",
            "[CV] END alpha=0.0001, learning_rate=invscaling, loss=log, max_iter=2000, penalty=l2; total time=   0.1s\n",
            "[CV] END alpha=0.0001, learning_rate=invscaling, loss=log, max_iter=2000, penalty=l2; total time=   0.1s\n",
            "[CV] END alpha=0.0001, learning_rate=invscaling, loss=log, max_iter=2000, penalty=l2; total time=   0.1s\n",
            "[CV] END alpha=0.0001, learning_rate=invscaling, loss=log, max_iter=2000, penalty=elasticnet; total time=   0.1s\n",
            "[CV] END alpha=0.0001, learning_rate=invscaling, loss=log, max_iter=2000, penalty=elasticnet; total time=   0.1s\n",
            "[CV] END alpha=0.0001, learning_rate=invscaling, loss=log, max_iter=2000, penalty=elasticnet; total time=   0.1s\n",
            "[CV] END alpha=0.0001, learning_rate=invscaling, loss=log, max_iter=2000, penalty=elasticnet; total time=   0.1s\n",
            "[CV] END alpha=0.0001, learning_rate=invscaling, loss=log, max_iter=2000, penalty=elasticnet; total time=   0.1s\n",
            "[CV] END alpha=0.0001, learning_rate=invscaling, loss=log, max_iter=3000, penalty=l1; total time=   0.1s\n",
            "[CV] END alpha=0.0001, learning_rate=invscaling, loss=log, max_iter=3000, penalty=l1; total time=   0.1s\n",
            "[CV] END alpha=0.0001, learning_rate=invscaling, loss=log, max_iter=3000, penalty=l1; total time=   0.1s\n",
            "[CV] END alpha=0.0001, learning_rate=invscaling, loss=log, max_iter=3000, penalty=l1; total time=   0.1s\n",
            "[CV] END alpha=0.0001, learning_rate=invscaling, loss=log, max_iter=3000, penalty=l1; total time=   0.1s\n",
            "[CV] END alpha=0.0001, learning_rate=invscaling, loss=log, max_iter=3000, penalty=l2; total time=   0.1s\n",
            "[CV] END alpha=0.0001, learning_rate=invscaling, loss=log, max_iter=3000, penalty=l2; total time=   0.1s\n",
            "[CV] END alpha=0.0001, learning_rate=invscaling, loss=log, max_iter=3000, penalty=l2; total time=   0.1s\n",
            "[CV] END alpha=0.0001, learning_rate=invscaling, loss=log, max_iter=3000, penalty=l2; total time=   0.1s\n",
            "[CV] END alpha=0.0001, learning_rate=invscaling, loss=log, max_iter=3000, penalty=l2; total time=   0.1s\n",
            "[CV] END alpha=0.0001, learning_rate=invscaling, loss=log, max_iter=3000, penalty=elasticnet; total time=   0.1s\n",
            "[CV] END alpha=0.0001, learning_rate=invscaling, loss=log, max_iter=3000, penalty=elasticnet; total time=   0.1s\n",
            "[CV] END alpha=0.0001, learning_rate=invscaling, loss=log, max_iter=3000, penalty=elasticnet; total time=   0.1s\n",
            "[CV] END alpha=0.0001, learning_rate=invscaling, loss=log, max_iter=3000, penalty=elasticnet; total time=   0.1s\n",
            "[CV] END alpha=0.0001, learning_rate=invscaling, loss=log, max_iter=3000, penalty=elasticnet; total time=   0.1s\n",
            "[CV] END alpha=0.0001, learning_rate=invscaling, loss=hinge, max_iter=1000, penalty=l1; total time=   0.1s\n",
            "[CV] END alpha=0.0001, learning_rate=invscaling, loss=hinge, max_iter=1000, penalty=l1; total time=   0.1s\n",
            "[CV] END alpha=0.0001, learning_rate=invscaling, loss=hinge, max_iter=1000, penalty=l1; total time=   0.1s\n",
            "[CV] END alpha=0.0001, learning_rate=invscaling, loss=hinge, max_iter=1000, penalty=l1; total time=   0.1s\n",
            "[CV] END alpha=0.0001, learning_rate=invscaling, loss=hinge, max_iter=1000, penalty=l1; total time=   0.1s\n",
            "[CV] END alpha=0.0001, learning_rate=invscaling, loss=hinge, max_iter=1000, penalty=l2; total time=   0.1s\n",
            "[CV] END alpha=0.0001, learning_rate=invscaling, loss=hinge, max_iter=1000, penalty=l2; total time=   0.1s\n",
            "[CV] END alpha=0.0001, learning_rate=invscaling, loss=hinge, max_iter=1000, penalty=l2; total time=   0.1s\n",
            "[CV] END alpha=0.0001, learning_rate=invscaling, loss=hinge, max_iter=1000, penalty=l2; total time=   0.1s\n",
            "[CV] END alpha=0.0001, learning_rate=invscaling, loss=hinge, max_iter=1000, penalty=l2; total time=   0.1s\n",
            "[CV] END alpha=0.0001, learning_rate=invscaling, loss=hinge, max_iter=1000, penalty=elasticnet; total time=   0.1s\n",
            "[CV] END alpha=0.0001, learning_rate=invscaling, loss=hinge, max_iter=1000, penalty=elasticnet; total time=   0.1s\n",
            "[CV] END alpha=0.0001, learning_rate=invscaling, loss=hinge, max_iter=1000, penalty=elasticnet; total time=   0.1s\n",
            "[CV] END alpha=0.0001, learning_rate=invscaling, loss=hinge, max_iter=1000, penalty=elasticnet; total time=   0.1s\n",
            "[CV] END alpha=0.0001, learning_rate=invscaling, loss=hinge, max_iter=1000, penalty=elasticnet; total time=   0.1s\n",
            "[CV] END alpha=0.0001, learning_rate=invscaling, loss=hinge, max_iter=2000, penalty=l1; total time=   0.1s\n",
            "[CV] END alpha=0.0001, learning_rate=invscaling, loss=hinge, max_iter=2000, penalty=l1; total time=   0.1s\n",
            "[CV] END alpha=0.0001, learning_rate=invscaling, loss=hinge, max_iter=2000, penalty=l1; total time=   0.1s\n",
            "[CV] END alpha=0.0001, learning_rate=invscaling, loss=hinge, max_iter=2000, penalty=l1; total time=   0.1s\n",
            "[CV] END alpha=0.0001, learning_rate=invscaling, loss=hinge, max_iter=2000, penalty=l1; total time=   0.1s\n",
            "[CV] END alpha=0.0001, learning_rate=invscaling, loss=hinge, max_iter=2000, penalty=l2; total time=   0.1s\n",
            "[CV] END alpha=0.0001, learning_rate=invscaling, loss=hinge, max_iter=2000, penalty=l2; total time=   0.1s\n",
            "[CV] END alpha=0.0001, learning_rate=invscaling, loss=hinge, max_iter=2000, penalty=l2; total time=   0.1s\n",
            "[CV] END alpha=0.0001, learning_rate=invscaling, loss=hinge, max_iter=2000, penalty=l2; total time=   0.1s\n",
            "[CV] END alpha=0.0001, learning_rate=invscaling, loss=hinge, max_iter=2000, penalty=l2; total time=   0.1s\n",
            "[CV] END alpha=0.0001, learning_rate=invscaling, loss=hinge, max_iter=2000, penalty=elasticnet; total time=   0.1s\n",
            "[CV] END alpha=0.0001, learning_rate=invscaling, loss=hinge, max_iter=2000, penalty=elasticnet; total time=   0.1s\n",
            "[CV] END alpha=0.0001, learning_rate=invscaling, loss=hinge, max_iter=2000, penalty=elasticnet; total time=   0.1s\n",
            "[CV] END alpha=0.0001, learning_rate=invscaling, loss=hinge, max_iter=2000, penalty=elasticnet; total time=   0.1s\n",
            "[CV] END alpha=0.0001, learning_rate=invscaling, loss=hinge, max_iter=2000, penalty=elasticnet; total time=   0.1s\n",
            "[CV] END alpha=0.0001, learning_rate=invscaling, loss=hinge, max_iter=3000, penalty=l1; total time=   0.2s\n",
            "[CV] END alpha=0.0001, learning_rate=invscaling, loss=hinge, max_iter=3000, penalty=l1; total time=   0.1s\n",
            "[CV] END alpha=0.0001, learning_rate=invscaling, loss=hinge, max_iter=3000, penalty=l1; total time=   0.1s\n",
            "[CV] END alpha=0.0001, learning_rate=invscaling, loss=hinge, max_iter=3000, penalty=l1; total time=   0.1s\n",
            "[CV] END alpha=0.0001, learning_rate=invscaling, loss=hinge, max_iter=3000, penalty=l1; total time=   0.1s\n",
            "[CV] END alpha=0.0001, learning_rate=invscaling, loss=hinge, max_iter=3000, penalty=l2; total time=   0.1s\n",
            "[CV] END alpha=0.0001, learning_rate=invscaling, loss=hinge, max_iter=3000, penalty=l2; total time=   0.1s\n",
            "[CV] END alpha=0.0001, learning_rate=invscaling, loss=hinge, max_iter=3000, penalty=l2; total time=   0.1s\n",
            "[CV] END alpha=0.0001, learning_rate=invscaling, loss=hinge, max_iter=3000, penalty=l2; total time=   0.1s\n",
            "[CV] END alpha=0.0001, learning_rate=invscaling, loss=hinge, max_iter=3000, penalty=l2; total time=   0.1s\n",
            "[CV] END alpha=0.0001, learning_rate=invscaling, loss=hinge, max_iter=3000, penalty=elasticnet; total time=   0.1s\n",
            "[CV] END alpha=0.0001, learning_rate=invscaling, loss=hinge, max_iter=3000, penalty=elasticnet; total time=   0.1s\n",
            "[CV] END alpha=0.0001, learning_rate=invscaling, loss=hinge, max_iter=3000, penalty=elasticnet; total time=   0.1s\n",
            "[CV] END alpha=0.0001, learning_rate=invscaling, loss=hinge, max_iter=3000, penalty=elasticnet; total time=   0.1s\n",
            "[CV] END alpha=0.0001, learning_rate=invscaling, loss=hinge, max_iter=3000, penalty=elasticnet; total time=   0.1s\n",
            "[CV] END alpha=0.001, learning_rate=constant, loss=log, max_iter=1000, penalty=l1; total time=   0.1s\n",
            "[CV] END alpha=0.001, learning_rate=constant, loss=log, max_iter=1000, penalty=l1; total time=   0.1s\n",
            "[CV] END alpha=0.001, learning_rate=constant, loss=log, max_iter=1000, penalty=l1; total time=   0.1s\n",
            "[CV] END alpha=0.001, learning_rate=constant, loss=log, max_iter=1000, penalty=l1; total time=   0.2s\n",
            "[CV] END alpha=0.001, learning_rate=constant, loss=log, max_iter=1000, penalty=l1; total time=   0.1s\n",
            "[CV] END alpha=0.001, learning_rate=constant, loss=log, max_iter=1000, penalty=l2; total time=   0.1s\n",
            "[CV] END alpha=0.001, learning_rate=constant, loss=log, max_iter=1000, penalty=l2; total time=   0.1s\n",
            "[CV] END alpha=0.001, learning_rate=constant, loss=log, max_iter=1000, penalty=l2; total time=   0.2s\n",
            "[CV] END alpha=0.001, learning_rate=constant, loss=log, max_iter=1000, penalty=l2; total time=   0.1s\n",
            "[CV] END alpha=0.001, learning_rate=constant, loss=log, max_iter=1000, penalty=l2; total time=   0.1s\n",
            "[CV] END alpha=0.001, learning_rate=constant, loss=log, max_iter=1000, penalty=elasticnet; total time=   0.1s\n",
            "[CV] END alpha=0.001, learning_rate=constant, loss=log, max_iter=1000, penalty=elasticnet; total time=   0.2s\n",
            "[CV] END alpha=0.001, learning_rate=constant, loss=log, max_iter=1000, penalty=elasticnet; total time=   0.1s\n",
            "[CV] END alpha=0.001, learning_rate=constant, loss=log, max_iter=1000, penalty=elasticnet; total time=   0.2s\n",
            "[CV] END alpha=0.001, learning_rate=constant, loss=log, max_iter=1000, penalty=elasticnet; total time=   0.1s\n",
            "[CV] END alpha=0.001, learning_rate=constant, loss=log, max_iter=2000, penalty=l1; total time=   0.1s\n",
            "[CV] END alpha=0.001, learning_rate=constant, loss=log, max_iter=2000, penalty=l1; total time=   0.1s\n",
            "[CV] END alpha=0.001, learning_rate=constant, loss=log, max_iter=2000, penalty=l1; total time=   0.1s\n",
            "[CV] END alpha=0.001, learning_rate=constant, loss=log, max_iter=2000, penalty=l1; total time=   0.1s\n",
            "[CV] END alpha=0.001, learning_rate=constant, loss=log, max_iter=2000, penalty=l1; total time=   0.1s\n",
            "[CV] END alpha=0.001, learning_rate=constant, loss=log, max_iter=2000, penalty=l2; total time=   0.1s\n",
            "[CV] END alpha=0.001, learning_rate=constant, loss=log, max_iter=2000, penalty=l2; total time=   0.1s\n",
            "[CV] END alpha=0.001, learning_rate=constant, loss=log, max_iter=2000, penalty=l2; total time=   0.1s\n",
            "[CV] END alpha=0.001, learning_rate=constant, loss=log, max_iter=2000, penalty=l2; total time=   0.1s\n",
            "[CV] END alpha=0.001, learning_rate=constant, loss=log, max_iter=2000, penalty=l2; total time=   0.1s\n",
            "[CV] END alpha=0.001, learning_rate=constant, loss=log, max_iter=2000, penalty=elasticnet; total time=   0.1s\n",
            "[CV] END alpha=0.001, learning_rate=constant, loss=log, max_iter=2000, penalty=elasticnet; total time=   0.1s\n",
            "[CV] END alpha=0.001, learning_rate=constant, loss=log, max_iter=2000, penalty=elasticnet; total time=   0.2s\n",
            "[CV] END alpha=0.001, learning_rate=constant, loss=log, max_iter=2000, penalty=elasticnet; total time=   0.1s\n",
            "[CV] END alpha=0.001, learning_rate=constant, loss=log, max_iter=2000, penalty=elasticnet; total time=   0.1s\n",
            "[CV] END alpha=0.001, learning_rate=constant, loss=log, max_iter=3000, penalty=l1; total time=   0.1s\n",
            "[CV] END alpha=0.001, learning_rate=constant, loss=log, max_iter=3000, penalty=l1; total time=   0.1s\n",
            "[CV] END alpha=0.001, learning_rate=constant, loss=log, max_iter=3000, penalty=l1; total time=   0.1s\n",
            "[CV] END alpha=0.001, learning_rate=constant, loss=log, max_iter=3000, penalty=l1; total time=   0.1s\n",
            "[CV] END alpha=0.001, learning_rate=constant, loss=log, max_iter=3000, penalty=l1; total time=   0.1s\n",
            "[CV] END alpha=0.001, learning_rate=constant, loss=log, max_iter=3000, penalty=l2; total time=   0.1s\n",
            "[CV] END alpha=0.001, learning_rate=constant, loss=log, max_iter=3000, penalty=l2; total time=   0.1s\n",
            "[CV] END alpha=0.001, learning_rate=constant, loss=log, max_iter=3000, penalty=l2; total time=   0.1s\n",
            "[CV] END alpha=0.001, learning_rate=constant, loss=log, max_iter=3000, penalty=l2; total time=   0.1s\n",
            "[CV] END alpha=0.001, learning_rate=constant, loss=log, max_iter=3000, penalty=l2; total time=   0.1s\n",
            "[CV] END alpha=0.001, learning_rate=constant, loss=log, max_iter=3000, penalty=elasticnet; total time=   0.1s\n",
            "[CV] END alpha=0.001, learning_rate=constant, loss=log, max_iter=3000, penalty=elasticnet; total time=   0.2s\n",
            "[CV] END alpha=0.001, learning_rate=constant, loss=log, max_iter=3000, penalty=elasticnet; total time=   0.1s\n",
            "[CV] END alpha=0.001, learning_rate=constant, loss=log, max_iter=3000, penalty=elasticnet; total time=   0.1s\n",
            "[CV] END alpha=0.001, learning_rate=constant, loss=log, max_iter=3000, penalty=elasticnet; total time=   0.1s\n",
            "[CV] END alpha=0.001, learning_rate=constant, loss=hinge, max_iter=1000, penalty=l1; total time=   0.1s\n",
            "[CV] END alpha=0.001, learning_rate=constant, loss=hinge, max_iter=1000, penalty=l1; total time=   0.1s\n",
            "[CV] END alpha=0.001, learning_rate=constant, loss=hinge, max_iter=1000, penalty=l1; total time=   0.1s\n",
            "[CV] END alpha=0.001, learning_rate=constant, loss=hinge, max_iter=1000, penalty=l1; total time=   0.1s\n",
            "[CV] END alpha=0.001, learning_rate=constant, loss=hinge, max_iter=1000, penalty=l1; total time=   0.1s\n",
            "[CV] END alpha=0.001, learning_rate=constant, loss=hinge, max_iter=1000, penalty=l2; total time=   0.1s\n",
            "[CV] END alpha=0.001, learning_rate=constant, loss=hinge, max_iter=1000, penalty=l2; total time=   0.1s\n",
            "[CV] END alpha=0.001, learning_rate=constant, loss=hinge, max_iter=1000, penalty=l2; total time=   0.1s\n",
            "[CV] END alpha=0.001, learning_rate=constant, loss=hinge, max_iter=1000, penalty=l2; total time=   0.1s\n",
            "[CV] END alpha=0.001, learning_rate=constant, loss=hinge, max_iter=1000, penalty=l2; total time=   0.1s\n",
            "[CV] END alpha=0.001, learning_rate=constant, loss=hinge, max_iter=1000, penalty=elasticnet; total time=   0.1s\n",
            "[CV] END alpha=0.001, learning_rate=constant, loss=hinge, max_iter=1000, penalty=elasticnet; total time=   0.1s\n",
            "[CV] END alpha=0.001, learning_rate=constant, loss=hinge, max_iter=1000, penalty=elasticnet; total time=   0.1s\n",
            "[CV] END alpha=0.001, learning_rate=constant, loss=hinge, max_iter=1000, penalty=elasticnet; total time=   0.1s\n",
            "[CV] END alpha=0.001, learning_rate=constant, loss=hinge, max_iter=1000, penalty=elasticnet; total time=   0.1s\n",
            "[CV] END alpha=0.001, learning_rate=constant, loss=hinge, max_iter=2000, penalty=l1; total time=   0.1s\n",
            "[CV] END alpha=0.001, learning_rate=constant, loss=hinge, max_iter=2000, penalty=l1; total time=   0.1s\n",
            "[CV] END alpha=0.001, learning_rate=constant, loss=hinge, max_iter=2000, penalty=l1; total time=   0.1s\n",
            "[CV] END alpha=0.001, learning_rate=constant, loss=hinge, max_iter=2000, penalty=l1; total time=   0.1s\n",
            "[CV] END alpha=0.001, learning_rate=constant, loss=hinge, max_iter=2000, penalty=l1; total time=   0.1s\n",
            "[CV] END alpha=0.001, learning_rate=constant, loss=hinge, max_iter=2000, penalty=l2; total time=   0.1s\n",
            "[CV] END alpha=0.001, learning_rate=constant, loss=hinge, max_iter=2000, penalty=l2; total time=   0.1s\n",
            "[CV] END alpha=0.001, learning_rate=constant, loss=hinge, max_iter=2000, penalty=l2; total time=   0.1s\n",
            "[CV] END alpha=0.001, learning_rate=constant, loss=hinge, max_iter=2000, penalty=l2; total time=   0.1s\n",
            "[CV] END alpha=0.001, learning_rate=constant, loss=hinge, max_iter=2000, penalty=l2; total time=   0.1s\n",
            "[CV] END alpha=0.001, learning_rate=constant, loss=hinge, max_iter=2000, penalty=elasticnet; total time=   0.1s\n",
            "[CV] END alpha=0.001, learning_rate=constant, loss=hinge, max_iter=2000, penalty=elasticnet; total time=   0.1s\n",
            "[CV] END alpha=0.001, learning_rate=constant, loss=hinge, max_iter=2000, penalty=elasticnet; total time=   0.1s\n",
            "[CV] END alpha=0.001, learning_rate=constant, loss=hinge, max_iter=2000, penalty=elasticnet; total time=   0.1s\n",
            "[CV] END alpha=0.001, learning_rate=constant, loss=hinge, max_iter=2000, penalty=elasticnet; total time=   0.1s\n",
            "[CV] END alpha=0.001, learning_rate=constant, loss=hinge, max_iter=3000, penalty=l1; total time=   0.1s\n",
            "[CV] END alpha=0.001, learning_rate=constant, loss=hinge, max_iter=3000, penalty=l1; total time=   0.1s\n",
            "[CV] END alpha=0.001, learning_rate=constant, loss=hinge, max_iter=3000, penalty=l1; total time=   0.1s\n",
            "[CV] END alpha=0.001, learning_rate=constant, loss=hinge, max_iter=3000, penalty=l1; total time=   0.1s\n",
            "[CV] END alpha=0.001, learning_rate=constant, loss=hinge, max_iter=3000, penalty=l1; total time=   0.1s\n",
            "[CV] END alpha=0.001, learning_rate=constant, loss=hinge, max_iter=3000, penalty=l2; total time=   0.1s\n",
            "[CV] END alpha=0.001, learning_rate=constant, loss=hinge, max_iter=3000, penalty=l2; total time=   0.2s\n",
            "[CV] END alpha=0.001, learning_rate=constant, loss=hinge, max_iter=3000, penalty=l2; total time=   0.1s\n",
            "[CV] END alpha=0.001, learning_rate=constant, loss=hinge, max_iter=3000, penalty=l2; total time=   0.1s\n",
            "[CV] END alpha=0.001, learning_rate=constant, loss=hinge, max_iter=3000, penalty=l2; total time=   0.1s\n",
            "[CV] END alpha=0.001, learning_rate=constant, loss=hinge, max_iter=3000, penalty=elasticnet; total time=   0.1s\n",
            "[CV] END alpha=0.001, learning_rate=constant, loss=hinge, max_iter=3000, penalty=elasticnet; total time=   0.1s\n",
            "[CV] END alpha=0.001, learning_rate=constant, loss=hinge, max_iter=3000, penalty=elasticnet; total time=   0.1s\n",
            "[CV] END alpha=0.001, learning_rate=constant, loss=hinge, max_iter=3000, penalty=elasticnet; total time=   0.1s\n",
            "[CV] END alpha=0.001, learning_rate=constant, loss=hinge, max_iter=3000, penalty=elasticnet; total time=   0.1s\n"
          ]
        },
        {
          "name": "stderr",
          "output_type": "stream",
          "text": [
            "/usr/local/lib/python3.9/dist-packages/sklearn/linear_model/_stochastic_gradient.py:163: FutureWarning: The loss 'log' was deprecated in v1.1 and will be removed in version 1.3. Use `loss='log_loss'` which is equivalent.\n",
            "  warnings.warn(\n"
          ]
        },
        {
          "name": "stdout",
          "output_type": "stream",
          "text": [
            "[CV] END alpha=0.001, learning_rate=optimal, loss=log, max_iter=1000, penalty=l1; total time=   1.2s\n"
          ]
        },
        {
          "name": "stderr",
          "output_type": "stream",
          "text": [
            "/usr/local/lib/python3.9/dist-packages/sklearn/linear_model/_stochastic_gradient.py:163: FutureWarning: The loss 'log' was deprecated in v1.1 and will be removed in version 1.3. Use `loss='log_loss'` which is equivalent.\n",
            "  warnings.warn(\n"
          ]
        },
        {
          "name": "stdout",
          "output_type": "stream",
          "text": [
            "[CV] END alpha=0.001, learning_rate=optimal, loss=log, max_iter=1000, penalty=l1; total time=   1.1s\n"
          ]
        },
        {
          "name": "stderr",
          "output_type": "stream",
          "text": [
            "/usr/local/lib/python3.9/dist-packages/sklearn/linear_model/_stochastic_gradient.py:163: FutureWarning: The loss 'log' was deprecated in v1.1 and will be removed in version 1.3. Use `loss='log_loss'` which is equivalent.\n",
            "  warnings.warn(\n"
          ]
        },
        {
          "name": "stdout",
          "output_type": "stream",
          "text": [
            "[CV] END alpha=0.001, learning_rate=optimal, loss=log, max_iter=1000, penalty=l1; total time=   1.2s\n"
          ]
        },
        {
          "name": "stderr",
          "output_type": "stream",
          "text": [
            "/usr/local/lib/python3.9/dist-packages/sklearn/linear_model/_stochastic_gradient.py:163: FutureWarning: The loss 'log' was deprecated in v1.1 and will be removed in version 1.3. Use `loss='log_loss'` which is equivalent.\n",
            "  warnings.warn(\n"
          ]
        },
        {
          "name": "stdout",
          "output_type": "stream",
          "text": [
            "[CV] END alpha=0.001, learning_rate=optimal, loss=log, max_iter=1000, penalty=l1; total time=   1.2s\n"
          ]
        },
        {
          "name": "stderr",
          "output_type": "stream",
          "text": [
            "/usr/local/lib/python3.9/dist-packages/sklearn/linear_model/_stochastic_gradient.py:163: FutureWarning: The loss 'log' was deprecated in v1.1 and will be removed in version 1.3. Use `loss='log_loss'` which is equivalent.\n",
            "  warnings.warn(\n"
          ]
        },
        {
          "name": "stdout",
          "output_type": "stream",
          "text": [
            "[CV] END alpha=0.001, learning_rate=optimal, loss=log, max_iter=1000, penalty=l1; total time=   1.1s\n"
          ]
        },
        {
          "name": "stderr",
          "output_type": "stream",
          "text": [
            "/usr/local/lib/python3.9/dist-packages/sklearn/linear_model/_stochastic_gradient.py:163: FutureWarning: The loss 'log' was deprecated in v1.1 and will be removed in version 1.3. Use `loss='log_loss'` which is equivalent.\n",
            "  warnings.warn(\n"
          ]
        },
        {
          "name": "stdout",
          "output_type": "stream",
          "text": [
            "[CV] END alpha=0.001, learning_rate=optimal, loss=log, max_iter=1000, penalty=l2; total time=   0.7s\n"
          ]
        },
        {
          "name": "stderr",
          "output_type": "stream",
          "text": [
            "/usr/local/lib/python3.9/dist-packages/sklearn/linear_model/_stochastic_gradient.py:163: FutureWarning: The loss 'log' was deprecated in v1.1 and will be removed in version 1.3. Use `loss='log_loss'` which is equivalent.\n",
            "  warnings.warn(\n"
          ]
        },
        {
          "name": "stdout",
          "output_type": "stream",
          "text": [
            "[CV] END alpha=0.001, learning_rate=optimal, loss=log, max_iter=1000, penalty=l2; total time=   0.7s\n"
          ]
        },
        {
          "name": "stderr",
          "output_type": "stream",
          "text": [
            "/usr/local/lib/python3.9/dist-packages/sklearn/linear_model/_stochastic_gradient.py:163: FutureWarning: The loss 'log' was deprecated in v1.1 and will be removed in version 1.3. Use `loss='log_loss'` which is equivalent.\n",
            "  warnings.warn(\n"
          ]
        },
        {
          "name": "stdout",
          "output_type": "stream",
          "text": [
            "[CV] END alpha=0.001, learning_rate=optimal, loss=log, max_iter=1000, penalty=l2; total time=   0.7s\n"
          ]
        },
        {
          "name": "stderr",
          "output_type": "stream",
          "text": [
            "/usr/local/lib/python3.9/dist-packages/sklearn/linear_model/_stochastic_gradient.py:163: FutureWarning: The loss 'log' was deprecated in v1.1 and will be removed in version 1.3. Use `loss='log_loss'` which is equivalent.\n",
            "  warnings.warn(\n"
          ]
        },
        {
          "name": "stdout",
          "output_type": "stream",
          "text": [
            "[CV] END alpha=0.001, learning_rate=optimal, loss=log, max_iter=1000, penalty=l2; total time=   0.7s\n"
          ]
        },
        {
          "name": "stderr",
          "output_type": "stream",
          "text": [
            "/usr/local/lib/python3.9/dist-packages/sklearn/linear_model/_stochastic_gradient.py:163: FutureWarning: The loss 'log' was deprecated in v1.1 and will be removed in version 1.3. Use `loss='log_loss'` which is equivalent.\n",
            "  warnings.warn(\n"
          ]
        },
        {
          "name": "stdout",
          "output_type": "stream",
          "text": [
            "[CV] END alpha=0.001, learning_rate=optimal, loss=log, max_iter=1000, penalty=l2; total time=   0.7s\n"
          ]
        },
        {
          "name": "stderr",
          "output_type": "stream",
          "text": [
            "/usr/local/lib/python3.9/dist-packages/sklearn/linear_model/_stochastic_gradient.py:163: FutureWarning: The loss 'log' was deprecated in v1.1 and will be removed in version 1.3. Use `loss='log_loss'` which is equivalent.\n",
            "  warnings.warn(\n"
          ]
        },
        {
          "name": "stdout",
          "output_type": "stream",
          "text": [
            "[CV] END alpha=0.001, learning_rate=optimal, loss=log, max_iter=1000, penalty=elasticnet; total time=   0.8s\n"
          ]
        },
        {
          "name": "stderr",
          "output_type": "stream",
          "text": [
            "/usr/local/lib/python3.9/dist-packages/sklearn/linear_model/_stochastic_gradient.py:163: FutureWarning: The loss 'log' was deprecated in v1.1 and will be removed in version 1.3. Use `loss='log_loss'` which is equivalent.\n",
            "  warnings.warn(\n"
          ]
        },
        {
          "name": "stdout",
          "output_type": "stream",
          "text": [
            "[CV] END alpha=0.001, learning_rate=optimal, loss=log, max_iter=1000, penalty=elasticnet; total time=   1.3s\n"
          ]
        },
        {
          "name": "stderr",
          "output_type": "stream",
          "text": [
            "/usr/local/lib/python3.9/dist-packages/sklearn/linear_model/_stochastic_gradient.py:163: FutureWarning: The loss 'log' was deprecated in v1.1 and will be removed in version 1.3. Use `loss='log_loss'` which is equivalent.\n",
            "  warnings.warn(\n"
          ]
        },
        {
          "name": "stdout",
          "output_type": "stream",
          "text": [
            "[CV] END alpha=0.001, learning_rate=optimal, loss=log, max_iter=1000, penalty=elasticnet; total time=   1.3s\n"
          ]
        },
        {
          "name": "stderr",
          "output_type": "stream",
          "text": [
            "/usr/local/lib/python3.9/dist-packages/sklearn/linear_model/_stochastic_gradient.py:163: FutureWarning: The loss 'log' was deprecated in v1.1 and will be removed in version 1.3. Use `loss='log_loss'` which is equivalent.\n",
            "  warnings.warn(\n"
          ]
        },
        {
          "name": "stdout",
          "output_type": "stream",
          "text": [
            "[CV] END alpha=0.001, learning_rate=optimal, loss=log, max_iter=1000, penalty=elasticnet; total time=   0.7s\n"
          ]
        },
        {
          "name": "stderr",
          "output_type": "stream",
          "text": [
            "/usr/local/lib/python3.9/dist-packages/sklearn/linear_model/_stochastic_gradient.py:163: FutureWarning: The loss 'log' was deprecated in v1.1 and will be removed in version 1.3. Use `loss='log_loss'` which is equivalent.\n",
            "  warnings.warn(\n"
          ]
        },
        {
          "name": "stdout",
          "output_type": "stream",
          "text": [
            "[CV] END alpha=0.001, learning_rate=optimal, loss=log, max_iter=1000, penalty=elasticnet; total time=   0.8s\n"
          ]
        },
        {
          "name": "stderr",
          "output_type": "stream",
          "text": [
            "/usr/local/lib/python3.9/dist-packages/sklearn/linear_model/_stochastic_gradient.py:163: FutureWarning: The loss 'log' was deprecated in v1.1 and will be removed in version 1.3. Use `loss='log_loss'` which is equivalent.\n",
            "  warnings.warn(\n"
          ]
        },
        {
          "name": "stdout",
          "output_type": "stream",
          "text": [
            "[CV] END alpha=0.001, learning_rate=optimal, loss=log, max_iter=2000, penalty=l1; total time=   1.1s\n"
          ]
        },
        {
          "name": "stderr",
          "output_type": "stream",
          "text": [
            "/usr/local/lib/python3.9/dist-packages/sklearn/linear_model/_stochastic_gradient.py:163: FutureWarning: The loss 'log' was deprecated in v1.1 and will be removed in version 1.3. Use `loss='log_loss'` which is equivalent.\n",
            "  warnings.warn(\n"
          ]
        },
        {
          "name": "stdout",
          "output_type": "stream",
          "text": [
            "[CV] END alpha=0.001, learning_rate=optimal, loss=log, max_iter=2000, penalty=l1; total time=   1.1s\n"
          ]
        },
        {
          "name": "stderr",
          "output_type": "stream",
          "text": [
            "/usr/local/lib/python3.9/dist-packages/sklearn/linear_model/_stochastic_gradient.py:163: FutureWarning: The loss 'log' was deprecated in v1.1 and will be removed in version 1.3. Use `loss='log_loss'` which is equivalent.\n",
            "  warnings.warn(\n"
          ]
        },
        {
          "name": "stdout",
          "output_type": "stream",
          "text": [
            "[CV] END alpha=0.001, learning_rate=optimal, loss=log, max_iter=2000, penalty=l1; total time=   1.2s\n"
          ]
        },
        {
          "name": "stderr",
          "output_type": "stream",
          "text": [
            "/usr/local/lib/python3.9/dist-packages/sklearn/linear_model/_stochastic_gradient.py:163: FutureWarning: The loss 'log' was deprecated in v1.1 and will be removed in version 1.3. Use `loss='log_loss'` which is equivalent.\n",
            "  warnings.warn(\n"
          ]
        },
        {
          "name": "stdout",
          "output_type": "stream",
          "text": [
            "[CV] END alpha=0.001, learning_rate=optimal, loss=log, max_iter=2000, penalty=l1; total time=   1.2s\n"
          ]
        },
        {
          "name": "stderr",
          "output_type": "stream",
          "text": [
            "/usr/local/lib/python3.9/dist-packages/sklearn/linear_model/_stochastic_gradient.py:163: FutureWarning: The loss 'log' was deprecated in v1.1 and will be removed in version 1.3. Use `loss='log_loss'` which is equivalent.\n",
            "  warnings.warn(\n"
          ]
        },
        {
          "name": "stdout",
          "output_type": "stream",
          "text": [
            "[CV] END alpha=0.001, learning_rate=optimal, loss=log, max_iter=2000, penalty=l1; total time=   1.1s\n"
          ]
        },
        {
          "name": "stderr",
          "output_type": "stream",
          "text": [
            "/usr/local/lib/python3.9/dist-packages/sklearn/linear_model/_stochastic_gradient.py:163: FutureWarning: The loss 'log' was deprecated in v1.1 and will be removed in version 1.3. Use `loss='log_loss'` which is equivalent.\n",
            "  warnings.warn(\n"
          ]
        },
        {
          "name": "stdout",
          "output_type": "stream",
          "text": [
            "[CV] END alpha=0.001, learning_rate=optimal, loss=log, max_iter=2000, penalty=l2; total time=   0.7s\n"
          ]
        },
        {
          "name": "stderr",
          "output_type": "stream",
          "text": [
            "/usr/local/lib/python3.9/dist-packages/sklearn/linear_model/_stochastic_gradient.py:163: FutureWarning: The loss 'log' was deprecated in v1.1 and will be removed in version 1.3. Use `loss='log_loss'` which is equivalent.\n",
            "  warnings.warn(\n"
          ]
        },
        {
          "name": "stdout",
          "output_type": "stream",
          "text": [
            "[CV] END alpha=0.001, learning_rate=optimal, loss=log, max_iter=2000, penalty=l2; total time=   0.7s\n"
          ]
        },
        {
          "name": "stderr",
          "output_type": "stream",
          "text": [
            "/usr/local/lib/python3.9/dist-packages/sklearn/linear_model/_stochastic_gradient.py:163: FutureWarning: The loss 'log' was deprecated in v1.1 and will be removed in version 1.3. Use `loss='log_loss'` which is equivalent.\n",
            "  warnings.warn(\n"
          ]
        },
        {
          "name": "stdout",
          "output_type": "stream",
          "text": [
            "[CV] END alpha=0.001, learning_rate=optimal, loss=log, max_iter=2000, penalty=l2; total time=   0.7s\n"
          ]
        },
        {
          "name": "stderr",
          "output_type": "stream",
          "text": [
            "/usr/local/lib/python3.9/dist-packages/sklearn/linear_model/_stochastic_gradient.py:163: FutureWarning: The loss 'log' was deprecated in v1.1 and will be removed in version 1.3. Use `loss='log_loss'` which is equivalent.\n",
            "  warnings.warn(\n"
          ]
        },
        {
          "name": "stdout",
          "output_type": "stream",
          "text": [
            "[CV] END alpha=0.001, learning_rate=optimal, loss=log, max_iter=2000, penalty=l2; total time=   0.9s\n"
          ]
        },
        {
          "name": "stderr",
          "output_type": "stream",
          "text": [
            "/usr/local/lib/python3.9/dist-packages/sklearn/linear_model/_stochastic_gradient.py:163: FutureWarning: The loss 'log' was deprecated in v1.1 and will be removed in version 1.3. Use `loss='log_loss'` which is equivalent.\n",
            "  warnings.warn(\n"
          ]
        },
        {
          "name": "stdout",
          "output_type": "stream",
          "text": [
            "[CV] END alpha=0.001, learning_rate=optimal, loss=log, max_iter=2000, penalty=l2; total time=   1.1s\n"
          ]
        },
        {
          "name": "stderr",
          "output_type": "stream",
          "text": [
            "/usr/local/lib/python3.9/dist-packages/sklearn/linear_model/_stochastic_gradient.py:163: FutureWarning: The loss 'log' was deprecated in v1.1 and will be removed in version 1.3. Use `loss='log_loss'` which is equivalent.\n",
            "  warnings.warn(\n"
          ]
        },
        {
          "name": "stdout",
          "output_type": "stream",
          "text": [
            "[CV] END alpha=0.001, learning_rate=optimal, loss=log, max_iter=2000, penalty=elasticnet; total time=   1.1s\n"
          ]
        },
        {
          "name": "stderr",
          "output_type": "stream",
          "text": [
            "/usr/local/lib/python3.9/dist-packages/sklearn/linear_model/_stochastic_gradient.py:163: FutureWarning: The loss 'log' was deprecated in v1.1 and will be removed in version 1.3. Use `loss='log_loss'` which is equivalent.\n",
            "  warnings.warn(\n"
          ]
        },
        {
          "name": "stdout",
          "output_type": "stream",
          "text": [
            "[CV] END alpha=0.001, learning_rate=optimal, loss=log, max_iter=2000, penalty=elasticnet; total time=   0.7s\n"
          ]
        },
        {
          "name": "stderr",
          "output_type": "stream",
          "text": [
            "/usr/local/lib/python3.9/dist-packages/sklearn/linear_model/_stochastic_gradient.py:163: FutureWarning: The loss 'log' was deprecated in v1.1 and will be removed in version 1.3. Use `loss='log_loss'` which is equivalent.\n",
            "  warnings.warn(\n"
          ]
        },
        {
          "name": "stdout",
          "output_type": "stream",
          "text": [
            "[CV] END alpha=0.001, learning_rate=optimal, loss=log, max_iter=2000, penalty=elasticnet; total time=   0.7s\n"
          ]
        },
        {
          "name": "stderr",
          "output_type": "stream",
          "text": [
            "/usr/local/lib/python3.9/dist-packages/sklearn/linear_model/_stochastic_gradient.py:163: FutureWarning: The loss 'log' was deprecated in v1.1 and will be removed in version 1.3. Use `loss='log_loss'` which is equivalent.\n",
            "  warnings.warn(\n"
          ]
        },
        {
          "name": "stdout",
          "output_type": "stream",
          "text": [
            "[CV] END alpha=0.001, learning_rate=optimal, loss=log, max_iter=2000, penalty=elasticnet; total time=   0.8s\n"
          ]
        },
        {
          "name": "stderr",
          "output_type": "stream",
          "text": [
            "/usr/local/lib/python3.9/dist-packages/sklearn/linear_model/_stochastic_gradient.py:163: FutureWarning: The loss 'log' was deprecated in v1.1 and will be removed in version 1.3. Use `loss='log_loss'` which is equivalent.\n",
            "  warnings.warn(\n"
          ]
        },
        {
          "name": "stdout",
          "output_type": "stream",
          "text": [
            "[CV] END alpha=0.001, learning_rate=optimal, loss=log, max_iter=2000, penalty=elasticnet; total time=   0.8s\n"
          ]
        },
        {
          "name": "stderr",
          "output_type": "stream",
          "text": [
            "/usr/local/lib/python3.9/dist-packages/sklearn/linear_model/_stochastic_gradient.py:163: FutureWarning: The loss 'log' was deprecated in v1.1 and will be removed in version 1.3. Use `loss='log_loss'` which is equivalent.\n",
            "  warnings.warn(\n"
          ]
        },
        {
          "name": "stdout",
          "output_type": "stream",
          "text": [
            "[CV] END alpha=0.001, learning_rate=optimal, loss=log, max_iter=3000, penalty=l1; total time=   1.1s\n"
          ]
        },
        {
          "name": "stderr",
          "output_type": "stream",
          "text": [
            "/usr/local/lib/python3.9/dist-packages/sklearn/linear_model/_stochastic_gradient.py:163: FutureWarning: The loss 'log' was deprecated in v1.1 and will be removed in version 1.3. Use `loss='log_loss'` which is equivalent.\n",
            "  warnings.warn(\n"
          ]
        },
        {
          "name": "stdout",
          "output_type": "stream",
          "text": [
            "[CV] END alpha=0.001, learning_rate=optimal, loss=log, max_iter=3000, penalty=l1; total time=   1.1s\n"
          ]
        },
        {
          "name": "stderr",
          "output_type": "stream",
          "text": [
            "/usr/local/lib/python3.9/dist-packages/sklearn/linear_model/_stochastic_gradient.py:163: FutureWarning: The loss 'log' was deprecated in v1.1 and will be removed in version 1.3. Use `loss='log_loss'` which is equivalent.\n",
            "  warnings.warn(\n"
          ]
        },
        {
          "name": "stdout",
          "output_type": "stream",
          "text": [
            "[CV] END alpha=0.001, learning_rate=optimal, loss=log, max_iter=3000, penalty=l1; total time=   1.3s\n"
          ]
        },
        {
          "name": "stderr",
          "output_type": "stream",
          "text": [
            "/usr/local/lib/python3.9/dist-packages/sklearn/linear_model/_stochastic_gradient.py:163: FutureWarning: The loss 'log' was deprecated in v1.1 and will be removed in version 1.3. Use `loss='log_loss'` which is equivalent.\n",
            "  warnings.warn(\n"
          ]
        },
        {
          "name": "stdout",
          "output_type": "stream",
          "text": [
            "[CV] END alpha=0.001, learning_rate=optimal, loss=log, max_iter=3000, penalty=l1; total time=   1.2s\n"
          ]
        },
        {
          "name": "stderr",
          "output_type": "stream",
          "text": [
            "/usr/local/lib/python3.9/dist-packages/sklearn/linear_model/_stochastic_gradient.py:163: FutureWarning: The loss 'log' was deprecated in v1.1 and will be removed in version 1.3. Use `loss='log_loss'` which is equivalent.\n",
            "  warnings.warn(\n"
          ]
        },
        {
          "name": "stdout",
          "output_type": "stream",
          "text": [
            "[CV] END alpha=0.001, learning_rate=optimal, loss=log, max_iter=3000, penalty=l1; total time=   1.1s\n"
          ]
        },
        {
          "name": "stderr",
          "output_type": "stream",
          "text": [
            "/usr/local/lib/python3.9/dist-packages/sklearn/linear_model/_stochastic_gradient.py:163: FutureWarning: The loss 'log' was deprecated in v1.1 and will be removed in version 1.3. Use `loss='log_loss'` which is equivalent.\n",
            "  warnings.warn(\n"
          ]
        },
        {
          "name": "stdout",
          "output_type": "stream",
          "text": [
            "[CV] END alpha=0.001, learning_rate=optimal, loss=log, max_iter=3000, penalty=l2; total time=   0.7s\n"
          ]
        },
        {
          "name": "stderr",
          "output_type": "stream",
          "text": [
            "/usr/local/lib/python3.9/dist-packages/sklearn/linear_model/_stochastic_gradient.py:163: FutureWarning: The loss 'log' was deprecated in v1.1 and will be removed in version 1.3. Use `loss='log_loss'` which is equivalent.\n",
            "  warnings.warn(\n"
          ]
        },
        {
          "name": "stdout",
          "output_type": "stream",
          "text": [
            "[CV] END alpha=0.001, learning_rate=optimal, loss=log, max_iter=3000, penalty=l2; total time=   1.1s\n"
          ]
        },
        {
          "name": "stderr",
          "output_type": "stream",
          "text": [
            "/usr/local/lib/python3.9/dist-packages/sklearn/linear_model/_stochastic_gradient.py:163: FutureWarning: The loss 'log' was deprecated in v1.1 and will be removed in version 1.3. Use `loss='log_loss'` which is equivalent.\n",
            "  warnings.warn(\n"
          ]
        },
        {
          "name": "stdout",
          "output_type": "stream",
          "text": [
            "[CV] END alpha=0.001, learning_rate=optimal, loss=log, max_iter=3000, penalty=l2; total time=   1.2s\n"
          ]
        },
        {
          "name": "stderr",
          "output_type": "stream",
          "text": [
            "/usr/local/lib/python3.9/dist-packages/sklearn/linear_model/_stochastic_gradient.py:163: FutureWarning: The loss 'log' was deprecated in v1.1 and will be removed in version 1.3. Use `loss='log_loss'` which is equivalent.\n",
            "  warnings.warn(\n"
          ]
        },
        {
          "name": "stdout",
          "output_type": "stream",
          "text": [
            "[CV] END alpha=0.001, learning_rate=optimal, loss=log, max_iter=3000, penalty=l2; total time=   0.7s\n"
          ]
        },
        {
          "name": "stderr",
          "output_type": "stream",
          "text": [
            "/usr/local/lib/python3.9/dist-packages/sklearn/linear_model/_stochastic_gradient.py:163: FutureWarning: The loss 'log' was deprecated in v1.1 and will be removed in version 1.3. Use `loss='log_loss'` which is equivalent.\n",
            "  warnings.warn(\n"
          ]
        },
        {
          "name": "stdout",
          "output_type": "stream",
          "text": [
            "[CV] END alpha=0.001, learning_rate=optimal, loss=log, max_iter=3000, penalty=l2; total time=   0.7s\n"
          ]
        },
        {
          "name": "stderr",
          "output_type": "stream",
          "text": [
            "/usr/local/lib/python3.9/dist-packages/sklearn/linear_model/_stochastic_gradient.py:163: FutureWarning: The loss 'log' was deprecated in v1.1 and will be removed in version 1.3. Use `loss='log_loss'` which is equivalent.\n",
            "  warnings.warn(\n"
          ]
        },
        {
          "name": "stdout",
          "output_type": "stream",
          "text": [
            "[CV] END alpha=0.001, learning_rate=optimal, loss=log, max_iter=3000, penalty=elasticnet; total time=   0.7s\n"
          ]
        },
        {
          "name": "stderr",
          "output_type": "stream",
          "text": [
            "/usr/local/lib/python3.9/dist-packages/sklearn/linear_model/_stochastic_gradient.py:163: FutureWarning: The loss 'log' was deprecated in v1.1 and will be removed in version 1.3. Use `loss='log_loss'` which is equivalent.\n",
            "  warnings.warn(\n"
          ]
        },
        {
          "name": "stdout",
          "output_type": "stream",
          "text": [
            "[CV] END alpha=0.001, learning_rate=optimal, loss=log, max_iter=3000, penalty=elasticnet; total time=   0.7s\n"
          ]
        },
        {
          "name": "stderr",
          "output_type": "stream",
          "text": [
            "/usr/local/lib/python3.9/dist-packages/sklearn/linear_model/_stochastic_gradient.py:163: FutureWarning: The loss 'log' was deprecated in v1.1 and will be removed in version 1.3. Use `loss='log_loss'` which is equivalent.\n",
            "  warnings.warn(\n"
          ]
        },
        {
          "name": "stdout",
          "output_type": "stream",
          "text": [
            "[CV] END alpha=0.001, learning_rate=optimal, loss=log, max_iter=3000, penalty=elasticnet; total time=   0.7s\n"
          ]
        },
        {
          "name": "stderr",
          "output_type": "stream",
          "text": [
            "/usr/local/lib/python3.9/dist-packages/sklearn/linear_model/_stochastic_gradient.py:163: FutureWarning: The loss 'log' was deprecated in v1.1 and will be removed in version 1.3. Use `loss='log_loss'` which is equivalent.\n",
            "  warnings.warn(\n"
          ]
        },
        {
          "name": "stdout",
          "output_type": "stream",
          "text": [
            "[CV] END alpha=0.001, learning_rate=optimal, loss=log, max_iter=3000, penalty=elasticnet; total time=   0.8s\n"
          ]
        },
        {
          "name": "stderr",
          "output_type": "stream",
          "text": [
            "/usr/local/lib/python3.9/dist-packages/sklearn/linear_model/_stochastic_gradient.py:163: FutureWarning: The loss 'log' was deprecated in v1.1 and will be removed in version 1.3. Use `loss='log_loss'` which is equivalent.\n",
            "  warnings.warn(\n"
          ]
        },
        {
          "name": "stdout",
          "output_type": "stream",
          "text": [
            "[CV] END alpha=0.001, learning_rate=optimal, loss=log, max_iter=3000, penalty=elasticnet; total time=   0.8s\n",
            "[CV] END alpha=0.001, learning_rate=optimal, loss=hinge, max_iter=1000, penalty=l1; total time=   1.0s\n",
            "[CV] END alpha=0.001, learning_rate=optimal, loss=hinge, max_iter=1000, penalty=l1; total time=   1.1s\n",
            "[CV] END alpha=0.001, learning_rate=optimal, loss=hinge, max_iter=1000, penalty=l1; total time=   1.0s\n",
            "[CV] END alpha=0.001, learning_rate=optimal, loss=hinge, max_iter=1000, penalty=l1; total time=   1.1s\n",
            "[CV] END alpha=0.001, learning_rate=optimal, loss=hinge, max_iter=1000, penalty=l1; total time=   2.5s\n",
            "[CV] END alpha=0.001, learning_rate=optimal, loss=hinge, max_iter=1000, penalty=l2; total time=   1.2s\n",
            "[CV] END alpha=0.001, learning_rate=optimal, loss=hinge, max_iter=1000, penalty=l2; total time=   1.0s\n",
            "[CV] END alpha=0.001, learning_rate=optimal, loss=hinge, max_iter=1000, penalty=l2; total time=   1.3s\n",
            "[CV] END alpha=0.001, learning_rate=optimal, loss=hinge, max_iter=1000, penalty=l2; total time=   1.3s\n",
            "[CV] END alpha=0.001, learning_rate=optimal, loss=hinge, max_iter=1000, penalty=l2; total time=   1.5s\n",
            "[CV] END alpha=0.001, learning_rate=optimal, loss=hinge, max_iter=1000, penalty=elasticnet; total time=   0.7s\n",
            "[CV] END alpha=0.001, learning_rate=optimal, loss=hinge, max_iter=1000, penalty=elasticnet; total time=   0.7s\n",
            "[CV] END alpha=0.001, learning_rate=optimal, loss=hinge, max_iter=1000, penalty=elasticnet; total time=   0.7s\n",
            "[CV] END alpha=0.001, learning_rate=optimal, loss=hinge, max_iter=1000, penalty=elasticnet; total time=   0.7s\n",
            "[CV] END alpha=0.001, learning_rate=optimal, loss=hinge, max_iter=1000, penalty=elasticnet; total time=   0.7s\n",
            "[CV] END alpha=0.001, learning_rate=optimal, loss=hinge, max_iter=2000, penalty=l1; total time=   1.6s\n",
            "[CV] END alpha=0.001, learning_rate=optimal, loss=hinge, max_iter=2000, penalty=l1; total time=   1.6s\n",
            "[CV] END alpha=0.001, learning_rate=optimal, loss=hinge, max_iter=2000, penalty=l1; total time=   1.0s\n",
            "[CV] END alpha=0.001, learning_rate=optimal, loss=hinge, max_iter=2000, penalty=l1; total time=   1.1s\n",
            "[CV] END alpha=0.001, learning_rate=optimal, loss=hinge, max_iter=2000, penalty=l1; total time=   1.3s\n",
            "[CV] END alpha=0.001, learning_rate=optimal, loss=hinge, max_iter=2000, penalty=l2; total time=   0.6s\n",
            "[CV] END alpha=0.001, learning_rate=optimal, loss=hinge, max_iter=2000, penalty=l2; total time=   0.6s\n",
            "[CV] END alpha=0.001, learning_rate=optimal, loss=hinge, max_iter=2000, penalty=l2; total time=   0.7s\n",
            "[CV] END alpha=0.001, learning_rate=optimal, loss=hinge, max_iter=2000, penalty=l2; total time=   0.7s\n",
            "[CV] END alpha=0.001, learning_rate=optimal, loss=hinge, max_iter=2000, penalty=l2; total time=   1.5s\n",
            "[CV] END alpha=0.001, learning_rate=optimal, loss=hinge, max_iter=2000, penalty=elasticnet; total time=   1.3s\n",
            "[CV] END alpha=0.001, learning_rate=optimal, loss=hinge, max_iter=2000, penalty=elasticnet; total time=   3.0s\n",
            "[CV] END alpha=0.001, learning_rate=optimal, loss=hinge, max_iter=2000, penalty=elasticnet; total time=   0.8s\n",
            "[CV] END alpha=0.001, learning_rate=optimal, loss=hinge, max_iter=2000, penalty=elasticnet; total time=   0.7s\n",
            "[CV] END alpha=0.001, learning_rate=optimal, loss=hinge, max_iter=2000, penalty=elasticnet; total time=   0.7s\n",
            "[CV] END alpha=0.001, learning_rate=optimal, loss=hinge, max_iter=3000, penalty=l1; total time=   1.0s\n",
            "[CV] END alpha=0.001, learning_rate=optimal, loss=hinge, max_iter=3000, penalty=l1; total time=   1.1s\n",
            "[CV] END alpha=0.001, learning_rate=optimal, loss=hinge, max_iter=3000, penalty=l1; total time=   1.0s\n",
            "[CV] END alpha=0.001, learning_rate=optimal, loss=hinge, max_iter=3000, penalty=l1; total time=   1.1s\n",
            "[CV] END alpha=0.001, learning_rate=optimal, loss=hinge, max_iter=3000, penalty=l1; total time=   1.0s\n",
            "[CV] END alpha=0.001, learning_rate=optimal, loss=hinge, max_iter=3000, penalty=l2; total time=   0.6s\n",
            "[CV] END alpha=0.001, learning_rate=optimal, loss=hinge, max_iter=3000, penalty=l2; total time=   0.6s\n",
            "[CV] END alpha=0.001, learning_rate=optimal, loss=hinge, max_iter=3000, penalty=l2; total time=   0.7s\n",
            "[CV] END alpha=0.001, learning_rate=optimal, loss=hinge, max_iter=3000, penalty=l2; total time=   1.1s\n",
            "[CV] END alpha=0.001, learning_rate=optimal, loss=hinge, max_iter=3000, penalty=l2; total time=   1.5s\n",
            "[CV] END alpha=0.001, learning_rate=optimal, loss=hinge, max_iter=3000, penalty=elasticnet; total time=   0.7s\n",
            "[CV] END alpha=0.001, learning_rate=optimal, loss=hinge, max_iter=3000, penalty=elasticnet; total time=   0.7s\n",
            "[CV] END alpha=0.001, learning_rate=optimal, loss=hinge, max_iter=3000, penalty=elasticnet; total time=   0.7s\n",
            "[CV] END alpha=0.001, learning_rate=optimal, loss=hinge, max_iter=3000, penalty=elasticnet; total time=   1.4s\n",
            "[CV] END alpha=0.001, learning_rate=optimal, loss=hinge, max_iter=3000, penalty=elasticnet; total time=   2.0s\n",
            "[CV] END alpha=0.001, learning_rate=invscaling, loss=log, max_iter=1000, penalty=l1; total time=   0.2s\n",
            "[CV] END alpha=0.001, learning_rate=invscaling, loss=log, max_iter=1000, penalty=l1; total time=   0.5s\n",
            "[CV] END alpha=0.001, learning_rate=invscaling, loss=log, max_iter=1000, penalty=l1; total time=   0.2s\n",
            "[CV] END alpha=0.001, learning_rate=invscaling, loss=log, max_iter=1000, penalty=l1; total time=   0.3s\n",
            "[CV] END alpha=0.001, learning_rate=invscaling, loss=log, max_iter=1000, penalty=l1; total time=   0.2s\n",
            "[CV] END alpha=0.001, learning_rate=invscaling, loss=log, max_iter=1000, penalty=l2; total time=   0.2s\n",
            "[CV] END alpha=0.001, learning_rate=invscaling, loss=log, max_iter=1000, penalty=l2; total time=   0.3s\n",
            "[CV] END alpha=0.001, learning_rate=invscaling, loss=log, max_iter=1000, penalty=l2; total time=   0.3s\n",
            "[CV] END alpha=0.001, learning_rate=invscaling, loss=log, max_iter=1000, penalty=l2; total time=   0.3s\n",
            "[CV] END alpha=0.001, learning_rate=invscaling, loss=log, max_iter=1000, penalty=l2; total time=   0.2s\n",
            "[CV] END alpha=0.001, learning_rate=invscaling, loss=log, max_iter=1000, penalty=elasticnet; total time=   0.4s\n",
            "[CV] END alpha=0.001, learning_rate=invscaling, loss=log, max_iter=1000, penalty=elasticnet; total time=   0.4s\n",
            "[CV] END alpha=0.001, learning_rate=invscaling, loss=log, max_iter=1000, penalty=elasticnet; total time=   0.4s\n",
            "[CV] END alpha=0.001, learning_rate=invscaling, loss=log, max_iter=1000, penalty=elasticnet; total time=   0.4s\n",
            "[CV] END alpha=0.001, learning_rate=invscaling, loss=log, max_iter=1000, penalty=elasticnet; total time=   0.3s\n",
            "[CV] END alpha=0.001, learning_rate=invscaling, loss=log, max_iter=2000, penalty=l1; total time=   0.3s\n",
            "[CV] END alpha=0.001, learning_rate=invscaling, loss=log, max_iter=2000, penalty=l1; total time=   0.1s\n",
            "[CV] END alpha=0.001, learning_rate=invscaling, loss=log, max_iter=2000, penalty=l1; total time=   0.2s\n",
            "[CV] END alpha=0.001, learning_rate=invscaling, loss=log, max_iter=2000, penalty=l1; total time=   0.2s\n",
            "[CV] END alpha=0.001, learning_rate=invscaling, loss=log, max_iter=2000, penalty=l1; total time=   0.2s\n",
            "[CV] END alpha=0.001, learning_rate=invscaling, loss=log, max_iter=2000, penalty=l2; total time=   0.2s\n",
            "[CV] END alpha=0.001, learning_rate=invscaling, loss=log, max_iter=2000, penalty=l2; total time=   0.2s\n",
            "[CV] END alpha=0.001, learning_rate=invscaling, loss=log, max_iter=2000, penalty=l2; total time=   0.1s\n",
            "[CV] END alpha=0.001, learning_rate=invscaling, loss=log, max_iter=2000, penalty=l2; total time=   0.1s\n",
            "[CV] END alpha=0.001, learning_rate=invscaling, loss=log, max_iter=2000, penalty=l2; total time=   0.1s\n",
            "[CV] END alpha=0.001, learning_rate=invscaling, loss=log, max_iter=2000, penalty=elasticnet; total time=   0.1s\n",
            "[CV] END alpha=0.001, learning_rate=invscaling, loss=log, max_iter=2000, penalty=elasticnet; total time=   0.1s\n",
            "[CV] END alpha=0.001, learning_rate=invscaling, loss=log, max_iter=2000, penalty=elasticnet; total time=   0.1s\n",
            "[CV] END alpha=0.001, learning_rate=invscaling, loss=log, max_iter=2000, penalty=elasticnet; total time=   0.1s\n",
            "[CV] END alpha=0.001, learning_rate=invscaling, loss=log, max_iter=2000, penalty=elasticnet; total time=   0.1s\n",
            "[CV] END alpha=0.001, learning_rate=invscaling, loss=log, max_iter=3000, penalty=l1; total time=   0.1s\n",
            "[CV] END alpha=0.001, learning_rate=invscaling, loss=log, max_iter=3000, penalty=l1; total time=   0.1s\n",
            "[CV] END alpha=0.001, learning_rate=invscaling, loss=log, max_iter=3000, penalty=l1; total time=   0.1s\n",
            "[CV] END alpha=0.001, learning_rate=invscaling, loss=log, max_iter=3000, penalty=l1; total time=   0.1s\n",
            "[CV] END alpha=0.001, learning_rate=invscaling, loss=log, max_iter=3000, penalty=l1; total time=   0.1s\n",
            "[CV] END alpha=0.001, learning_rate=invscaling, loss=log, max_iter=3000, penalty=l2; total time=   0.1s\n",
            "[CV] END alpha=0.001, learning_rate=invscaling, loss=log, max_iter=3000, penalty=l2; total time=   0.1s\n",
            "[CV] END alpha=0.001, learning_rate=invscaling, loss=log, max_iter=3000, penalty=l2; total time=   0.1s\n",
            "[CV] END alpha=0.001, learning_rate=invscaling, loss=log, max_iter=3000, penalty=l2; total time=   0.1s\n",
            "[CV] END alpha=0.001, learning_rate=invscaling, loss=log, max_iter=3000, penalty=l2; total time=   0.1s\n",
            "[CV] END alpha=0.001, learning_rate=invscaling, loss=log, max_iter=3000, penalty=elasticnet; total time=   0.1s\n",
            "[CV] END alpha=0.001, learning_rate=invscaling, loss=log, max_iter=3000, penalty=elasticnet; total time=   0.1s\n",
            "[CV] END alpha=0.001, learning_rate=invscaling, loss=log, max_iter=3000, penalty=elasticnet; total time=   0.1s\n",
            "[CV] END alpha=0.001, learning_rate=invscaling, loss=log, max_iter=3000, penalty=elasticnet; total time=   0.1s\n",
            "[CV] END alpha=0.001, learning_rate=invscaling, loss=log, max_iter=3000, penalty=elasticnet; total time=   0.1s\n",
            "[CV] END alpha=0.001, learning_rate=invscaling, loss=hinge, max_iter=1000, penalty=l1; total time=   0.1s\n",
            "[CV] END alpha=0.001, learning_rate=invscaling, loss=hinge, max_iter=1000, penalty=l1; total time=   0.1s\n",
            "[CV] END alpha=0.001, learning_rate=invscaling, loss=hinge, max_iter=1000, penalty=l1; total time=   0.1s\n",
            "[CV] END alpha=0.001, learning_rate=invscaling, loss=hinge, max_iter=1000, penalty=l1; total time=   0.2s\n",
            "[CV] END alpha=0.001, learning_rate=invscaling, loss=hinge, max_iter=1000, penalty=l1; total time=   0.1s\n",
            "[CV] END alpha=0.001, learning_rate=invscaling, loss=hinge, max_iter=1000, penalty=l2; total time=   0.1s\n",
            "[CV] END alpha=0.001, learning_rate=invscaling, loss=hinge, max_iter=1000, penalty=l2; total time=   0.1s\n",
            "[CV] END alpha=0.001, learning_rate=invscaling, loss=hinge, max_iter=1000, penalty=l2; total time=   0.1s\n",
            "[CV] END alpha=0.001, learning_rate=invscaling, loss=hinge, max_iter=1000, penalty=l2; total time=   0.1s\n",
            "[CV] END alpha=0.001, learning_rate=invscaling, loss=hinge, max_iter=1000, penalty=l2; total time=   0.1s\n",
            "[CV] END alpha=0.001, learning_rate=invscaling, loss=hinge, max_iter=1000, penalty=elasticnet; total time=   0.1s\n",
            "[CV] END alpha=0.001, learning_rate=invscaling, loss=hinge, max_iter=1000, penalty=elasticnet; total time=   0.1s\n",
            "[CV] END alpha=0.001, learning_rate=invscaling, loss=hinge, max_iter=1000, penalty=elasticnet; total time=   0.1s\n",
            "[CV] END alpha=0.001, learning_rate=invscaling, loss=hinge, max_iter=1000, penalty=elasticnet; total time=   0.1s\n",
            "[CV] END alpha=0.001, learning_rate=invscaling, loss=hinge, max_iter=1000, penalty=elasticnet; total time=   0.1s\n",
            "[CV] END alpha=0.001, learning_rate=invscaling, loss=hinge, max_iter=2000, penalty=l1; total time=   0.1s\n",
            "[CV] END alpha=0.001, learning_rate=invscaling, loss=hinge, max_iter=2000, penalty=l1; total time=   0.1s\n",
            "[CV] END alpha=0.001, learning_rate=invscaling, loss=hinge, max_iter=2000, penalty=l1; total time=   0.1s\n",
            "[CV] END alpha=0.001, learning_rate=invscaling, loss=hinge, max_iter=2000, penalty=l1; total time=   0.1s\n",
            "[CV] END alpha=0.001, learning_rate=invscaling, loss=hinge, max_iter=2000, penalty=l1; total time=   0.1s\n",
            "[CV] END alpha=0.001, learning_rate=invscaling, loss=hinge, max_iter=2000, penalty=l2; total time=   0.1s\n",
            "[CV] END alpha=0.001, learning_rate=invscaling, loss=hinge, max_iter=2000, penalty=l2; total time=   0.1s\n",
            "[CV] END alpha=0.001, learning_rate=invscaling, loss=hinge, max_iter=2000, penalty=l2; total time=   0.1s\n",
            "[CV] END alpha=0.001, learning_rate=invscaling, loss=hinge, max_iter=2000, penalty=l2; total time=   0.1s\n",
            "[CV] END alpha=0.001, learning_rate=invscaling, loss=hinge, max_iter=2000, penalty=l2; total time=   0.1s\n",
            "[CV] END alpha=0.001, learning_rate=invscaling, loss=hinge, max_iter=2000, penalty=elasticnet; total time=   0.1s\n",
            "[CV] END alpha=0.001, learning_rate=invscaling, loss=hinge, max_iter=2000, penalty=elasticnet; total time=   0.1s\n",
            "[CV] END alpha=0.001, learning_rate=invscaling, loss=hinge, max_iter=2000, penalty=elasticnet; total time=   0.1s\n",
            "[CV] END alpha=0.001, learning_rate=invscaling, loss=hinge, max_iter=2000, penalty=elasticnet; total time=   0.1s\n",
            "[CV] END alpha=0.001, learning_rate=invscaling, loss=hinge, max_iter=2000, penalty=elasticnet; total time=   0.1s\n",
            "[CV] END alpha=0.001, learning_rate=invscaling, loss=hinge, max_iter=3000, penalty=l1; total time=   0.1s\n",
            "[CV] END alpha=0.001, learning_rate=invscaling, loss=hinge, max_iter=3000, penalty=l1; total time=   0.2s\n",
            "[CV] END alpha=0.001, learning_rate=invscaling, loss=hinge, max_iter=3000, penalty=l1; total time=   0.2s\n",
            "[CV] END alpha=0.001, learning_rate=invscaling, loss=hinge, max_iter=3000, penalty=l1; total time=   0.1s\n",
            "[CV] END alpha=0.001, learning_rate=invscaling, loss=hinge, max_iter=3000, penalty=l1; total time=   0.1s\n",
            "[CV] END alpha=0.001, learning_rate=invscaling, loss=hinge, max_iter=3000, penalty=l2; total time=   0.1s\n",
            "[CV] END alpha=0.001, learning_rate=invscaling, loss=hinge, max_iter=3000, penalty=l2; total time=   0.2s\n",
            "[CV] END alpha=0.001, learning_rate=invscaling, loss=hinge, max_iter=3000, penalty=l2; total time=   0.1s\n",
            "[CV] END alpha=0.001, learning_rate=invscaling, loss=hinge, max_iter=3000, penalty=l2; total time=   0.1s\n",
            "[CV] END alpha=0.001, learning_rate=invscaling, loss=hinge, max_iter=3000, penalty=l2; total time=   0.1s\n",
            "[CV] END alpha=0.001, learning_rate=invscaling, loss=hinge, max_iter=3000, penalty=elasticnet; total time=   0.2s\n",
            "[CV] END alpha=0.001, learning_rate=invscaling, loss=hinge, max_iter=3000, penalty=elasticnet; total time=   0.2s\n",
            "[CV] END alpha=0.001, learning_rate=invscaling, loss=hinge, max_iter=3000, penalty=elasticnet; total time=   0.1s\n",
            "[CV] END alpha=0.001, learning_rate=invscaling, loss=hinge, max_iter=3000, penalty=elasticnet; total time=   0.1s\n",
            "[CV] END alpha=0.001, learning_rate=invscaling, loss=hinge, max_iter=3000, penalty=elasticnet; total time=   0.1s\n",
            "[CV] END alpha=0.01, learning_rate=constant, loss=log, max_iter=1000, penalty=l1; total time=   0.1s\n",
            "[CV] END alpha=0.01, learning_rate=constant, loss=log, max_iter=1000, penalty=l1; total time=   0.1s\n",
            "[CV] END alpha=0.01, learning_rate=constant, loss=log, max_iter=1000, penalty=l1; total time=   0.1s\n",
            "[CV] END alpha=0.01, learning_rate=constant, loss=log, max_iter=1000, penalty=l1; total time=   0.1s\n",
            "[CV] END alpha=0.01, learning_rate=constant, loss=log, max_iter=1000, penalty=l1; total time=   0.1s\n",
            "[CV] END alpha=0.01, learning_rate=constant, loss=log, max_iter=1000, penalty=l2; total time=   0.1s\n",
            "[CV] END alpha=0.01, learning_rate=constant, loss=log, max_iter=1000, penalty=l2; total time=   0.1s\n",
            "[CV] END alpha=0.01, learning_rate=constant, loss=log, max_iter=1000, penalty=l2; total time=   0.1s\n",
            "[CV] END alpha=0.01, learning_rate=constant, loss=log, max_iter=1000, penalty=l2; total time=   0.1s\n",
            "[CV] END alpha=0.01, learning_rate=constant, loss=log, max_iter=1000, penalty=l2; total time=   0.2s\n",
            "[CV] END alpha=0.01, learning_rate=constant, loss=log, max_iter=1000, penalty=elasticnet; total time=   0.1s\n",
            "[CV] END alpha=0.01, learning_rate=constant, loss=log, max_iter=1000, penalty=elasticnet; total time=   0.2s\n",
            "[CV] END alpha=0.01, learning_rate=constant, loss=log, max_iter=1000, penalty=elasticnet; total time=   0.2s\n",
            "[CV] END alpha=0.01, learning_rate=constant, loss=log, max_iter=1000, penalty=elasticnet; total time=   0.2s\n",
            "[CV] END alpha=0.01, learning_rate=constant, loss=log, max_iter=1000, penalty=elasticnet; total time=   0.2s\n",
            "[CV] END alpha=0.01, learning_rate=constant, loss=log, max_iter=2000, penalty=l1; total time=   0.2s\n",
            "[CV] END alpha=0.01, learning_rate=constant, loss=log, max_iter=2000, penalty=l1; total time=   0.1s\n",
            "[CV] END alpha=0.01, learning_rate=constant, loss=log, max_iter=2000, penalty=l1; total time=   0.2s\n",
            "[CV] END alpha=0.01, learning_rate=constant, loss=log, max_iter=2000, penalty=l1; total time=   0.2s\n",
            "[CV] END alpha=0.01, learning_rate=constant, loss=log, max_iter=2000, penalty=l1; total time=   0.3s\n",
            "[CV] END alpha=0.01, learning_rate=constant, loss=log, max_iter=2000, penalty=l2; total time=   0.3s\n",
            "[CV] END alpha=0.01, learning_rate=constant, loss=log, max_iter=2000, penalty=l2; total time=   0.3s\n",
            "[CV] END alpha=0.01, learning_rate=constant, loss=log, max_iter=2000, penalty=l2; total time=   0.2s\n",
            "[CV] END alpha=0.01, learning_rate=constant, loss=log, max_iter=2000, penalty=l2; total time=   0.3s\n",
            "[CV] END alpha=0.01, learning_rate=constant, loss=log, max_iter=2000, penalty=l2; total time=   0.2s\n",
            "[CV] END alpha=0.01, learning_rate=constant, loss=log, max_iter=2000, penalty=elasticnet; total time=   0.3s\n",
            "[CV] END alpha=0.01, learning_rate=constant, loss=log, max_iter=2000, penalty=elasticnet; total time=   0.3s\n",
            "[CV] END alpha=0.01, learning_rate=constant, loss=log, max_iter=2000, penalty=elasticnet; total time=   0.4s\n",
            "[CV] END alpha=0.01, learning_rate=constant, loss=log, max_iter=2000, penalty=elasticnet; total time=   0.4s\n",
            "[CV] END alpha=0.01, learning_rate=constant, loss=log, max_iter=2000, penalty=elasticnet; total time=   0.3s\n",
            "[CV] END alpha=0.01, learning_rate=constant, loss=log, max_iter=3000, penalty=l1; total time=   0.3s\n",
            "[CV] END alpha=0.01, learning_rate=constant, loss=log, max_iter=3000, penalty=l1; total time=   0.3s\n",
            "[CV] END alpha=0.01, learning_rate=constant, loss=log, max_iter=3000, penalty=l1; total time=   0.3s\n",
            "[CV] END alpha=0.01, learning_rate=constant, loss=log, max_iter=3000, penalty=l1; total time=   0.1s\n",
            "[CV] END alpha=0.01, learning_rate=constant, loss=log, max_iter=3000, penalty=l1; total time=   0.3s\n",
            "[CV] END alpha=0.01, learning_rate=constant, loss=log, max_iter=3000, penalty=l2; total time=   0.6s\n",
            "[CV] END alpha=0.01, learning_rate=constant, loss=log, max_iter=3000, penalty=l2; total time=   0.6s\n",
            "[CV] END alpha=0.01, learning_rate=constant, loss=log, max_iter=3000, penalty=l2; total time=   0.5s\n",
            "[CV] END alpha=0.01, learning_rate=constant, loss=log, max_iter=3000, penalty=l2; total time=   0.4s\n",
            "[CV] END alpha=0.01, learning_rate=constant, loss=log, max_iter=3000, penalty=l2; total time=   0.3s\n",
            "[CV] END alpha=0.01, learning_rate=constant, loss=log, max_iter=3000, penalty=elasticnet; total time=   0.3s\n",
            "[CV] END alpha=0.01, learning_rate=constant, loss=log, max_iter=3000, penalty=elasticnet; total time=   0.4s\n",
            "[CV] END alpha=0.01, learning_rate=constant, loss=log, max_iter=3000, penalty=elasticnet; total time=   0.3s\n",
            "[CV] END alpha=0.01, learning_rate=constant, loss=log, max_iter=3000, penalty=elasticnet; total time=   0.2s\n",
            "[CV] END alpha=0.01, learning_rate=constant, loss=log, max_iter=3000, penalty=elasticnet; total time=   0.3s\n",
            "[CV] END alpha=0.01, learning_rate=constant, loss=hinge, max_iter=1000, penalty=l1; total time=   0.2s\n",
            "[CV] END alpha=0.01, learning_rate=constant, loss=hinge, max_iter=1000, penalty=l1; total time=   0.3s\n",
            "[CV] END alpha=0.01, learning_rate=constant, loss=hinge, max_iter=1000, penalty=l1; total time=   0.5s\n",
            "[CV] END alpha=0.01, learning_rate=constant, loss=hinge, max_iter=1000, penalty=l1; total time=   0.3s\n",
            "[CV] END alpha=0.01, learning_rate=constant, loss=hinge, max_iter=1000, penalty=l1; total time=   0.3s\n",
            "[CV] END alpha=0.01, learning_rate=constant, loss=hinge, max_iter=1000, penalty=l2; total time=   0.3s\n",
            "[CV] END alpha=0.01, learning_rate=constant, loss=hinge, max_iter=1000, penalty=l2; total time=   0.3s\n",
            "[CV] END alpha=0.01, learning_rate=constant, loss=hinge, max_iter=1000, penalty=l2; total time=   0.2s\n",
            "[CV] END alpha=0.01, learning_rate=constant, loss=hinge, max_iter=1000, penalty=l2; total time=   0.2s\n",
            "[CV] END alpha=0.01, learning_rate=constant, loss=hinge, max_iter=1000, penalty=l2; total time=   0.2s\n",
            "[CV] END alpha=0.01, learning_rate=constant, loss=hinge, max_iter=1000, penalty=elasticnet; total time=   0.2s\n",
            "[CV] END alpha=0.01, learning_rate=constant, loss=hinge, max_iter=1000, penalty=elasticnet; total time=   0.2s\n",
            "[CV] END alpha=0.01, learning_rate=constant, loss=hinge, max_iter=1000, penalty=elasticnet; total time=   0.2s\n",
            "[CV] END alpha=0.01, learning_rate=constant, loss=hinge, max_iter=1000, penalty=elasticnet; total time=   0.2s\n",
            "[CV] END alpha=0.01, learning_rate=constant, loss=hinge, max_iter=1000, penalty=elasticnet; total time=   0.2s\n",
            "[CV] END alpha=0.01, learning_rate=constant, loss=hinge, max_iter=2000, penalty=l1; total time=   0.1s\n",
            "[CV] END alpha=0.01, learning_rate=constant, loss=hinge, max_iter=2000, penalty=l1; total time=   0.2s\n",
            "[CV] END alpha=0.01, learning_rate=constant, loss=hinge, max_iter=2000, penalty=l1; total time=   0.2s\n",
            "[CV] END alpha=0.01, learning_rate=constant, loss=hinge, max_iter=2000, penalty=l1; total time=   0.2s\n",
            "[CV] END alpha=0.01, learning_rate=constant, loss=hinge, max_iter=2000, penalty=l1; total time=   0.2s\n",
            "[CV] END alpha=0.01, learning_rate=constant, loss=hinge, max_iter=2000, penalty=l2; total time=   0.2s\n",
            "[CV] END alpha=0.01, learning_rate=constant, loss=hinge, max_iter=2000, penalty=l2; total time=   0.2s\n",
            "[CV] END alpha=0.01, learning_rate=constant, loss=hinge, max_iter=2000, penalty=l2; total time=   0.2s\n",
            "[CV] END alpha=0.01, learning_rate=constant, loss=hinge, max_iter=2000, penalty=l2; total time=   0.3s\n",
            "[CV] END alpha=0.01, learning_rate=constant, loss=hinge, max_iter=2000, penalty=l2; total time=   0.3s\n",
            "[CV] END alpha=0.01, learning_rate=constant, loss=hinge, max_iter=2000, penalty=elasticnet; total time=   0.3s\n",
            "[CV] END alpha=0.01, learning_rate=constant, loss=hinge, max_iter=2000, penalty=elasticnet; total time=   0.4s\n",
            "[CV] END alpha=0.01, learning_rate=constant, loss=hinge, max_iter=2000, penalty=elasticnet; total time=   0.3s\n",
            "[CV] END alpha=0.01, learning_rate=constant, loss=hinge, max_iter=2000, penalty=elasticnet; total time=   0.3s\n",
            "[CV] END alpha=0.01, learning_rate=constant, loss=hinge, max_iter=2000, penalty=elasticnet; total time=   0.3s\n",
            "[CV] END alpha=0.01, learning_rate=constant, loss=hinge, max_iter=3000, penalty=l1; total time=   0.2s\n",
            "[CV] END alpha=0.01, learning_rate=constant, loss=hinge, max_iter=3000, penalty=l1; total time=   0.2s\n",
            "[CV] END alpha=0.01, learning_rate=constant, loss=hinge, max_iter=3000, penalty=l1; total time=   0.2s\n",
            "[CV] END alpha=0.01, learning_rate=constant, loss=hinge, max_iter=3000, penalty=l1; total time=   0.2s\n",
            "[CV] END alpha=0.01, learning_rate=constant, loss=hinge, max_iter=3000, penalty=l1; total time=   0.3s\n",
            "[CV] END alpha=0.01, learning_rate=constant, loss=hinge, max_iter=3000, penalty=l2; total time=   0.4s\n",
            "[CV] END alpha=0.01, learning_rate=constant, loss=hinge, max_iter=3000, penalty=l2; total time=   0.1s\n",
            "[CV] END alpha=0.01, learning_rate=constant, loss=hinge, max_iter=3000, penalty=l2; total time=   0.1s\n",
            "[CV] END alpha=0.01, learning_rate=constant, loss=hinge, max_iter=3000, penalty=l2; total time=   0.1s\n",
            "[CV] END alpha=0.01, learning_rate=constant, loss=hinge, max_iter=3000, penalty=l2; total time=   0.1s\n",
            "[CV] END alpha=0.01, learning_rate=constant, loss=hinge, max_iter=3000, penalty=elasticnet; total time=   0.1s\n",
            "[CV] END alpha=0.01, learning_rate=constant, loss=hinge, max_iter=3000, penalty=elasticnet; total time=   0.1s\n",
            "[CV] END alpha=0.01, learning_rate=constant, loss=hinge, max_iter=3000, penalty=elasticnet; total time=   0.1s\n",
            "[CV] END alpha=0.01, learning_rate=constant, loss=hinge, max_iter=3000, penalty=elasticnet; total time=   0.1s\n",
            "[CV] END alpha=0.01, learning_rate=constant, loss=hinge, max_iter=3000, penalty=elasticnet; total time=   0.1s\n"
          ]
        },
        {
          "name": "stderr",
          "output_type": "stream",
          "text": [
            "/usr/local/lib/python3.9/dist-packages/sklearn/linear_model/_stochastic_gradient.py:163: FutureWarning: The loss 'log' was deprecated in v1.1 and will be removed in version 1.3. Use `loss='log_loss'` which is equivalent.\n",
            "  warnings.warn(\n"
          ]
        },
        {
          "name": "stdout",
          "output_type": "stream",
          "text": [
            "[CV] END alpha=0.01, learning_rate=optimal, loss=log, max_iter=1000, penalty=l1; total time=   0.9s\n"
          ]
        },
        {
          "name": "stderr",
          "output_type": "stream",
          "text": [
            "/usr/local/lib/python3.9/dist-packages/sklearn/linear_model/_stochastic_gradient.py:163: FutureWarning: The loss 'log' was deprecated in v1.1 and will be removed in version 1.3. Use `loss='log_loss'` which is equivalent.\n",
            "  warnings.warn(\n"
          ]
        },
        {
          "name": "stdout",
          "output_type": "stream",
          "text": [
            "[CV] END alpha=0.01, learning_rate=optimal, loss=log, max_iter=1000, penalty=l1; total time=   0.8s\n"
          ]
        },
        {
          "name": "stderr",
          "output_type": "stream",
          "text": [
            "/usr/local/lib/python3.9/dist-packages/sklearn/linear_model/_stochastic_gradient.py:163: FutureWarning: The loss 'log' was deprecated in v1.1 and will be removed in version 1.3. Use `loss='log_loss'` which is equivalent.\n",
            "  warnings.warn(\n"
          ]
        },
        {
          "name": "stdout",
          "output_type": "stream",
          "text": [
            "[CV] END alpha=0.01, learning_rate=optimal, loss=log, max_iter=1000, penalty=l1; total time=   0.8s\n"
          ]
        },
        {
          "name": "stderr",
          "output_type": "stream",
          "text": [
            "/usr/local/lib/python3.9/dist-packages/sklearn/linear_model/_stochastic_gradient.py:163: FutureWarning: The loss 'log' was deprecated in v1.1 and will be removed in version 1.3. Use `loss='log_loss'` which is equivalent.\n",
            "  warnings.warn(\n"
          ]
        },
        {
          "name": "stdout",
          "output_type": "stream",
          "text": [
            "[CV] END alpha=0.01, learning_rate=optimal, loss=log, max_iter=1000, penalty=l1; total time=   0.8s\n"
          ]
        },
        {
          "name": "stderr",
          "output_type": "stream",
          "text": [
            "/usr/local/lib/python3.9/dist-packages/sklearn/linear_model/_stochastic_gradient.py:163: FutureWarning: The loss 'log' was deprecated in v1.1 and will be removed in version 1.3. Use `loss='log_loss'` which is equivalent.\n",
            "  warnings.warn(\n"
          ]
        },
        {
          "name": "stdout",
          "output_type": "stream",
          "text": [
            "[CV] END alpha=0.01, learning_rate=optimal, loss=log, max_iter=1000, penalty=l1; total time=   0.8s\n"
          ]
        },
        {
          "name": "stderr",
          "output_type": "stream",
          "text": [
            "/usr/local/lib/python3.9/dist-packages/sklearn/linear_model/_stochastic_gradient.py:163: FutureWarning: The loss 'log' was deprecated in v1.1 and will be removed in version 1.3. Use `loss='log_loss'` which is equivalent.\n",
            "  warnings.warn(\n"
          ]
        },
        {
          "name": "stdout",
          "output_type": "stream",
          "text": [
            "[CV] END alpha=0.01, learning_rate=optimal, loss=log, max_iter=1000, penalty=l2; total time=   0.7s\n"
          ]
        },
        {
          "name": "stderr",
          "output_type": "stream",
          "text": [
            "/usr/local/lib/python3.9/dist-packages/sklearn/linear_model/_stochastic_gradient.py:163: FutureWarning: The loss 'log' was deprecated in v1.1 and will be removed in version 1.3. Use `loss='log_loss'` which is equivalent.\n",
            "  warnings.warn(\n"
          ]
        },
        {
          "name": "stdout",
          "output_type": "stream",
          "text": [
            "[CV] END alpha=0.01, learning_rate=optimal, loss=log, max_iter=1000, penalty=l2; total time=   0.7s\n"
          ]
        },
        {
          "name": "stderr",
          "output_type": "stream",
          "text": [
            "/usr/local/lib/python3.9/dist-packages/sklearn/linear_model/_stochastic_gradient.py:163: FutureWarning: The loss 'log' was deprecated in v1.1 and will be removed in version 1.3. Use `loss='log_loss'` which is equivalent.\n",
            "  warnings.warn(\n"
          ]
        },
        {
          "name": "stdout",
          "output_type": "stream",
          "text": [
            "[CV] END alpha=0.01, learning_rate=optimal, loss=log, max_iter=1000, penalty=l2; total time=   0.7s\n"
          ]
        },
        {
          "name": "stderr",
          "output_type": "stream",
          "text": [
            "/usr/local/lib/python3.9/dist-packages/sklearn/linear_model/_stochastic_gradient.py:163: FutureWarning: The loss 'log' was deprecated in v1.1 and will be removed in version 1.3. Use `loss='log_loss'` which is equivalent.\n",
            "  warnings.warn(\n"
          ]
        },
        {
          "name": "stdout",
          "output_type": "stream",
          "text": [
            "[CV] END alpha=0.01, learning_rate=optimal, loss=log, max_iter=1000, penalty=l2; total time=   1.1s\n"
          ]
        },
        {
          "name": "stderr",
          "output_type": "stream",
          "text": [
            "/usr/local/lib/python3.9/dist-packages/sklearn/linear_model/_stochastic_gradient.py:163: FutureWarning: The loss 'log' was deprecated in v1.1 and will be removed in version 1.3. Use `loss='log_loss'` which is equivalent.\n",
            "  warnings.warn(\n"
          ]
        },
        {
          "name": "stdout",
          "output_type": "stream",
          "text": [
            "[CV] END alpha=0.01, learning_rate=optimal, loss=log, max_iter=1000, penalty=l2; total time=   1.2s\n"
          ]
        },
        {
          "name": "stderr",
          "output_type": "stream",
          "text": [
            "/usr/local/lib/python3.9/dist-packages/sklearn/linear_model/_stochastic_gradient.py:163: FutureWarning: The loss 'log' was deprecated in v1.1 and will be removed in version 1.3. Use `loss='log_loss'` which is equivalent.\n",
            "  warnings.warn(\n"
          ]
        },
        {
          "name": "stdout",
          "output_type": "stream",
          "text": [
            "[CV] END alpha=0.01, learning_rate=optimal, loss=log, max_iter=1000, penalty=elasticnet; total time=   1.0s\n"
          ]
        },
        {
          "name": "stderr",
          "output_type": "stream",
          "text": [
            "/usr/local/lib/python3.9/dist-packages/sklearn/linear_model/_stochastic_gradient.py:163: FutureWarning: The loss 'log' was deprecated in v1.1 and will be removed in version 1.3. Use `loss='log_loss'` which is equivalent.\n",
            "  warnings.warn(\n"
          ]
        },
        {
          "name": "stdout",
          "output_type": "stream",
          "text": [
            "[CV] END alpha=0.01, learning_rate=optimal, loss=log, max_iter=1000, penalty=elasticnet; total time=   0.8s\n"
          ]
        },
        {
          "name": "stderr",
          "output_type": "stream",
          "text": [
            "/usr/local/lib/python3.9/dist-packages/sklearn/linear_model/_stochastic_gradient.py:163: FutureWarning: The loss 'log' was deprecated in v1.1 and will be removed in version 1.3. Use `loss='log_loss'` which is equivalent.\n",
            "  warnings.warn(\n"
          ]
        },
        {
          "name": "stdout",
          "output_type": "stream",
          "text": [
            "[CV] END alpha=0.01, learning_rate=optimal, loss=log, max_iter=1000, penalty=elasticnet; total time=   0.8s\n"
          ]
        },
        {
          "name": "stderr",
          "output_type": "stream",
          "text": [
            "/usr/local/lib/python3.9/dist-packages/sklearn/linear_model/_stochastic_gradient.py:163: FutureWarning: The loss 'log' was deprecated in v1.1 and will be removed in version 1.3. Use `loss='log_loss'` which is equivalent.\n",
            "  warnings.warn(\n"
          ]
        },
        {
          "name": "stdout",
          "output_type": "stream",
          "text": [
            "[CV] END alpha=0.01, learning_rate=optimal, loss=log, max_iter=1000, penalty=elasticnet; total time=   0.8s\n"
          ]
        },
        {
          "name": "stderr",
          "output_type": "stream",
          "text": [
            "/usr/local/lib/python3.9/dist-packages/sklearn/linear_model/_stochastic_gradient.py:163: FutureWarning: The loss 'log' was deprecated in v1.1 and will be removed in version 1.3. Use `loss='log_loss'` which is equivalent.\n",
            "  warnings.warn(\n"
          ]
        },
        {
          "name": "stdout",
          "output_type": "stream",
          "text": [
            "[CV] END alpha=0.01, learning_rate=optimal, loss=log, max_iter=1000, penalty=elasticnet; total time=   0.8s\n"
          ]
        },
        {
          "name": "stderr",
          "output_type": "stream",
          "text": [
            "/usr/local/lib/python3.9/dist-packages/sklearn/linear_model/_stochastic_gradient.py:163: FutureWarning: The loss 'log' was deprecated in v1.1 and will be removed in version 1.3. Use `loss='log_loss'` which is equivalent.\n",
            "  warnings.warn(\n"
          ]
        },
        {
          "name": "stdout",
          "output_type": "stream",
          "text": [
            "[CV] END alpha=0.01, learning_rate=optimal, loss=log, max_iter=2000, penalty=l1; total time=   0.9s\n"
          ]
        },
        {
          "name": "stderr",
          "output_type": "stream",
          "text": [
            "/usr/local/lib/python3.9/dist-packages/sklearn/linear_model/_stochastic_gradient.py:163: FutureWarning: The loss 'log' was deprecated in v1.1 and will be removed in version 1.3. Use `loss='log_loss'` which is equivalent.\n",
            "  warnings.warn(\n"
          ]
        },
        {
          "name": "stdout",
          "output_type": "stream",
          "text": [
            "[CV] END alpha=0.01, learning_rate=optimal, loss=log, max_iter=2000, penalty=l1; total time=   0.8s\n"
          ]
        },
        {
          "name": "stderr",
          "output_type": "stream",
          "text": [
            "/usr/local/lib/python3.9/dist-packages/sklearn/linear_model/_stochastic_gradient.py:163: FutureWarning: The loss 'log' was deprecated in v1.1 and will be removed in version 1.3. Use `loss='log_loss'` which is equivalent.\n",
            "  warnings.warn(\n"
          ]
        },
        {
          "name": "stdout",
          "output_type": "stream",
          "text": [
            "[CV] END alpha=0.01, learning_rate=optimal, loss=log, max_iter=2000, penalty=l1; total time=   0.8s\n"
          ]
        },
        {
          "name": "stderr",
          "output_type": "stream",
          "text": [
            "/usr/local/lib/python3.9/dist-packages/sklearn/linear_model/_stochastic_gradient.py:163: FutureWarning: The loss 'log' was deprecated in v1.1 and will be removed in version 1.3. Use `loss='log_loss'` which is equivalent.\n",
            "  warnings.warn(\n"
          ]
        },
        {
          "name": "stdout",
          "output_type": "stream",
          "text": [
            "[CV] END alpha=0.01, learning_rate=optimal, loss=log, max_iter=2000, penalty=l1; total time=   0.8s\n"
          ]
        },
        {
          "name": "stderr",
          "output_type": "stream",
          "text": [
            "/usr/local/lib/python3.9/dist-packages/sklearn/linear_model/_stochastic_gradient.py:163: FutureWarning: The loss 'log' was deprecated in v1.1 and will be removed in version 1.3. Use `loss='log_loss'` which is equivalent.\n",
            "  warnings.warn(\n"
          ]
        },
        {
          "name": "stdout",
          "output_type": "stream",
          "text": [
            "[CV] END alpha=0.01, learning_rate=optimal, loss=log, max_iter=2000, penalty=l1; total time=   0.8s\n"
          ]
        },
        {
          "name": "stderr",
          "output_type": "stream",
          "text": [
            "/usr/local/lib/python3.9/dist-packages/sklearn/linear_model/_stochastic_gradient.py:163: FutureWarning: The loss 'log' was deprecated in v1.1 and will be removed in version 1.3. Use `loss='log_loss'` which is equivalent.\n",
            "  warnings.warn(\n"
          ]
        },
        {
          "name": "stdout",
          "output_type": "stream",
          "text": [
            "[CV] END alpha=0.01, learning_rate=optimal, loss=log, max_iter=2000, penalty=l2; total time=   0.7s\n"
          ]
        },
        {
          "name": "stderr",
          "output_type": "stream",
          "text": [
            "/usr/local/lib/python3.9/dist-packages/sklearn/linear_model/_stochastic_gradient.py:163: FutureWarning: The loss 'log' was deprecated in v1.1 and will be removed in version 1.3. Use `loss='log_loss'` which is equivalent.\n",
            "  warnings.warn(\n"
          ]
        },
        {
          "name": "stdout",
          "output_type": "stream",
          "text": [
            "[CV] END alpha=0.01, learning_rate=optimal, loss=log, max_iter=2000, penalty=l2; total time=   0.7s\n"
          ]
        },
        {
          "name": "stderr",
          "output_type": "stream",
          "text": [
            "/usr/local/lib/python3.9/dist-packages/sklearn/linear_model/_stochastic_gradient.py:163: FutureWarning: The loss 'log' was deprecated in v1.1 and will be removed in version 1.3. Use `loss='log_loss'` which is equivalent.\n",
            "  warnings.warn(\n"
          ]
        },
        {
          "name": "stdout",
          "output_type": "stream",
          "text": [
            "[CV] END alpha=0.01, learning_rate=optimal, loss=log, max_iter=2000, penalty=l2; total time=   0.8s\n"
          ]
        },
        {
          "name": "stderr",
          "output_type": "stream",
          "text": [
            "/usr/local/lib/python3.9/dist-packages/sklearn/linear_model/_stochastic_gradient.py:163: FutureWarning: The loss 'log' was deprecated in v1.1 and will be removed in version 1.3. Use `loss='log_loss'` which is equivalent.\n",
            "  warnings.warn(\n"
          ]
        },
        {
          "name": "stdout",
          "output_type": "stream",
          "text": [
            "[CV] END alpha=0.01, learning_rate=optimal, loss=log, max_iter=2000, penalty=l2; total time=   1.1s\n"
          ]
        },
        {
          "name": "stderr",
          "output_type": "stream",
          "text": [
            "/usr/local/lib/python3.9/dist-packages/sklearn/linear_model/_stochastic_gradient.py:163: FutureWarning: The loss 'log' was deprecated in v1.1 and will be removed in version 1.3. Use `loss='log_loss'` which is equivalent.\n",
            "  warnings.warn(\n"
          ]
        },
        {
          "name": "stdout",
          "output_type": "stream",
          "text": [
            "[CV] END alpha=0.01, learning_rate=optimal, loss=log, max_iter=2000, penalty=l2; total time=   1.1s\n"
          ]
        },
        {
          "name": "stderr",
          "output_type": "stream",
          "text": [
            "/usr/local/lib/python3.9/dist-packages/sklearn/linear_model/_stochastic_gradient.py:163: FutureWarning: The loss 'log' was deprecated in v1.1 and will be removed in version 1.3. Use `loss='log_loss'` which is equivalent.\n",
            "  warnings.warn(\n"
          ]
        },
        {
          "name": "stdout",
          "output_type": "stream",
          "text": [
            "[CV] END alpha=0.01, learning_rate=optimal, loss=log, max_iter=2000, penalty=elasticnet; total time=   0.7s\n"
          ]
        },
        {
          "name": "stderr",
          "output_type": "stream",
          "text": [
            "/usr/local/lib/python3.9/dist-packages/sklearn/linear_model/_stochastic_gradient.py:163: FutureWarning: The loss 'log' was deprecated in v1.1 and will be removed in version 1.3. Use `loss='log_loss'` which is equivalent.\n",
            "  warnings.warn(\n"
          ]
        },
        {
          "name": "stdout",
          "output_type": "stream",
          "text": [
            "[CV] END alpha=0.01, learning_rate=optimal, loss=log, max_iter=2000, penalty=elasticnet; total time=   0.7s\n"
          ]
        },
        {
          "name": "stderr",
          "output_type": "stream",
          "text": [
            "/usr/local/lib/python3.9/dist-packages/sklearn/linear_model/_stochastic_gradient.py:163: FutureWarning: The loss 'log' was deprecated in v1.1 and will be removed in version 1.3. Use `loss='log_loss'` which is equivalent.\n",
            "  warnings.warn(\n"
          ]
        },
        {
          "name": "stdout",
          "output_type": "stream",
          "text": [
            "[CV] END alpha=0.01, learning_rate=optimal, loss=log, max_iter=2000, penalty=elasticnet; total time=   0.7s\n"
          ]
        },
        {
          "name": "stderr",
          "output_type": "stream",
          "text": [
            "/usr/local/lib/python3.9/dist-packages/sklearn/linear_model/_stochastic_gradient.py:163: FutureWarning: The loss 'log' was deprecated in v1.1 and will be removed in version 1.3. Use `loss='log_loss'` which is equivalent.\n",
            "  warnings.warn(\n"
          ]
        },
        {
          "name": "stdout",
          "output_type": "stream",
          "text": [
            "[CV] END alpha=0.01, learning_rate=optimal, loss=log, max_iter=2000, penalty=elasticnet; total time=   0.8s\n"
          ]
        },
        {
          "name": "stderr",
          "output_type": "stream",
          "text": [
            "/usr/local/lib/python3.9/dist-packages/sklearn/linear_model/_stochastic_gradient.py:163: FutureWarning: The loss 'log' was deprecated in v1.1 and will be removed in version 1.3. Use `loss='log_loss'` which is equivalent.\n",
            "  warnings.warn(\n"
          ]
        },
        {
          "name": "stdout",
          "output_type": "stream",
          "text": [
            "[CV] END alpha=0.01, learning_rate=optimal, loss=log, max_iter=2000, penalty=elasticnet; total time=   0.7s\n"
          ]
        },
        {
          "name": "stderr",
          "output_type": "stream",
          "text": [
            "/usr/local/lib/python3.9/dist-packages/sklearn/linear_model/_stochastic_gradient.py:163: FutureWarning: The loss 'log' was deprecated in v1.1 and will be removed in version 1.3. Use `loss='log_loss'` which is equivalent.\n",
            "  warnings.warn(\n"
          ]
        },
        {
          "name": "stdout",
          "output_type": "stream",
          "text": [
            "[CV] END alpha=0.01, learning_rate=optimal, loss=log, max_iter=3000, penalty=l1; total time=   0.9s\n"
          ]
        },
        {
          "name": "stderr",
          "output_type": "stream",
          "text": [
            "/usr/local/lib/python3.9/dist-packages/sklearn/linear_model/_stochastic_gradient.py:163: FutureWarning: The loss 'log' was deprecated in v1.1 and will be removed in version 1.3. Use `loss='log_loss'` which is equivalent.\n",
            "  warnings.warn(\n"
          ]
        },
        {
          "name": "stdout",
          "output_type": "stream",
          "text": [
            "[CV] END alpha=0.01, learning_rate=optimal, loss=log, max_iter=3000, penalty=l1; total time=   0.8s\n"
          ]
        },
        {
          "name": "stderr",
          "output_type": "stream",
          "text": [
            "/usr/local/lib/python3.9/dist-packages/sklearn/linear_model/_stochastic_gradient.py:163: FutureWarning: The loss 'log' was deprecated in v1.1 and will be removed in version 1.3. Use `loss='log_loss'` which is equivalent.\n",
            "  warnings.warn(\n"
          ]
        },
        {
          "name": "stdout",
          "output_type": "stream",
          "text": [
            "[CV] END alpha=0.01, learning_rate=optimal, loss=log, max_iter=3000, penalty=l1; total time=   0.8s\n"
          ]
        },
        {
          "name": "stderr",
          "output_type": "stream",
          "text": [
            "/usr/local/lib/python3.9/dist-packages/sklearn/linear_model/_stochastic_gradient.py:163: FutureWarning: The loss 'log' was deprecated in v1.1 and will be removed in version 1.3. Use `loss='log_loss'` which is equivalent.\n",
            "  warnings.warn(\n"
          ]
        },
        {
          "name": "stdout",
          "output_type": "stream",
          "text": [
            "[CV] END alpha=0.01, learning_rate=optimal, loss=log, max_iter=3000, penalty=l1; total time=   0.7s\n"
          ]
        },
        {
          "name": "stderr",
          "output_type": "stream",
          "text": [
            "/usr/local/lib/python3.9/dist-packages/sklearn/linear_model/_stochastic_gradient.py:163: FutureWarning: The loss 'log' was deprecated in v1.1 and will be removed in version 1.3. Use `loss='log_loss'` which is equivalent.\n",
            "  warnings.warn(\n"
          ]
        },
        {
          "name": "stdout",
          "output_type": "stream",
          "text": [
            "[CV] END alpha=0.01, learning_rate=optimal, loss=log, max_iter=3000, penalty=l1; total time=   0.8s\n"
          ]
        },
        {
          "name": "stderr",
          "output_type": "stream",
          "text": [
            "/usr/local/lib/python3.9/dist-packages/sklearn/linear_model/_stochastic_gradient.py:163: FutureWarning: The loss 'log' was deprecated in v1.1 and will be removed in version 1.3. Use `loss='log_loss'` which is equivalent.\n",
            "  warnings.warn(\n"
          ]
        },
        {
          "name": "stdout",
          "output_type": "stream",
          "text": [
            "[CV] END alpha=0.01, learning_rate=optimal, loss=log, max_iter=3000, penalty=l2; total time=   0.6s\n"
          ]
        },
        {
          "name": "stderr",
          "output_type": "stream",
          "text": [
            "/usr/local/lib/python3.9/dist-packages/sklearn/linear_model/_stochastic_gradient.py:163: FutureWarning: The loss 'log' was deprecated in v1.1 and will be removed in version 1.3. Use `loss='log_loss'` which is equivalent.\n",
            "  warnings.warn(\n"
          ]
        },
        {
          "name": "stdout",
          "output_type": "stream",
          "text": [
            "[CV] END alpha=0.01, learning_rate=optimal, loss=log, max_iter=3000, penalty=l2; total time=   0.7s\n"
          ]
        },
        {
          "name": "stderr",
          "output_type": "stream",
          "text": [
            "/usr/local/lib/python3.9/dist-packages/sklearn/linear_model/_stochastic_gradient.py:163: FutureWarning: The loss 'log' was deprecated in v1.1 and will be removed in version 1.3. Use `loss='log_loss'` which is equivalent.\n",
            "  warnings.warn(\n"
          ]
        },
        {
          "name": "stdout",
          "output_type": "stream",
          "text": [
            "[CV] END alpha=0.01, learning_rate=optimal, loss=log, max_iter=3000, penalty=l2; total time=   0.9s\n"
          ]
        },
        {
          "name": "stderr",
          "output_type": "stream",
          "text": [
            "/usr/local/lib/python3.9/dist-packages/sklearn/linear_model/_stochastic_gradient.py:163: FutureWarning: The loss 'log' was deprecated in v1.1 and will be removed in version 1.3. Use `loss='log_loss'` which is equivalent.\n",
            "  warnings.warn(\n"
          ]
        },
        {
          "name": "stdout",
          "output_type": "stream",
          "text": [
            "[CV] END alpha=0.01, learning_rate=optimal, loss=log, max_iter=3000, penalty=l2; total time=   1.1s\n"
          ]
        },
        {
          "name": "stderr",
          "output_type": "stream",
          "text": [
            "/usr/local/lib/python3.9/dist-packages/sklearn/linear_model/_stochastic_gradient.py:163: FutureWarning: The loss 'log' was deprecated in v1.1 and will be removed in version 1.3. Use `loss='log_loss'` which is equivalent.\n",
            "  warnings.warn(\n"
          ]
        },
        {
          "name": "stdout",
          "output_type": "stream",
          "text": [
            "[CV] END alpha=0.01, learning_rate=optimal, loss=log, max_iter=3000, penalty=l2; total time=   1.0s\n"
          ]
        },
        {
          "name": "stderr",
          "output_type": "stream",
          "text": [
            "/usr/local/lib/python3.9/dist-packages/sklearn/linear_model/_stochastic_gradient.py:163: FutureWarning: The loss 'log' was deprecated in v1.1 and will be removed in version 1.3. Use `loss='log_loss'` which is equivalent.\n",
            "  warnings.warn(\n"
          ]
        },
        {
          "name": "stdout",
          "output_type": "stream",
          "text": [
            "[CV] END alpha=0.01, learning_rate=optimal, loss=log, max_iter=3000, penalty=elasticnet; total time=   0.7s\n"
          ]
        },
        {
          "name": "stderr",
          "output_type": "stream",
          "text": [
            "/usr/local/lib/python3.9/dist-packages/sklearn/linear_model/_stochastic_gradient.py:163: FutureWarning: The loss 'log' was deprecated in v1.1 and will be removed in version 1.3. Use `loss='log_loss'` which is equivalent.\n",
            "  warnings.warn(\n"
          ]
        },
        {
          "name": "stdout",
          "output_type": "stream",
          "text": [
            "[CV] END alpha=0.01, learning_rate=optimal, loss=log, max_iter=3000, penalty=elasticnet; total time=   0.7s\n"
          ]
        },
        {
          "name": "stderr",
          "output_type": "stream",
          "text": [
            "/usr/local/lib/python3.9/dist-packages/sklearn/linear_model/_stochastic_gradient.py:163: FutureWarning: The loss 'log' was deprecated in v1.1 and will be removed in version 1.3. Use `loss='log_loss'` which is equivalent.\n",
            "  warnings.warn(\n"
          ]
        },
        {
          "name": "stdout",
          "output_type": "stream",
          "text": [
            "[CV] END alpha=0.01, learning_rate=optimal, loss=log, max_iter=3000, penalty=elasticnet; total time=   0.7s\n"
          ]
        },
        {
          "name": "stderr",
          "output_type": "stream",
          "text": [
            "/usr/local/lib/python3.9/dist-packages/sklearn/linear_model/_stochastic_gradient.py:163: FutureWarning: The loss 'log' was deprecated in v1.1 and will be removed in version 1.3. Use `loss='log_loss'` which is equivalent.\n",
            "  warnings.warn(\n"
          ]
        },
        {
          "name": "stdout",
          "output_type": "stream",
          "text": [
            "[CV] END alpha=0.01, learning_rate=optimal, loss=log, max_iter=3000, penalty=elasticnet; total time=   0.7s\n"
          ]
        },
        {
          "name": "stderr",
          "output_type": "stream",
          "text": [
            "/usr/local/lib/python3.9/dist-packages/sklearn/linear_model/_stochastic_gradient.py:163: FutureWarning: The loss 'log' was deprecated in v1.1 and will be removed in version 1.3. Use `loss='log_loss'` which is equivalent.\n",
            "  warnings.warn(\n"
          ]
        },
        {
          "name": "stdout",
          "output_type": "stream",
          "text": [
            "[CV] END alpha=0.01, learning_rate=optimal, loss=log, max_iter=3000, penalty=elasticnet; total time=   0.8s\n",
            "[CV] END alpha=0.01, learning_rate=optimal, loss=hinge, max_iter=1000, penalty=l1; total time=   0.7s\n",
            "[CV] END alpha=0.01, learning_rate=optimal, loss=hinge, max_iter=1000, penalty=l1; total time=   0.6s\n",
            "[CV] END alpha=0.01, learning_rate=optimal, loss=hinge, max_iter=1000, penalty=l1; total time=   0.7s\n",
            "[CV] END alpha=0.01, learning_rate=optimal, loss=hinge, max_iter=1000, penalty=l1; total time=   0.8s\n",
            "[CV] END alpha=0.01, learning_rate=optimal, loss=hinge, max_iter=1000, penalty=l1; total time=   0.8s\n",
            "[CV] END alpha=0.01, learning_rate=optimal, loss=hinge, max_iter=1000, penalty=l2; total time=   0.6s\n",
            "[CV] END alpha=0.01, learning_rate=optimal, loss=hinge, max_iter=1000, penalty=l2; total time=   0.6s\n",
            "[CV] END alpha=0.01, learning_rate=optimal, loss=hinge, max_iter=1000, penalty=l2; total time=   0.7s\n",
            "[CV] END alpha=0.01, learning_rate=optimal, loss=hinge, max_iter=1000, penalty=l2; total time=   1.1s\n",
            "[CV] END alpha=0.01, learning_rate=optimal, loss=hinge, max_iter=1000, penalty=l2; total time=   1.1s\n",
            "[CV] END alpha=0.01, learning_rate=optimal, loss=hinge, max_iter=1000, penalty=elasticnet; total time=   0.8s\n",
            "[CV] END alpha=0.01, learning_rate=optimal, loss=hinge, max_iter=1000, penalty=elasticnet; total time=   0.7s\n",
            "[CV] END alpha=0.01, learning_rate=optimal, loss=hinge, max_iter=1000, penalty=elasticnet; total time=   0.7s\n",
            "[CV] END alpha=0.01, learning_rate=optimal, loss=hinge, max_iter=1000, penalty=elasticnet; total time=   0.7s\n",
            "[CV] END alpha=0.01, learning_rate=optimal, loss=hinge, max_iter=1000, penalty=elasticnet; total time=   0.7s\n",
            "[CV] END alpha=0.01, learning_rate=optimal, loss=hinge, max_iter=2000, penalty=l1; total time=   0.7s\n",
            "[CV] END alpha=0.01, learning_rate=optimal, loss=hinge, max_iter=2000, penalty=l1; total time=   0.7s\n",
            "[CV] END alpha=0.01, learning_rate=optimal, loss=hinge, max_iter=2000, penalty=l1; total time=   0.7s\n",
            "[CV] END alpha=0.01, learning_rate=optimal, loss=hinge, max_iter=2000, penalty=l1; total time=   0.8s\n",
            "[CV] END alpha=0.01, learning_rate=optimal, loss=hinge, max_iter=2000, penalty=l1; total time=   0.8s\n",
            "[CV] END alpha=0.01, learning_rate=optimal, loss=hinge, max_iter=2000, penalty=l2; total time=   0.6s\n",
            "[CV] END alpha=0.01, learning_rate=optimal, loss=hinge, max_iter=2000, penalty=l2; total time=   0.6s\n",
            "[CV] END alpha=0.01, learning_rate=optimal, loss=hinge, max_iter=2000, penalty=l2; total time=   0.7s\n",
            "[CV] END alpha=0.01, learning_rate=optimal, loss=hinge, max_iter=2000, penalty=l2; total time=   0.7s\n",
            "[CV] END alpha=0.01, learning_rate=optimal, loss=hinge, max_iter=2000, penalty=l2; total time=   1.1s\n",
            "[CV] END alpha=0.01, learning_rate=optimal, loss=hinge, max_iter=2000, penalty=elasticnet; total time=   1.2s\n",
            "[CV] END alpha=0.01, learning_rate=optimal, loss=hinge, max_iter=2000, penalty=elasticnet; total time=   0.8s\n",
            "[CV] END alpha=0.01, learning_rate=optimal, loss=hinge, max_iter=2000, penalty=elasticnet; total time=   0.7s\n",
            "[CV] END alpha=0.01, learning_rate=optimal, loss=hinge, max_iter=2000, penalty=elasticnet; total time=   0.7s\n",
            "[CV] END alpha=0.01, learning_rate=optimal, loss=hinge, max_iter=2000, penalty=elasticnet; total time=   0.7s\n",
            "[CV] END alpha=0.01, learning_rate=optimal, loss=hinge, max_iter=3000, penalty=l1; total time=   0.7s\n",
            "[CV] END alpha=0.01, learning_rate=optimal, loss=hinge, max_iter=3000, penalty=l1; total time=   1.2s\n",
            "[CV] END alpha=0.01, learning_rate=optimal, loss=hinge, max_iter=3000, penalty=l1; total time=   0.9s\n",
            "[CV] END alpha=0.01, learning_rate=optimal, loss=hinge, max_iter=3000, penalty=l1; total time=   0.9s\n",
            "[CV] END alpha=0.01, learning_rate=optimal, loss=hinge, max_iter=3000, penalty=l1; total time=   0.8s\n",
            "[CV] END alpha=0.01, learning_rate=optimal, loss=hinge, max_iter=3000, penalty=l2; total time=   0.6s\n",
            "[CV] END alpha=0.01, learning_rate=optimal, loss=hinge, max_iter=3000, penalty=l2; total time=   0.7s\n",
            "[CV] END alpha=0.01, learning_rate=optimal, loss=hinge, max_iter=3000, penalty=l2; total time=   0.6s\n",
            "[CV] END alpha=0.01, learning_rate=optimal, loss=hinge, max_iter=3000, penalty=l2; total time=   1.1s\n",
            "[CV] END alpha=0.01, learning_rate=optimal, loss=hinge, max_iter=3000, penalty=l2; total time=   1.1s\n",
            "[CV] END alpha=0.01, learning_rate=optimal, loss=hinge, max_iter=3000, penalty=elasticnet; total time=   0.9s\n",
            "[CV] END alpha=0.01, learning_rate=optimal, loss=hinge, max_iter=3000, penalty=elasticnet; total time=   0.7s\n",
            "[CV] END alpha=0.01, learning_rate=optimal, loss=hinge, max_iter=3000, penalty=elasticnet; total time=   0.7s\n",
            "[CV] END alpha=0.01, learning_rate=optimal, loss=hinge, max_iter=3000, penalty=elasticnet; total time=   0.7s\n",
            "[CV] END alpha=0.01, learning_rate=optimal, loss=hinge, max_iter=3000, penalty=elasticnet; total time=   0.7s\n",
            "[CV] END alpha=0.01, learning_rate=invscaling, loss=log, max_iter=1000, penalty=l1; total time=   0.1s\n",
            "[CV] END alpha=0.01, learning_rate=invscaling, loss=log, max_iter=1000, penalty=l1; total time=   0.1s\n",
            "[CV] END alpha=0.01, learning_rate=invscaling, loss=log, max_iter=1000, penalty=l1; total time=   0.1s\n",
            "[CV] END alpha=0.01, learning_rate=invscaling, loss=log, max_iter=1000, penalty=l1; total time=   0.1s\n",
            "[CV] END alpha=0.01, learning_rate=invscaling, loss=log, max_iter=1000, penalty=l1; total time=   0.1s\n",
            "[CV] END alpha=0.01, learning_rate=invscaling, loss=log, max_iter=1000, penalty=l2; total time=   0.2s\n",
            "[CV] END alpha=0.01, learning_rate=invscaling, loss=log, max_iter=1000, penalty=l2; total time=   0.1s\n",
            "[CV] END alpha=0.01, learning_rate=invscaling, loss=log, max_iter=1000, penalty=l2; total time=   0.1s\n",
            "[CV] END alpha=0.01, learning_rate=invscaling, loss=log, max_iter=1000, penalty=l2; total time=   0.1s\n",
            "[CV] END alpha=0.01, learning_rate=invscaling, loss=log, max_iter=1000, penalty=l2; total time=   0.1s\n",
            "[CV] END alpha=0.01, learning_rate=invscaling, loss=log, max_iter=1000, penalty=elasticnet; total time=   0.1s\n",
            "[CV] END alpha=0.01, learning_rate=invscaling, loss=log, max_iter=1000, penalty=elasticnet; total time=   0.1s\n",
            "[CV] END alpha=0.01, learning_rate=invscaling, loss=log, max_iter=1000, penalty=elasticnet; total time=   0.1s\n",
            "[CV] END alpha=0.01, learning_rate=invscaling, loss=log, max_iter=1000, penalty=elasticnet; total time=   0.1s\n",
            "[CV] END alpha=0.01, learning_rate=invscaling, loss=log, max_iter=1000, penalty=elasticnet; total time=   0.1s\n",
            "[CV] END alpha=0.01, learning_rate=invscaling, loss=log, max_iter=2000, penalty=l1; total time=   0.1s\n",
            "[CV] END alpha=0.01, learning_rate=invscaling, loss=log, max_iter=2000, penalty=l1; total time=   0.1s\n",
            "[CV] END alpha=0.01, learning_rate=invscaling, loss=log, max_iter=2000, penalty=l1; total time=   0.1s\n",
            "[CV] END alpha=0.01, learning_rate=invscaling, loss=log, max_iter=2000, penalty=l1; total time=   0.1s\n",
            "[CV] END alpha=0.01, learning_rate=invscaling, loss=log, max_iter=2000, penalty=l1; total time=   0.1s\n",
            "[CV] END alpha=0.01, learning_rate=invscaling, loss=log, max_iter=2000, penalty=l2; total time=   0.1s\n",
            "[CV] END alpha=0.01, learning_rate=invscaling, loss=log, max_iter=2000, penalty=l2; total time=   0.1s\n",
            "[CV] END alpha=0.01, learning_rate=invscaling, loss=log, max_iter=2000, penalty=l2; total time=   0.1s\n",
            "[CV] END alpha=0.01, learning_rate=invscaling, loss=log, max_iter=2000, penalty=l2; total time=   0.1s\n",
            "[CV] END alpha=0.01, learning_rate=invscaling, loss=log, max_iter=2000, penalty=l2; total time=   0.1s\n",
            "[CV] END alpha=0.01, learning_rate=invscaling, loss=log, max_iter=2000, penalty=elasticnet; total time=   0.1s\n",
            "[CV] END alpha=0.01, learning_rate=invscaling, loss=log, max_iter=2000, penalty=elasticnet; total time=   0.1s\n",
            "[CV] END alpha=0.01, learning_rate=invscaling, loss=log, max_iter=2000, penalty=elasticnet; total time=   0.1s\n",
            "[CV] END alpha=0.01, learning_rate=invscaling, loss=log, max_iter=2000, penalty=elasticnet; total time=   0.1s\n",
            "[CV] END alpha=0.01, learning_rate=invscaling, loss=log, max_iter=2000, penalty=elasticnet; total time=   0.1s\n",
            "[CV] END alpha=0.01, learning_rate=invscaling, loss=log, max_iter=3000, penalty=l1; total time=   0.1s\n",
            "[CV] END alpha=0.01, learning_rate=invscaling, loss=log, max_iter=3000, penalty=l1; total time=   0.1s\n",
            "[CV] END alpha=0.01, learning_rate=invscaling, loss=log, max_iter=3000, penalty=l1; total time=   0.1s\n",
            "[CV] END alpha=0.01, learning_rate=invscaling, loss=log, max_iter=3000, penalty=l1; total time=   0.1s\n",
            "[CV] END alpha=0.01, learning_rate=invscaling, loss=log, max_iter=3000, penalty=l1; total time=   0.1s\n",
            "[CV] END alpha=0.01, learning_rate=invscaling, loss=log, max_iter=3000, penalty=l2; total time=   0.1s\n",
            "[CV] END alpha=0.01, learning_rate=invscaling, loss=log, max_iter=3000, penalty=l2; total time=   0.1s\n",
            "[CV] END alpha=0.01, learning_rate=invscaling, loss=log, max_iter=3000, penalty=l2; total time=   0.1s\n",
            "[CV] END alpha=0.01, learning_rate=invscaling, loss=log, max_iter=3000, penalty=l2; total time=   0.2s\n",
            "[CV] END alpha=0.01, learning_rate=invscaling, loss=log, max_iter=3000, penalty=l2; total time=   0.1s\n",
            "[CV] END alpha=0.01, learning_rate=invscaling, loss=log, max_iter=3000, penalty=elasticnet; total time=   0.1s\n",
            "[CV] END alpha=0.01, learning_rate=invscaling, loss=log, max_iter=3000, penalty=elasticnet; total time=   0.1s\n",
            "[CV] END alpha=0.01, learning_rate=invscaling, loss=log, max_iter=3000, penalty=elasticnet; total time=   0.1s\n",
            "[CV] END alpha=0.01, learning_rate=invscaling, loss=log, max_iter=3000, penalty=elasticnet; total time=   0.1s\n",
            "[CV] END alpha=0.01, learning_rate=invscaling, loss=log, max_iter=3000, penalty=elasticnet; total time=   0.2s\n",
            "[CV] END alpha=0.01, learning_rate=invscaling, loss=hinge, max_iter=1000, penalty=l1; total time=   0.1s\n",
            "[CV] END alpha=0.01, learning_rate=invscaling, loss=hinge, max_iter=1000, penalty=l1; total time=   0.1s\n",
            "[CV] END alpha=0.01, learning_rate=invscaling, loss=hinge, max_iter=1000, penalty=l1; total time=   0.1s\n",
            "[CV] END alpha=0.01, learning_rate=invscaling, loss=hinge, max_iter=1000, penalty=l1; total time=   0.1s\n",
            "[CV] END alpha=0.01, learning_rate=invscaling, loss=hinge, max_iter=1000, penalty=l1; total time=   0.2s\n",
            "[CV] END alpha=0.01, learning_rate=invscaling, loss=hinge, max_iter=1000, penalty=l2; total time=   0.1s\n",
            "[CV] END alpha=0.01, learning_rate=invscaling, loss=hinge, max_iter=1000, penalty=l2; total time=   0.1s\n",
            "[CV] END alpha=0.01, learning_rate=invscaling, loss=hinge, max_iter=1000, penalty=l2; total time=   0.1s\n",
            "[CV] END alpha=0.01, learning_rate=invscaling, loss=hinge, max_iter=1000, penalty=l2; total time=   0.1s\n",
            "[CV] END alpha=0.01, learning_rate=invscaling, loss=hinge, max_iter=1000, penalty=l2; total time=   0.2s\n",
            "[CV] END alpha=0.01, learning_rate=invscaling, loss=hinge, max_iter=1000, penalty=elasticnet; total time=   0.1s\n",
            "[CV] END alpha=0.01, learning_rate=invscaling, loss=hinge, max_iter=1000, penalty=elasticnet; total time=   0.1s\n",
            "[CV] END alpha=0.01, learning_rate=invscaling, loss=hinge, max_iter=1000, penalty=elasticnet; total time=   0.1s\n",
            "[CV] END alpha=0.01, learning_rate=invscaling, loss=hinge, max_iter=1000, penalty=elasticnet; total time=   0.1s\n",
            "[CV] END alpha=0.01, learning_rate=invscaling, loss=hinge, max_iter=1000, penalty=elasticnet; total time=   0.1s\n",
            "[CV] END alpha=0.01, learning_rate=invscaling, loss=hinge, max_iter=2000, penalty=l1; total time=   0.1s\n",
            "[CV] END alpha=0.01, learning_rate=invscaling, loss=hinge, max_iter=2000, penalty=l1; total time=   0.1s\n",
            "[CV] END alpha=0.01, learning_rate=invscaling, loss=hinge, max_iter=2000, penalty=l1; total time=   0.1s\n",
            "[CV] END alpha=0.01, learning_rate=invscaling, loss=hinge, max_iter=2000, penalty=l1; total time=   0.1s\n",
            "[CV] END alpha=0.01, learning_rate=invscaling, loss=hinge, max_iter=2000, penalty=l1; total time=   0.1s\n",
            "[CV] END alpha=0.01, learning_rate=invscaling, loss=hinge, max_iter=2000, penalty=l2; total time=   0.1s\n",
            "[CV] END alpha=0.01, learning_rate=invscaling, loss=hinge, max_iter=2000, penalty=l2; total time=   0.1s\n",
            "[CV] END alpha=0.01, learning_rate=invscaling, loss=hinge, max_iter=2000, penalty=l2; total time=   0.1s\n",
            "[CV] END alpha=0.01, learning_rate=invscaling, loss=hinge, max_iter=2000, penalty=l2; total time=   0.1s\n",
            "[CV] END alpha=0.01, learning_rate=invscaling, loss=hinge, max_iter=2000, penalty=l2; total time=   0.1s\n",
            "[CV] END alpha=0.01, learning_rate=invscaling, loss=hinge, max_iter=2000, penalty=elasticnet; total time=   0.1s\n",
            "[CV] END alpha=0.01, learning_rate=invscaling, loss=hinge, max_iter=2000, penalty=elasticnet; total time=   0.1s\n",
            "[CV] END alpha=0.01, learning_rate=invscaling, loss=hinge, max_iter=2000, penalty=elasticnet; total time=   0.1s\n",
            "[CV] END alpha=0.01, learning_rate=invscaling, loss=hinge, max_iter=2000, penalty=elasticnet; total time=   0.1s\n",
            "[CV] END alpha=0.01, learning_rate=invscaling, loss=hinge, max_iter=2000, penalty=elasticnet; total time=   0.2s\n",
            "[CV] END alpha=0.01, learning_rate=invscaling, loss=hinge, max_iter=3000, penalty=l1; total time=   0.1s\n",
            "[CV] END alpha=0.01, learning_rate=invscaling, loss=hinge, max_iter=3000, penalty=l1; total time=   0.1s\n",
            "[CV] END alpha=0.01, learning_rate=invscaling, loss=hinge, max_iter=3000, penalty=l1; total time=   0.1s\n",
            "[CV] END alpha=0.01, learning_rate=invscaling, loss=hinge, max_iter=3000, penalty=l1; total time=   0.1s\n",
            "[CV] END alpha=0.01, learning_rate=invscaling, loss=hinge, max_iter=3000, penalty=l1; total time=   0.1s\n",
            "[CV] END alpha=0.01, learning_rate=invscaling, loss=hinge, max_iter=3000, penalty=l2; total time=   0.1s\n",
            "[CV] END alpha=0.01, learning_rate=invscaling, loss=hinge, max_iter=3000, penalty=l2; total time=   0.1s\n",
            "[CV] END alpha=0.01, learning_rate=invscaling, loss=hinge, max_iter=3000, penalty=l2; total time=   0.1s\n",
            "[CV] END alpha=0.01, learning_rate=invscaling, loss=hinge, max_iter=3000, penalty=l2; total time=   0.1s\n",
            "[CV] END alpha=0.01, learning_rate=invscaling, loss=hinge, max_iter=3000, penalty=l2; total time=   0.1s\n",
            "[CV] END alpha=0.01, learning_rate=invscaling, loss=hinge, max_iter=3000, penalty=elasticnet; total time=   0.1s\n",
            "[CV] END alpha=0.01, learning_rate=invscaling, loss=hinge, max_iter=3000, penalty=elasticnet; total time=   0.1s\n",
            "[CV] END alpha=0.01, learning_rate=invscaling, loss=hinge, max_iter=3000, penalty=elasticnet; total time=   0.1s\n",
            "[CV] END alpha=0.01, learning_rate=invscaling, loss=hinge, max_iter=3000, penalty=elasticnet; total time=   0.1s\n",
            "[CV] END alpha=0.01, learning_rate=invscaling, loss=hinge, max_iter=3000, penalty=elasticnet; total time=   0.1s\n"
          ]
        },
        {
          "name": "stderr",
          "output_type": "stream",
          "text": [
            "/usr/local/lib/python3.9/dist-packages/sklearn/model_selection/_validation.py:378: FitFailedWarning: \n",
            "540 fits failed out of a total of 810.\n",
            "The score on these train-test partitions for these parameters will be set to nan.\n",
            "If these failures are not expected, you can try to debug them by setting error_score='raise'.\n",
            "\n",
            "Below are more details about the failures:\n",
            "--------------------------------------------------------------------------------\n",
            "540 fits failed with the following error:\n",
            "Traceback (most recent call last):\n",
            "  File \"/usr/local/lib/python3.9/dist-packages/sklearn/model_selection/_validation.py\", line 686, in _fit_and_score\n",
            "    estimator.fit(X_train, y_train, **fit_params)\n",
            "  File \"/usr/local/lib/python3.9/dist-packages/sklearn/linear_model/_stochastic_gradient.py\", line 892, in fit\n",
            "    self._more_validate_params()\n",
            "  File \"/usr/local/lib/python3.9/dist-packages/sklearn/linear_model/_stochastic_gradient.py\", line 149, in _more_validate_params\n",
            "    raise ValueError(\"eta0 must be > 0\")\n",
            "ValueError: eta0 must be > 0\n",
            "\n",
            "  warnings.warn(some_fits_failed_message, FitFailedWarning)\n",
            "/usr/local/lib/python3.9/dist-packages/sklearn/model_selection/_search.py:952: UserWarning: One or more of the test scores are non-finite: [       nan        nan        nan        nan        nan        nan\n",
            "        nan        nan        nan        nan        nan        nan\n",
            "        nan        nan        nan        nan        nan        nan\n",
            " 0.99914163 0.99935622 0.99935622 0.99914163 0.99935622 0.99935622\n",
            " 0.99914163 0.99935622 0.99935622 0.99871245 0.99935622 0.99935622\n",
            " 0.99871245 0.99935622 0.99935622 0.99871245 0.99935622 0.99935622\n",
            "        nan        nan        nan        nan        nan        nan\n",
            "        nan        nan        nan        nan        nan        nan\n",
            "        nan        nan        nan        nan        nan        nan\n",
            "        nan        nan        nan        nan        nan        nan\n",
            "        nan        nan        nan        nan        nan        nan\n",
            "        nan        nan        nan        nan        nan        nan\n",
            " 0.99806867 0.99849785 0.99914163 0.99806867 0.99849785 0.99914163\n",
            " 0.99806867 0.99849785 0.99914163 0.99763948 0.99678112 0.99957082\n",
            " 0.99763948 0.99678112 0.99957082 0.99763948 0.99678112 0.99957082\n",
            "        nan        nan        nan        nan        nan        nan\n",
            "        nan        nan        nan        nan        nan        nan\n",
            "        nan        nan        nan        nan        nan        nan\n",
            "        nan        nan        nan        nan        nan        nan\n",
            "        nan        nan        nan        nan        nan        nan\n",
            "        nan        nan        nan        nan        nan        nan\n",
            " 0.98690987 0.99763948 0.99678112 0.98690987 0.99763948 0.99678112\n",
            " 0.98690987 0.99763948 0.99678112 0.99227468 0.99849785 0.99871245\n",
            " 0.99227468 0.99849785 0.99871245 0.99227468 0.99849785 0.99871245\n",
            "        nan        nan        nan        nan        nan        nan\n",
            "        nan        nan        nan        nan        nan        nan\n",
            "        nan        nan        nan        nan        nan        nan]\n",
            "  warnings.warn(\n"
          ]
        },
        {
          "name": "stdout",
          "output_type": "stream",
          "text": [
            "Best Parameters: {'alpha': 0.001, 'learning_rate': 'optimal', 'loss': 'hinge', 'max_iter': 1000, 'penalty': 'elasticnet'}\n",
            "Accuracy: 0.9993562922433216\n"
          ]
        }
      ],
      "source": [
        "# Create an SGD Classifier\n",
        "clf = SGDClassifier(random_state=42)\n",
        "\n",
        "# Define a grid of hyperparameters to search over\n",
        "param_grid = {'loss': ['log', 'hinge'], \n",
        "              'penalty': ['l1', 'l2', 'elasticnet'], \n",
        "              'alpha': [0.0001, 0.001, 0.01], \n",
        "              'max_iter': [1000, 2000, 3000], \n",
        "              'learning_rate': ['constant', 'optimal', 'invscaling']}\n",
        "\n",
        "# Use grid search to find the best set of hyperparameters\n",
        "grid_search = GridSearchCV(clf, param_grid=param_grid, cv=5, verbose=2)\n",
        "grid_search.fit(X_train31, y_train31)\n",
        "\n",
        "# Print the best set of hyperparameters and the corresponding accuracy score\n",
        "print(f\"Best Parameters: {grid_search.best_params_}\")\n",
        "y_pred = grid_search.predict(X_test31)\n",
        "accuracy = accuracy_score(y_test31, y_pred)\n",
        "print(f\"Accuracy: {accuracy}\")"
      ]
    },
    {
      "cell_type": "code",
      "execution_count": null,
      "metadata": {
        "colab": {
          "base_uri": "https://localhost:8080/"
        },
        "id": "iwtglm3002bt",
        "outputId": "8c66fa6c-e246-4b45-a2ae-17c016aa7cb6"
      },
      "outputs": [
        {
          "name": "stdout",
          "output_type": "stream",
          "text": [
            "Accuracy: 1.0\n"
          ]
        }
      ],
      "source": [
        "# Create a Multinomial Logistic Regression classifier\n",
        "lr = LogisticRegression(multi_class='multinomial', solver='lbfgs', max_iter=1000)\n",
        "\n",
        "# Train the classifier on the training set\n",
        "lr.fit(X_train31, y_train31)\n",
        "\n",
        "# Make predictions on the testing set\n",
        "y_pred = lr.predict(X_test31)\n",
        "\n",
        "# Evaluate the accuracy of the classifier\n",
        "accuracy = accuracy_score(y_test31, y_pred)\n",
        "print(f\"Accuracy: {accuracy}\")"
      ]
    },
    {
      "cell_type": "markdown",
      "metadata": {
        "id": "0ZBAdS1RQLTP"
      },
      "source": [
        "**Step 6: Obtain the result on test data using the selected model**"
      ]
    },
    {
      "cell_type": "code",
      "execution_count": null,
      "metadata": {
        "id": "xSK1zP8n0Ujd"
      },
      "outputs": [],
      "source": [
        "#Only present the final model result here\n",
        "clf2 =  LogisticRegression(C= 1, penalty= 'l2', solver='liblinear')\n",
        "clf2.fit(xtrain, ytrain)\n",
        "# Create our predictions\n",
        "prediction2 = clf2.predict(xtest2)\n",
        "prediction2\n",
        "savetxt('lrgridsubmit.csv', prediction2, delimiter=',',fmt='%s')"
      ]
    },
    {
      "cell_type": "code",
      "execution_count": null,
      "metadata": {
        "colab": {
          "base_uri": "https://localhost:8080/",
          "height": 449
        },
        "id": "md8PbQkmEVan",
        "outputId": "c1ab5436-3db7-4736-d245-6b47e9efae9f"
      },
      "outputs": [
        {
          "data": {
            "image/png": "[encoded data removed]",
            "text/plain": [
              "<Figure size 640x480 with 2 Axes>"
            ]
          },
          "metadata": {},
          "output_type": "display_data"
        }
      ],
      "source": [
        "cm3 = confusion_matrix(y_test31,clf2.predict(X_test31), labels=clf2.classes_)\n",
        "disp = ConfusionMatrixDisplay(confusion_matrix=cm3, display_labels=clf2.classes_)\n",
        "disp.plot()\n",
        "plt.show()"
      ]
    },
    {
      "cell_type": "markdown",
      "metadata": {
        "id": "hvOjtH40Q3Rf"
      },
      "source": [
        "**Multi-class Classification**  \n",
        "Classify walking(1), walking_upstairs(2), walking_downstairs(3), sitting(4), standing(5), lying(6) and static postural transition(7)  \n",
        "\n",
        "The following models are included:  \n",
        "\n",
        "(1) Support Vector Machine with kenel: linear, poly, rbf, sigmoid. \n",
        "\n",
        "(2) Decision Tree \n",
        "\n",
        "(3) Guassian Naive Bayes \n",
        "\n",
        "(4) K-Nearest Neighbors \n",
        "\n",
        "(5) Logistic Regression \n",
        "\n",
        "(6) Linear Discriminant Analysis \n",
        "\n",
        "(7) Quadratic Discriminant Analysis  \n",
        "\n",
        "(8) Random Forest  \n",
        "\n",
        "(9) Voting Classifier \n",
        "\n",
        "(10) Neutral Network \n",
        "\n",
        "(11) Bagging Classifier  \n",
        "\n",
        "(12) AdaBoost Classifier \n",
        "\n",
        "(13) Gaussian Process Classifier with RBF kernel  \n",
        "\n",
        "(14) SGD Classifier \n",
        "\n",
        "(15) Multinomial Logistic Regression"
      ]
    },
    {
      "cell_type": "markdown",
      "metadata": {
        "id": "TkxlWrVvRUDH"
      },
      "source": [
        "**Step 1: Enable Data**"
      ]
    },
    {
      "cell_type": "code",
      "execution_count": 8,
      "metadata": {
        "colab": {
          "base_uri": "https://localhost:8080/",
          "height": 487
        },
        "id": "FECkW-oLoFM2",
        "outputId": "f4a7c599-70c6-4ae6-f923-052e08f3831d"
      },
      "outputs": [
        {
          "output_type": "execute_result",
          "data": {
            "text/plain": [
              "               V3            V4            V5            V6            V7  \\\n",
              "1     0.043579674  -0.005970221  -0.035054344   -0.99538116  -0.988365863   \n",
              "2     0.039480037  -0.002131276  -0.029067362  -0.998347999  -0.982944945   \n",
              "3     0.039977781  -0.005152716  -0.022650708  -0.995482127  -0.977313843   \n",
              "4     0.039784558  -0.011808778  -0.028915779    -0.9961941  -0.988568594   \n",
              "5     0.038758138  -0.002288533  -0.023862885  -0.998241335  -0.986774135   \n",
              "...           ...           ...           ...           ...           ...   \n",
              "7763  0.048048374  -0.042445161  -0.065884336  -0.195447967  -0.278326363   \n",
              "7764  0.037638604   0.006430371  -0.044344723  -0.235372031   -0.30268012   \n",
              "7765  0.037450938  -0.002724424   0.021009408    -0.2182808   -0.37808216   \n",
              "7766  0.044011045  -0.004535781  -0.051242204  -0.219202106   -0.38334992   \n",
              "7767  0.068953765   0.001810322  -0.080323431  -0.269335686  -0.366553435   \n",
              "\n",
              "                V8            V9           V10           V11           V12  \\\n",
              "1     -0.937382005  -0.995007045  -0.988815577  -0.953325201  -0.794796369   \n",
              "2     -0.971272882  -0.998701962  -0.983314831  -0.973999847  -0.802536649   \n",
              "3     -0.984759524  -0.996414838  -0.975834798  -0.985973003  -0.798477173   \n",
              "4     -0.993255602  -0.996994335  -0.988526428  -0.993135403  -0.798477173   \n",
              "5     -0.993115488  -0.998215924   -0.98647918  -0.993824553  -0.801981534   \n",
              "...            ...           ...           ...           ...           ...   \n",
              "7763  -0.219953526  -0.282233132  -0.305861471  -0.357803275   0.267874057   \n",
              "7764  -0.232843488  -0.322482719  -0.354463664  -0.345592459   0.181270735   \n",
              "7765  -0.076950379  -0.304446475  -0.400661352   -0.19307138   0.113140826   \n",
              "7766   -0.08103469  -0.310418503  -0.380233454  -0.201006871   0.166670564   \n",
              "7767  -0.147294234  -0.377331537  -0.360597355  -0.255505293   0.321880782   \n",
              "\n",
              "      ...          V554          V555          V556          V557  \\\n",
              "1     ...  -0.012235894  -0.314848353  -0.713307812  -0.112754341   \n",
              "2     ...   0.202803809  -0.603199224  -0.860676901   0.053476955   \n",
              "3     ...   0.440079356   -0.40442749  -0.761847228  -0.118559255   \n",
              "4     ...    0.43089077   -0.13837282  -0.491604347  -0.036787973   \n",
              "5     ...   0.137734624  -0.366213617  -0.702489762   0.123320048   \n",
              "...   ...           ...           ...           ...           ...   \n",
              "7763  ...  -0.008380747  -0.596760198  -0.879025634  -0.190436861   \n",
              "7764  ...   0.209451833  -0.404417928  -0.684496226   0.064906712   \n",
              "7765  ...   0.237002763   0.000206574  -0.317314291   0.052805928   \n",
              "7766  ...   0.069365726   0.037918739  -0.356579108  -0.101360118   \n",
              "7767  ...   0.002496349   -0.40083141  -0.742971769  -0.280088053   \n",
              "\n",
              "              V558          V559          V560          V561         V562  \\\n",
              "1      0.030400372  -0.464761386  -0.018445884  -0.841558511  0.179912811   \n",
              "2     -0.007434566   -0.73262621   0.703510588  -0.845092399   0.18026111   \n",
              "3      0.177899475   0.100699208   0.808529075  -0.849230131  0.180609558   \n",
              "4     -0.012892494   0.640011043  -0.485366445  -0.848946592  0.181907092   \n",
              "5      0.122541962   0.693578288  -0.615970609     -0.848164  0.185123692   \n",
              "...            ...           ...           ...           ...          ...   \n",
              "7763   0.829718416   0.206972154  -0.425618579  -0.792291739  0.238580336   \n",
              "7764   0.875679049  -0.879032789    0.40021936  -0.772287652  0.252652789   \n",
              "7765  -0.266724365   0.864404011   0.701168816  -0.779566335  0.249121453   \n",
              "7766   0.700739689   0.936673944   -0.58947895   -0.78560327  0.246408672   \n",
              "7767  -0.007739278  -0.056087594   -0.61695645  -0.783692535  0.246784989   \n",
              "\n",
              "              V563  \n",
              "1     -0.051718416  \n",
              "2     -0.047436337  \n",
              "3     -0.042271363  \n",
              "4     -0.040826223  \n",
              "5     -0.037079903  \n",
              "...            ...  \n",
              "7763   0.056019937  \n",
              "7764   0.056251833  \n",
              "7765   0.047070771  \n",
              "7766   0.031700029  \n",
              "7767   0.042981289  \n",
              "\n",
              "[7767 rows x 561 columns]"
            ],
            "text/html": [
              "\n",
              "  <div id=\"df-fdbe1230-78d3-4e8d-a2e8-c8b1223a01a5\">\n",
              "    <div class=\"colab-df-container\">\n",
              "      <div>\n",
              "<style scoped>\n",
              "    .dataframe tbody tr th:only-of-type {\n",
              "        vertical-align: middle;\n",
              "    }\n",
              "\n",
              "    .dataframe tbody tr th {\n",
              "        vertical-align: top;\n",
              "    }\n",
              "\n",
              "    .dataframe thead th {\n",
              "        text-align: right;\n",
              "    }\n",
              "</style>\n",
              "<table border=\"1\" class=\"dataframe\">\n",
              "  <thead>\n",
              "    <tr style=\"text-align: right;\">\n",
              "      <th></th>\n",
              "      <th>V3</th>\n",
              "      <th>V4</th>\n",
              "      <th>V5</th>\n",
              "      <th>V6</th>\n",
              "      <th>V7</th>\n",
              "      <th>V8</th>\n",
              "      <th>V9</th>\n",
              "      <th>V10</th>\n",
              "      <th>V11</th>\n",
              "      <th>V12</th>\n",
              "      <th>...</th>\n",
              "      <th>V554</th>\n",
              "      <th>V555</th>\n",
              "      <th>V556</th>\n",
              "      <th>V557</th>\n",
              "      <th>V558</th>\n",
              "      <th>V559</th>\n",
              "      <th>V560</th>\n",
              "      <th>V561</th>\n",
              "      <th>V562</th>\n",
              "      <th>V563</th>\n",
              "    </tr>\n",
              "  </thead>\n",
              "  <tbody>\n",
              "    <tr>\n",
              "      <th>1</th>\n",
              "      <td>0.043579674</td>\n",
              "      <td>-0.005970221</td>\n",
              "      <td>-0.035054344</td>\n",
              "      <td>-0.99538116</td>\n",
              "      <td>-0.988365863</td>\n",
              "      <td>-0.937382005</td>\n",
              "      <td>-0.995007045</td>\n",
              "      <td>-0.988815577</td>\n",
              "      <td>-0.953325201</td>\n",
              "      <td>-0.794796369</td>\n",
              "      <td>...</td>\n",
              "      <td>-0.012235894</td>\n",
              "      <td>-0.314848353</td>\n",
              "      <td>-0.713307812</td>\n",
              "      <td>-0.112754341</td>\n",
              "      <td>0.030400372</td>\n",
              "      <td>-0.464761386</td>\n",
              "      <td>-0.018445884</td>\n",
              "      <td>-0.841558511</td>\n",
              "      <td>0.179912811</td>\n",
              "      <td>-0.051718416</td>\n",
              "    </tr>\n",
              "    <tr>\n",
              "      <th>2</th>\n",
              "      <td>0.039480037</td>\n",
              "      <td>-0.002131276</td>\n",
              "      <td>-0.029067362</td>\n",
              "      <td>-0.998347999</td>\n",
              "      <td>-0.982944945</td>\n",
              "      <td>-0.971272882</td>\n",
              "      <td>-0.998701962</td>\n",
              "      <td>-0.983314831</td>\n",
              "      <td>-0.973999847</td>\n",
              "      <td>-0.802536649</td>\n",
              "      <td>...</td>\n",
              "      <td>0.202803809</td>\n",
              "      <td>-0.603199224</td>\n",
              "      <td>-0.860676901</td>\n",
              "      <td>0.053476955</td>\n",
              "      <td>-0.007434566</td>\n",
              "      <td>-0.73262621</td>\n",
              "      <td>0.703510588</td>\n",
              "      <td>-0.845092399</td>\n",
              "      <td>0.18026111</td>\n",
              "      <td>-0.047436337</td>\n",
              "    </tr>\n",
              "    <tr>\n",
              "      <th>3</th>\n",
              "      <td>0.039977781</td>\n",
              "      <td>-0.005152716</td>\n",
              "      <td>-0.022650708</td>\n",
              "      <td>-0.995482127</td>\n",
              "      <td>-0.977313843</td>\n",
              "      <td>-0.984759524</td>\n",
              "      <td>-0.996414838</td>\n",
              "      <td>-0.975834798</td>\n",
              "      <td>-0.985973003</td>\n",
              "      <td>-0.798477173</td>\n",
              "      <td>...</td>\n",
              "      <td>0.440079356</td>\n",
              "      <td>-0.40442749</td>\n",
              "      <td>-0.761847228</td>\n",
              "      <td>-0.118559255</td>\n",
              "      <td>0.177899475</td>\n",
              "      <td>0.100699208</td>\n",
              "      <td>0.808529075</td>\n",
              "      <td>-0.849230131</td>\n",
              "      <td>0.180609558</td>\n",
              "      <td>-0.042271363</td>\n",
              "    </tr>\n",
              "    <tr>\n",
              "      <th>4</th>\n",
              "      <td>0.039784558</td>\n",
              "      <td>-0.011808778</td>\n",
              "      <td>-0.028915779</td>\n",
              "      <td>-0.9961941</td>\n",
              "      <td>-0.988568594</td>\n",
              "      <td>-0.993255602</td>\n",
              "      <td>-0.996994335</td>\n",
              "      <td>-0.988526428</td>\n",
              "      <td>-0.993135403</td>\n",
              "      <td>-0.798477173</td>\n",
              "      <td>...</td>\n",
              "      <td>0.43089077</td>\n",
              "      <td>-0.13837282</td>\n",
              "      <td>-0.491604347</td>\n",
              "      <td>-0.036787973</td>\n",
              "      <td>-0.012892494</td>\n",
              "      <td>0.640011043</td>\n",
              "      <td>-0.485366445</td>\n",
              "      <td>-0.848946592</td>\n",
              "      <td>0.181907092</td>\n",
              "      <td>-0.040826223</td>\n",
              "    </tr>\n",
              "    <tr>\n",
              "      <th>5</th>\n",
              "      <td>0.038758138</td>\n",
              "      <td>-0.002288533</td>\n",
              "      <td>-0.023862885</td>\n",
              "      <td>-0.998241335</td>\n",
              "      <td>-0.986774135</td>\n",
              "      <td>-0.993115488</td>\n",
              "      <td>-0.998215924</td>\n",
              "      <td>-0.98647918</td>\n",
              "      <td>-0.993824553</td>\n",
              "      <td>-0.801981534</td>\n",
              "      <td>...</td>\n",
              "      <td>0.137734624</td>\n",
              "      <td>-0.366213617</td>\n",
              "      <td>-0.702489762</td>\n",
              "      <td>0.123320048</td>\n",
              "      <td>0.122541962</td>\n",
              "      <td>0.693578288</td>\n",
              "      <td>-0.615970609</td>\n",
              "      <td>-0.848164</td>\n",
              "      <td>0.185123692</td>\n",
              "      <td>-0.037079903</td>\n",
              "    </tr>\n",
              "    <tr>\n",
              "      <th>...</th>\n",
              "      <td>...</td>\n",
              "      <td>...</td>\n",
              "      <td>...</td>\n",
              "      <td>...</td>\n",
              "      <td>...</td>\n",
              "      <td>...</td>\n",
              "      <td>...</td>\n",
              "      <td>...</td>\n",
              "      <td>...</td>\n",
              "      <td>...</td>\n",
              "      <td>...</td>\n",
              "      <td>...</td>\n",
              "      <td>...</td>\n",
              "      <td>...</td>\n",
              "      <td>...</td>\n",
              "      <td>...</td>\n",
              "      <td>...</td>\n",
              "      <td>...</td>\n",
              "      <td>...</td>\n",
              "      <td>...</td>\n",
              "      <td>...</td>\n",
              "    </tr>\n",
              "    <tr>\n",
              "      <th>7763</th>\n",
              "      <td>0.048048374</td>\n",
              "      <td>-0.042445161</td>\n",
              "      <td>-0.065884336</td>\n",
              "      <td>-0.195447967</td>\n",
              "      <td>-0.278326363</td>\n",
              "      <td>-0.219953526</td>\n",
              "      <td>-0.282233132</td>\n",
              "      <td>-0.305861471</td>\n",
              "      <td>-0.357803275</td>\n",
              "      <td>0.267874057</td>\n",
              "      <td>...</td>\n",
              "      <td>-0.008380747</td>\n",
              "      <td>-0.596760198</td>\n",
              "      <td>-0.879025634</td>\n",
              "      <td>-0.190436861</td>\n",
              "      <td>0.829718416</td>\n",
              "      <td>0.206972154</td>\n",
              "      <td>-0.425618579</td>\n",
              "      <td>-0.792291739</td>\n",
              "      <td>0.238580336</td>\n",
              "      <td>0.056019937</td>\n",
              "    </tr>\n",
              "    <tr>\n",
              "      <th>7764</th>\n",
              "      <td>0.037638604</td>\n",
              "      <td>0.006430371</td>\n",
              "      <td>-0.044344723</td>\n",
              "      <td>-0.235372031</td>\n",
              "      <td>-0.30268012</td>\n",
              "      <td>-0.232843488</td>\n",
              "      <td>-0.322482719</td>\n",
              "      <td>-0.354463664</td>\n",
              "      <td>-0.345592459</td>\n",
              "      <td>0.181270735</td>\n",
              "      <td>...</td>\n",
              "      <td>0.209451833</td>\n",
              "      <td>-0.404417928</td>\n",
              "      <td>-0.684496226</td>\n",
              "      <td>0.064906712</td>\n",
              "      <td>0.875679049</td>\n",
              "      <td>-0.879032789</td>\n",
              "      <td>0.40021936</td>\n",
              "      <td>-0.772287652</td>\n",
              "      <td>0.252652789</td>\n",
              "      <td>0.056251833</td>\n",
              "    </tr>\n",
              "    <tr>\n",
              "      <th>7765</th>\n",
              "      <td>0.037450938</td>\n",
              "      <td>-0.002724424</td>\n",
              "      <td>0.021009408</td>\n",
              "      <td>-0.2182808</td>\n",
              "      <td>-0.37808216</td>\n",
              "      <td>-0.076950379</td>\n",
              "      <td>-0.304446475</td>\n",
              "      <td>-0.400661352</td>\n",
              "      <td>-0.19307138</td>\n",
              "      <td>0.113140826</td>\n",
              "      <td>...</td>\n",
              "      <td>0.237002763</td>\n",
              "      <td>0.000206574</td>\n",
              "      <td>-0.317314291</td>\n",
              "      <td>0.052805928</td>\n",
              "      <td>-0.266724365</td>\n",
              "      <td>0.864404011</td>\n",
              "      <td>0.701168816</td>\n",
              "      <td>-0.779566335</td>\n",
              "      <td>0.249121453</td>\n",
              "      <td>0.047070771</td>\n",
              "    </tr>\n",
              "    <tr>\n",
              "      <th>7766</th>\n",
              "      <td>0.044011045</td>\n",
              "      <td>-0.004535781</td>\n",
              "      <td>-0.051242204</td>\n",
              "      <td>-0.219202106</td>\n",
              "      <td>-0.38334992</td>\n",
              "      <td>-0.08103469</td>\n",
              "      <td>-0.310418503</td>\n",
              "      <td>-0.380233454</td>\n",
              "      <td>-0.201006871</td>\n",
              "      <td>0.166670564</td>\n",
              "      <td>...</td>\n",
              "      <td>0.069365726</td>\n",
              "      <td>0.037918739</td>\n",
              "      <td>-0.356579108</td>\n",
              "      <td>-0.101360118</td>\n",
              "      <td>0.700739689</td>\n",
              "      <td>0.936673944</td>\n",
              "      <td>-0.58947895</td>\n",
              "      <td>-0.78560327</td>\n",
              "      <td>0.246408672</td>\n",
              "      <td>0.031700029</td>\n",
              "    </tr>\n",
              "    <tr>\n",
              "      <th>7767</th>\n",
              "      <td>0.068953765</td>\n",
              "      <td>0.001810322</td>\n",
              "      <td>-0.080323431</td>\n",
              "      <td>-0.269335686</td>\n",
              "      <td>-0.366553435</td>\n",
              "      <td>-0.147294234</td>\n",
              "      <td>-0.377331537</td>\n",
              "      <td>-0.360597355</td>\n",
              "      <td>-0.255505293</td>\n",
              "      <td>0.321880782</td>\n",
              "      <td>...</td>\n",
              "      <td>0.002496349</td>\n",
              "      <td>-0.40083141</td>\n",
              "      <td>-0.742971769</td>\n",
              "      <td>-0.280088053</td>\n",
              "      <td>-0.007739278</td>\n",
              "      <td>-0.056087594</td>\n",
              "      <td>-0.61695645</td>\n",
              "      <td>-0.783692535</td>\n",
              "      <td>0.246784989</td>\n",
              "      <td>0.042981289</td>\n",
              "    </tr>\n",
              "  </tbody>\n",
              "</table>\n",
              "<p>7767 rows × 561 columns</p>\n",
              "</div>\n",
              "      <button class=\"colab-df-convert\" onclick=\"convertToInteractive('df-fdbe1230-78d3-4e8d-a2e8-c8b1223a01a5')\"\n",
              "              title=\"Convert this dataframe to an interactive table.\"\n",
              "              style=\"display:none;\">\n",
              "        \n",
              "  <svg xmlns=\"http://www.w3.org/2000/svg\" height=\"24px\"viewBox=\"0 0 24 24\"\n",
              "       width=\"24px\">\n",
              "    <path d=\"M0 0h24v24H0V0z\" fill=\"none\"/>\n",
              "    <path d=\"M18.56 5.44l.94 2.06.94-2.06 2.06-.94-2.06-.94-.94-2.06-.94 2.06-2.06.94zm-11 1L8.5 8.5l.94-2.06 2.06-.94-2.06-.94L8.5 2.5l-.94 2.06-2.06.94zm10 10l.94 2.06.94-2.06 2.06-.94-2.06-.94-.94-2.06-.94 2.06-2.06.94z\"/><path d=\"M17.41 7.96l-1.37-1.37c-.4-.4-.92-.59-1.43-.59-.52 0-1.04.2-1.43.59L10.3 9.45l-7.72 7.72c-.78.78-.78 2.05 0 2.83L4 21.41c.39.39.9.59 1.41.59.51 0 1.02-.2 1.41-.59l7.78-7.78 2.81-2.81c.8-.78.8-2.07 0-2.86zM5.41 20L4 18.59l7.72-7.72 1.47 1.35L5.41 20z\"/>\n",
              "  </svg>\n",
              "      </button>\n",
              "      \n",
              "  <style>\n",
              "    .colab-df-container {\n",
              "      display:flex;\n",
              "      flex-wrap:wrap;\n",
              "      gap: 12px;\n",
              "    }\n",
              "\n",
              "    .colab-df-convert {\n",
              "      background-color: #E8F0FE;\n",
              "      border: none;\n",
              "      border-radius: 50%;\n",
              "      cursor: pointer;\n",
              "      display: none;\n",
              "      fill: #1967D2;\n",
              "      height: 32px;\n",
              "      padding: 0 0 0 0;\n",
              "      width: 32px;\n",
              "    }\n",
              "\n",
              "    .colab-df-convert:hover {\n",
              "      background-color: #E2EBFA;\n",
              "      box-shadow: 0px 1px 2px rgba(60, 64, 67, 0.3), 0px 1px 3px 1px rgba(60, 64, 67, 0.15);\n",
              "      fill: #174EA6;\n",
              "    }\n",
              "\n",
              "    [theme=dark] .colab-df-convert {\n",
              "      background-color: #3B4455;\n",
              "      fill: #D2E3FC;\n",
              "    }\n",
              "\n",
              "    [theme=dark] .colab-df-convert:hover {\n",
              "      background-color: #434B5C;\n",
              "      box-shadow: 0px 1px 3px 1px rgba(0, 0, 0, 0.15);\n",
              "      filter: drop-shadow(0px 1px 2px rgba(0, 0, 0, 0.3));\n",
              "      fill: #FFFFFF;\n",
              "    }\n",
              "  </style>\n",
              "\n",
              "      <script>\n",
              "        const buttonEl =\n",
              "          document.querySelector('#df-fdbe1230-78d3-4e8d-a2e8-c8b1223a01a5 button.colab-df-convert');\n",
              "        buttonEl.style.display =\n",
              "          google.colab.kernel.accessAllowed ? 'block' : 'none';\n",
              "\n",
              "        async function convertToInteractive(key) {\n",
              "          const element = document.querySelector('#df-fdbe1230-78d3-4e8d-a2e8-c8b1223a01a5');\n",
              "          const dataTable =\n",
              "            await google.colab.kernel.invokeFunction('convertToInteractive',\n",
              "                                                     [key], {});\n",
              "          if (!dataTable) return;\n",
              "\n",
              "          const docLinkHtml = 'Like what you see? Visit the ' +\n",
              "            '<a target=\"_blank\" href=https://colab.research.google.com/notebooks/data_table.ipynb>data table notebook</a>'\n",
              "            + ' to learn more about interactive tables.';\n",
              "          element.innerHTML = '';\n",
              "          dataTable['output_type'] = 'display_data';\n",
              "          await google.colab.output.renderOutput(dataTable, element);\n",
              "          const docLink = document.createElement('div');\n",
              "          docLink.innerHTML = docLinkHtml;\n",
              "          element.appendChild(docLink);\n",
              "        }\n",
              "      </script>\n",
              "    </div>\n",
              "  </div>\n",
              "  "
            ]
          },
          "metadata": {},
          "execution_count": 8
        }
      ],
      "source": [
        "dataset2=dataset\n",
        "List3=['7','8','9','10','11','12']\n",
        "dataset2[\"V0\"] = np.where(dataset2['V2'].isin(List3),'7',dataset2['V2'])\n",
        "\n",
        "ytrain2=dataset2[\"V0\"]\n",
        "ytrain2=ytrain2[1:]\n",
        "xtrain2=dataset2.iloc[1:,3:564]\n",
        "xtrain2"
      ]
    },
    {
      "cell_type": "markdown",
      "metadata": {
        "id": "hN6_6tCTRddk"
      },
      "source": [
        "**Step 2: Split data**"
      ]
    },
    {
      "cell_type": "code",
      "execution_count": 9,
      "metadata": {
        "id": "0AaGTeyv1qjv"
      },
      "outputs": [],
      "source": [
        "#I tried several ways to split the data, including 0.1, 0.15, 0.2, 0.25, 0.3, 0.35, 0.4. \n",
        "#Considering the limited space here, this version of code only including the 0.4, \n",
        "#which meeans divide the data into train(60%) and test(40%) data. \n",
        "#You can easily change the fraction as you want.\n",
        "X_train32, X_test32, y_train32, y_test32 = train_test_split(xtrain2, ytrain2 , test_size=0.4, random_state=0)"
      ]
    },
    {
      "cell_type": "markdown",
      "metadata": {
        "id": "oVo929_jRvln"
      },
      "source": [
        "**Step 3: Build base model**"
      ]
    },
    {
      "cell_type": "code",
      "execution_count": 7,
      "metadata": {
        "colab": {
          "base_uri": "https://localhost:8080/",
          "height": 449
        },
        "id": "sbJMBNHYoSxB",
        "outputId": "dd06aa1b-6ef6-4423-860a-a03a5eddee3d"
      },
      "outputs": [
        {
          "output_type": "display_data",
          "data": {
            "text/plain": [
              "<Figure size 640x480 with 2 Axes>"
            ],
            "image/png": "[encoded data removed]"
          },
          "metadata": {}
        }
      ],
      "source": [
        "# Initialize Estimator\n",
        "dummy_clf2 = DummyClassifier(strategy='stratified')\n",
        "dummy_clf2.fit(X_train32,y_train32)\n",
        "\n",
        "# Check for Model Accuracy\n",
        "\n",
        "cm2 = confusion_matrix(y_test32,dummy_clf2.predict(X_test32), labels=dummy_clf2.classes_)\n",
        "disp = ConfusionMatrixDisplay(confusion_matrix=cm2, display_labels=dummy_clf2.classes_)\n",
        "disp.plot()\n",
        "plt.show()"
      ]
    },
    {
      "cell_type": "markdown",
      "metadata": {
        "id": "umLtjM3mR1SX"
      },
      "source": [
        "**Step 4: Obtain optimal parameters**"
      ]
    },
    {
      "cell_type": "code",
      "execution_count": 10,
      "metadata": {
        "id": "C_E0jR5GpPog",
        "colab": {
          "base_uri": "https://localhost:8080/"
        },
        "outputId": "38cbd963-8f95-4dfc-ecb9-cb7dfe598a78"
      },
      "outputs": [
        {
          "output_type": "stream",
          "name": "stdout",
          "text": [
            "{'max_depth': 10, 'min_samples_leaf': 1, 'min_samples_split': 2}\n"
          ]
        }
      ],
      "source": [
        "# create decision tree classifier\n",
        "dtc = DecisionTreeClassifier()\n",
        "\n",
        "# define parameter grid\n",
        "param_grid = {\n",
        "    'max_depth': [2, 4, 6, 8, 10],\n",
        "    'min_samples_split': [2, 4, 6, 8],\n",
        "    'min_samples_leaf': [1, 2, 3, 4]\n",
        "}\n",
        "\n",
        "# perform grid search\n",
        "grid_search = GridSearchCV(dtc, param_grid, cv=5)\n",
        "grid_search.fit(X_train32, y_train32)\n",
        "\n",
        "# print optimal parameters\n",
        "print(grid_search.best_params_)"
      ]
    },
    {
      "cell_type": "code",
      "execution_count": null,
      "metadata": {
        "id": "DLFqnW5opXS6"
      },
      "outputs": [],
      "source": [
        "# Define the parameter grid for random_state\n",
        "param_grid = {'random_state': range(0, 101)}\n",
        "\n",
        "# Define the SVM classifier\n",
        "svc = SVC()\n",
        "\n",
        "# Define the grid search object\n",
        "grid_search = GridSearchCV(svc, param_grid=param_grid, cv=5)\n",
        "\n",
        "# Fit the grid search object to the data\n",
        "grid_search.fit(X_train32, y_train32)\n",
        "\n",
        "# Print the best random_state parameter value and the corresponding mean test score\n",
        "print('Best random_state:', grid_search.best_params_['random_state'])\n",
        "print('Mean test score:', grid_search.best_score_)"
      ]
    },
    {
      "cell_type": "code",
      "execution_count": null,
      "metadata": {
        "id": "01qg62hCqBRp"
      },
      "outputs": [],
      "source": [
        "# create KNN classifier\n",
        "knn = KNeighborsClassifier()\n",
        "\n",
        "# define parameter grid\n",
        "param_grid = {\n",
        "    'n_neighbors': [1, 3, 5, 7, 9],\n",
        "    'weights': ['uniform', 'distance'],\n",
        "    'metric': ['euclidean', 'manhattan']\n",
        "}\n",
        "\n",
        "# perform grid search\n",
        "grid_search = GridSearchCV(knn, param_grid, cv=5)\n",
        "grid_search.fit(X_train32, y_train32)\n",
        "\n",
        "# print optimal parameters\n",
        "print(grid_search.best_params_)"
      ]
    },
    {
      "cell_type": "code",
      "execution_count": null,
      "metadata": {
        "id": "yrX_rkwkppE3"
      },
      "outputs": [],
      "source": [
        "# create LDA classifier\n",
        "lda = LinearDiscriminantAnalysis()\n",
        "\n",
        "# define parameter grid\n",
        "param_grid = {\n",
        "    'solver': ['svd', 'lsqr'],\n",
        "    'shrinkage': [None, 'auto', 0.1, 0.5, 0.9],\n",
        "    'n_components': [1, 2, 3]\n",
        "}\n",
        "\n",
        "# perform grid search\n",
        "grid_search = GridSearchCV(lda, param_grid, cv=5)\n",
        "grid_search.fit(X_train32, y_train32)\n",
        "\n",
        "# print optimal parameters\n",
        "print(grid_search.best_params_)"
      ]
    },
    {
      "cell_type": "code",
      "execution_count": null,
      "metadata": {
        "id": "qQ-px60lpvhM"
      },
      "outputs": [],
      "source": [
        "# create QDA classifier\n",
        "qda = QuadraticDiscriminantAnalysis()\n",
        "\n",
        "# define parameter grid\n",
        "param_grid = {\n",
        "    'reg_param': [0.0, 0.1, 0.5, 0.9]\n",
        "}\n",
        "\n",
        "# perform grid search\n",
        "grid_search = GridSearchCV(qda, param_grid, cv=5)\n",
        "grid_search.fit(X_train32, y_train32)\n",
        "\n",
        "# print optimal parameters\n",
        "print(grid_search.best_params_)"
      ]
    },
    {
      "cell_type": "code",
      "execution_count": null,
      "metadata": {
        "id": "-CmEP07ypbGr"
      },
      "outputs": [],
      "source": [
        "# create logistic regression classifier\n",
        "lr = LogisticRegression()\n",
        "\n",
        "# define parameter grid\n",
        "param_grid = {\n",
        "    'C': [0.001, 0.01, 0.1, 1, 10, 100],\n",
        "    'penalty': ['l1', 'l2'],\n",
        "    'solver': ['liblinear', 'saga']\n",
        "}\n",
        "\n",
        "# perform grid search\n",
        "grid_search = GridSearchCV(lr, param_grid, cv=5)\n",
        "grid_search.fit(X_train32, y_train32)\n",
        "\n",
        "# print optimal parameters\n",
        "print(grid_search.best_params_)"
      ]
    },
    {
      "cell_type": "code",
      "execution_count": null,
      "metadata": {
        "id": "PDpz5GHXqzam"
      },
      "outputs": [],
      "source": [
        "# Define the parameter grid to search over\n",
        "param_grid = {\n",
        "    'max_depth': [5, 10, 20],\n",
        "    'class_weight': [None, 'balanced'],\n",
        "    'n_jobs': [-1, 1, 2],\n",
        "    'random_state': [0,42, 123, 456]\n",
        "}\n",
        "\n",
        "# Create the random forest classifier\n",
        "clf = RandomForestClassifier()\n",
        "\n",
        "# Perform the grid search using cross-validation\n",
        "grid_search = GridSearchCV(clf, param_grid, cv=5)\n",
        "grid_search.fit(X_train32, y_train32)\n",
        "\n",
        "# Print the best hyperparameters and the corresponding validation score\n",
        "print(f\"Best hyperparameters: {grid_search.best_params_}\")\n",
        "print(f\"Validation score: {grid_search.best_score_:.2f}\")"
      ]
    },
    {
      "cell_type": "code",
      "execution_count": null,
      "metadata": {
        "id": "3oYtvZwhq_pS"
      },
      "outputs": [],
      "source": [
        "# define parameter grid\n",
        "param_grid = {'C': [0.1, 1, 10, 100], 'gamma': [0.1, 1, 10, 100], 'kernel':['linear', 'poly', 'rbf', 'sigmoid']}\n",
        "\n",
        "# create SVM classifier\n",
        "svc = SVC()\n",
        "\n",
        "# perform grid search\n",
        "grid_search = GridSearchCV(svc, param_grid, cv=5)\n",
        "grid_search.fit(X_train32, y_train32)\n",
        "\n",
        "# print optimal parameters\n",
        "print(grid_search.best_params_)"
      ]
    },
    {
      "cell_type": "markdown",
      "metadata": {
        "id": "T1RNM85dSDQt"
      },
      "source": [
        "**Step 5: Training data evaluation**"
      ]
    },
    {
      "cell_type": "code",
      "execution_count": 9,
      "metadata": {
        "id": "0VbSeRpfoeTt",
        "colab": {
          "base_uri": "https://localhost:8080/"
        },
        "outputId": "e4823e1b-02ad-48bb-9050-7f3bdb001c12"
      },
      "outputs": [
        {
          "output_type": "stream",
          "name": "stderr",
          "text": [
            "/usr/local/lib/python3.9/dist-packages/sklearn/svm/_base.py:1244: ConvergenceWarning: Liblinear failed to converge, increase the number of iterations.\n",
            "  warnings.warn(\n",
            "/usr/local/lib/python3.9/dist-packages/sklearn/linear_model/_logistic.py:458: ConvergenceWarning: lbfgs failed to converge (status=1):\n",
            "STOP: TOTAL NO. of ITERATIONS REACHED LIMIT.\n",
            "\n",
            "Increase the number of iterations (max_iter) or scale the data as shown in:\n",
            "    https://scikit-learn.org/stable/modules/preprocessing.html\n",
            "Please also refer to the documentation for alternative solver options:\n",
            "    https://scikit-learn.org/stable/modules/linear_model.html#logistic-regression\n",
            "  n_iter_i = _check_optimize_result(\n",
            "/usr/local/lib/python3.9/dist-packages/sklearn/discriminant_analysis.py:926: UserWarning: Variables are collinear\n",
            "  warnings.warn(\"Variables are collinear\")\n",
            "/usr/local/lib/python3.9/dist-packages/sklearn/svm/_base.py:1244: ConvergenceWarning: Liblinear failed to converge, increase the number of iterations.\n",
            "  warnings.warn(\n"
          ]
        },
        {
          "output_type": "stream",
          "name": "stdout",
          "text": [
            "svm0 Classifier accuracy: 0.9851947215963952\n",
            "svm3 Classifier accuracy: 0.9868039909880915\n",
            "svm4 Classifier accuracy: 0.9880914065014483\n",
            "svm5 Classifier accuracy: 0.9703894431927905\n",
            "svm6 Classifier accuracy: 0.7985194721596395\n",
            "dt Classifier accuracy: 0.8361763759253299\n",
            "nb Classifier accuracy: 0.6369488252333441\n",
            "K-Nearest Neighbors Classifier accuracy: 0.9510782104924365\n",
            "Logistic Regression Classifier accuracy: 0.9839073060830383\n",
            "lda Classifier accuracy: 0.9803669134213068\n",
            "qda Classifier accuracy: 0.9114901834567106\n",
            "clf Classifier accuracy: 0.9732861280978435\n",
            "ensemble Classifier accuracy: 0.989056968136466\n"
          ]
        }
      ],
      "source": [
        "# Build multiple classifiers\n",
        "svm0 = LinearSVC()\n",
        "dt = DecisionTreeClassifier( max_depth=4, min_samples_leaf= 2,min_samples_split= 4)\n",
        "nb = GaussianNB()\n",
        "knn = KNeighborsClassifier(algorithm = 'brute', n_jobs=-1)\n",
        "lr = LogisticRegression(random_state=22)\n",
        "# adab = AdaBoostClassifier(base_estimator=DecisionTreeClassifier(max_depth=1), n_estimators=100)\n",
        "lda = LinearDiscriminantAnalysis(n_components=1, shrinkage=None, solver='svd')\n",
        "qda = QuadraticDiscriminantAnalysis(reg_param= 0.1)\n",
        "#xgb = xgb.XGBClassifier()\n",
        "svm2 = SVC(random_state=0)\n",
        "clf = RandomForestClassifier(max_depth=10, n_jobs=-1, random_state=0)\n",
        "svm3 = SVC(C=0.1,gamma=0.1,kernel='linear')\n",
        "svm4 = SVC(kernel='poly')\n",
        "svm5 = SVC(kernel='rbf')\n",
        "svm6 = SVC(kernel='sigmoid')\n",
        "# Define the ensemble classifier\n",
        "ensemble = VotingClassifier(estimators=[('dt', svm0), ('lr', svm3), ('svm', svm4)], voting='hard')\n",
        "\n",
        "\n",
        "# Train the classifiers on the training set\n",
        "svm0.fit(X_train32, y_train32)\n",
        "svm3.fit(X_train32, y_train32)\n",
        "svm4.fit(X_train32, y_train32)\n",
        "svm5.fit(X_train32, y_train32)\n",
        "svm6.fit(X_train32, y_train32)\n",
        "dt.fit(X_train32, y_train32)\n",
        "nb.fit(X_train32, y_train32)\n",
        "knn.fit(X_train32, y_train32)\n",
        "lr.fit(X_train32, y_train32)\n",
        "#adab.fit(X_train32, y_train32)\n",
        "lda.fit(X_train32, y_train32)\n",
        "qda.fit(X_train32, y_train32)\n",
        "#xgb.fit(X_train31, y_train31)\n",
        "clf.fit(X_train32, y_train32)\n",
        "ensemble.fit(X_train32, y_train32)\n",
        "\n",
        "# Predict the test set using the trained classifiers\n",
        "svm0_pred = svm0.predict(X_test32)\n",
        "svm3_pred = svm3.predict(X_test32)\n",
        "svm4_pred = svm4.predict(X_test32)\n",
        "svm5_pred = svm5.predict(X_test32)\n",
        "svm6_pred = svm6.predict(X_test32)\n",
        "\n",
        "dt_pred = dt.predict(X_test32)\n",
        "nb_pred = nb.predict(X_test32)\n",
        "knn_pred = knn.predict(X_test32)\n",
        "lr_pred = lr.predict(X_test32)\n",
        "#adab_pred = adab.predict(X_test32)\n",
        "lda_pred = lda.predict(X_test32)\n",
        "qda_pred = qda.predict(X_test32)\n",
        "#xgb_pred = xgb.predict(X_test31)\n",
        "clf_pred = clf.predict(X_test32)\n",
        "ensemble_pred = ensemble.predict(X_test32)\n",
        "\n",
        "# Evaluate the accuracy of each classifier on the test set\n",
        "svm0_acc = accuracy_score(y_test32, svm0_pred)\n",
        "svm3_acc = accuracy_score(y_test32, svm3_pred)\n",
        "svm4_acc = accuracy_score(y_test32, svm4_pred)\n",
        "svm5_acc = accuracy_score(y_test32, svm5_pred)\n",
        "svm6_acc = accuracy_score(y_test32, svm6_pred)\n",
        "\n",
        "dt_acc = accuracy_score(y_test32, dt_pred)\n",
        "nb_acc = accuracy_score(y_test32, nb_pred)\n",
        "knn_acc = accuracy_score(y_test32, knn_pred)\n",
        "lr_acc = accuracy_score(y_test32, lr_pred)\n",
        "#adab_acc = accuracy_score(y_test32, adab_pred)\n",
        "lda_acc = accuracy_score(y_test32, lda_pred)\n",
        "qda_acc = accuracy_score(y_test32, qda_pred)\n",
        "#xgb_acc = accuracy_score(y_test31, xgb_pred)\n",
        "clf_acc = accuracy_score(y_test32, clf_pred)\n",
        "ensemble_acc = accuracy_score(y_test32, ensemble_pred)\n",
        "\n",
        "print('svm0 Classifier accuracy:', svm0_acc)\n",
        "print('svm3 Classifier accuracy:', svm3_acc)\n",
        "print('svm4 Classifier accuracy:', svm4_acc)\n",
        "print('svm5 Classifier accuracy:', svm5_acc)\n",
        "print('svm6 Classifier accuracy:', svm6_acc)\n",
        "\n",
        "print('dt Classifier accuracy:', dt_acc)\n",
        "print('nb Classifier accuracy:', nb_acc)\n",
        "print('K-Nearest Neighbors Classifier accuracy:', knn_acc)\n",
        "print('Logistic Regression Classifier accuracy:', lr_acc)\n",
        "#print('adab Classifier accuracy:', adab_acc)\n",
        "print('lda Classifier accuracy:', lda_acc)\n",
        "print('qda Classifier accuracy:', qda_acc)\n",
        "#print('xgb Classifier accuracy:', xgb_acc)\n",
        "print('clf Classifier accuracy:', clf_acc)\n",
        "print('ensemble Classifier accuracy:', ensemble_acc)"
      ]
    },
    {
      "cell_type": "code",
      "execution_count": 10,
      "metadata": {
        "id": "jCzvz7e4ovli",
        "colab": {
          "base_uri": "https://localhost:8080/"
        },
        "outputId": "3dfbdd56-40d2-40bc-a797-8453b7159750"
      },
      "outputs": [
        {
          "output_type": "stream",
          "name": "stdout",
          "text": [
            "bg Classifier accuracy: 0.9559060186675249\n"
          ]
        }
      ],
      "source": [
        "# max_samples: maximum size 0.5=50% of each sample taken from the full dataset\n",
        "# max_features: maximum of features 1=100% taken here all 10K \n",
        "# n_estimators: number of decision trees \n",
        "bg=BaggingClassifier(DecisionTreeClassifier(),max_samples=0.5,max_features=1.0,n_estimators=10)\n",
        "bg.fit(X_train32, y_train32)\n",
        "bg_pred = bg.predict(X_test32)\n",
        "bg_acc = accuracy_score(y_test32, bg_pred)\n",
        "print('bg Classifier accuracy:', bg_acc)"
      ]
    },
    {
      "cell_type": "code",
      "execution_count": 11,
      "metadata": {
        "id": "UN2Oj18GqWCS",
        "colab": {
          "base_uri": "https://localhost:8080/"
        },
        "outputId": "ed74233c-9a97-45ad-ff26-2e13149240f1"
      },
      "outputs": [
        {
          "output_type": "stream",
          "name": "stdout",
          "text": [
            "adb Classifier accuracy: 0.918892822658513\n"
          ]
        }
      ],
      "source": [
        "adb = AdaBoostClassifier(DecisionTreeClassifier(min_samples_split=10,max_depth=4),n_estimators=10,learning_rate=0.6)\n",
        "adb.fit(X_train32, y_train32)\n",
        "adb_pred = adb.predict(X_test32)\n",
        "adb_acc = accuracy_score(y_test32, adb_pred)\n",
        "print('adb Classifier accuracy:', adb_acc)"
      ]
    },
    {
      "cell_type": "code",
      "execution_count": 12,
      "metadata": {
        "id": "kf3oIaegqfel",
        "colab": {
          "base_uri": "https://localhost:8080/"
        },
        "outputId": "9a1d4970-5ad6-4217-c15d-df7d236d69e8"
      },
      "outputs": [
        {
          "output_type": "stream",
          "name": "stdout",
          "text": [
            "rf Classifier accuracy: 0.9732861280978435\n"
          ]
        }
      ],
      "source": [
        "rf = RandomForestClassifier(max_depth=10, n_jobs=-1, random_state=0)\n",
        "rf.fit(X_train32, y_train32)\n",
        "rf_pred = rf.predict(X_test32)\n",
        "rf_acc = accuracy_score(y_test32, rf_pred)\n",
        "print('rf Classifier accuracy:', rf_acc)"
      ]
    },
    {
      "cell_type": "code",
      "execution_count": null,
      "metadata": {
        "id": "oXrNWohuyCXN"
      },
      "outputs": [],
      "source": [
        "# Create a Gaussian Process Classifier with RBF kernel\n",
        "kernel = 1.0 * RBF(length_scale=1.0)\n",
        "clf = GaussianProcessClassifier(kernel=kernel, random_state=42)\n",
        "\n",
        "# Train the classifier on the training data\n",
        "clf.fit(X_train32, y_train32)\n",
        "\n",
        "# Predict the class labels for the test data\n",
        "y_pred = clf.predict(X_test32)\n",
        "\n",
        "# Evaluate the performance of the classifier\n",
        "accuracy = accuracy_score(y_test32, y_pred)\n",
        "print(f\"Accuracy: {accuracy}\")"
      ]
    },
    {
      "cell_type": "code",
      "execution_count": null,
      "metadata": {
        "id": "ghMP8DCGyTMJ"
      },
      "outputs": [],
      "source": [
        "# Create an SGD Classifier with logistic loss function\n",
        "clf = SGDClassifier(loss='log', penalty='l2', max_iter=1000, random_state=42)\n",
        "\n",
        "# Train the classifier on the training data\n",
        "clf.fit(X_train32, y_train32)\n",
        "\n",
        "# Predict the class labels for the test data\n",
        "y_pred = clf.predict(X_test32)\n",
        "\n",
        "# Evaluate the performance of the classifier\n",
        "accuracy = accuracy_score(y_test32, y_pred)\n",
        "print(f\"Accuracy: {accuracy}\")"
      ]
    },
    {
      "cell_type": "code",
      "execution_count": null,
      "metadata": {
        "id": "wqLNDepFzViL"
      },
      "outputs": [],
      "source": [
        "# Create an SGD Classifier\n",
        "clf = SGDClassifier(random_state=42)\n",
        "\n",
        "# Define a grid of hyperparameters to search over\n",
        "param_grid = {'loss': ['log', 'hinge'], \n",
        "              'penalty': ['l1', 'l2', 'elasticnet'], \n",
        "              'alpha': [0.0001, 0.001, 0.01], \n",
        "              'max_iter': [1000, 2000, 3000], \n",
        "              'learning_rate': ['constant', 'optimal', 'invscaling']}\n",
        "\n",
        "# Use grid search to find the best set of hyperparameters\n",
        "grid_search = GridSearchCV(clf, param_grid=param_grid, cv=5, verbose=2)\n",
        "grid_search.fit(X_train32, y_train32)\n",
        "\n",
        "# Print the best set of hyperparameters and the corresponding accuracy score\n",
        "print(f\"Best Parameters: {grid_search.best_params_}\")\n",
        "y_pred = grid_search.predict(X_test32)\n",
        "accuracy = accuracy_score(y_test32, y_pred)\n",
        "print(f\"Accuracy: {accuracy}\")"
      ]
    },
    {
      "cell_type": "code",
      "execution_count": null,
      "metadata": {
        "id": "vX_IwTde0sZz"
      },
      "outputs": [],
      "source": [
        "# Create a Multinomial Logistic Regression classifier\n",
        "lr = LogisticRegression(multi_class='multinomial', solver='lbfgs', max_iter=1000)\n",
        "\n",
        "# Train the classifier on the training set\n",
        "lr.fit(X_train32, y_train32)\n",
        "\n",
        "# Make predictions on the testing set\n",
        "y_pred = lr.predict(X_test32)\n",
        "\n",
        "# Evaluate the accuracy of the classifier\n",
        "accuracy = accuracy_score(y_test32, y_pred)\n",
        "print(f\"Accuracy: {accuracy}\")"
      ]
    },
    {
      "cell_type": "markdown",
      "metadata": {
        "id": "1yKFP498W-dX"
      },
      "source": [
        "Prepare data for network model"
      ]
    },
    {
      "cell_type": "code",
      "execution_count": null,
      "metadata": {
        "id": "hGsNb-9OwVqd"
      },
      "outputs": [],
      "source": [
        "xtrain = xtrain.apply(pd.to_numeric, errors='coerce')\n",
        "\n",
        "# print the converted DataFrame\n",
        "print(xtrain)\n",
        "xtrain.dtypes"
      ]
    },
    {
      "cell_type": "code",
      "execution_count": null,
      "metadata": {
        "id": "WKKUHw90wV0Q"
      },
      "outputs": [],
      "source": [
        "xtest2 = xtest2.apply(pd.to_numeric, errors='coerce')\n",
        "print(xtest2)\n",
        "xtest2.dtypes"
      ]
    },
    {
      "cell_type": "code",
      "execution_count": null,
      "metadata": {
        "id": "kAQ4s7MNwc-J"
      },
      "outputs": [],
      "source": [
        "ytrain = ytrain.apply(pd.to_numeric, errors='coerce')\n",
        "print(ytrain)\n",
        "ytrain.dtypes"
      ]
    },
    {
      "cell_type": "code",
      "execution_count": null,
      "metadata": {
        "id": "wOf19_2u1hH8"
      },
      "outputs": [],
      "source": [
        "import matplotlib.pyplot as plt\n",
        "\n",
        "\n",
        "from sklearn.model_selection import train_test_split\n",
        "\n",
        "X_train32, X_test32, y_train32, y_test32 = train_test_split(xtrain, ytrain , test_size=0.4, random_state=0)"
      ]
    },
    {
      "cell_type": "code",
      "execution_count": null,
      "metadata": {
        "id": "34u3w9XXwdvP"
      },
      "outputs": [],
      "source": [
        "X_train32 = X_train32.apply(pd.to_numeric)\n",
        "\n",
        "# convert dataframe to numpy array\n",
        "my_array = np.array(X_train32)\n",
        "\n",
        "print(my_array)"
      ]
    },
    {
      "cell_type": "code",
      "execution_count": null,
      "metadata": {
        "id": "e3r6hj-Wwe4u"
      },
      "outputs": [],
      "source": [
        "X_test32 = X_test32.apply(pd.to_numeric)\n",
        "\n",
        "# convert dataframe to numpy array\n",
        "my_arrayyt = np.array(X_test32)\n",
        "\n",
        "print(my_arrayyt)"
      ]
    },
    {
      "cell_type": "code",
      "execution_count": null,
      "metadata": {
        "id": "aDOVFpwXwe75"
      },
      "outputs": [],
      "source": [
        "import numpy as np\n",
        "# convert object dtype columns to numeric\n",
        "y_train32 = y_train32.apply(pd.to_numeric)\n",
        "\n",
        "# convert dataframe to numpy array\n",
        "my_arrayy = np.array(y_train32)\n",
        "\n",
        "print(my_arrayy)"
      ]
    },
    {
      "cell_type": "code",
      "execution_count": null,
      "metadata": {
        "id": "E02ggDZvwjGK"
      },
      "outputs": [],
      "source": [
        "y_test32 = y_test32.apply(pd.to_numeric)\n",
        "\n",
        "# convert dataframe to numpy array\n",
        "my_arrayytt = np.array(y_test32)\n",
        "\n",
        "print(my_arrayytt)"
      ]
    },
    {
      "cell_type": "code",
      "execution_count": null,
      "metadata": {
        "id": "mFrHiEAmwWOo"
      },
      "outputs": [],
      "source": [
        "# create a sample dataset\n",
        "X = my_array\n",
        "y = my_arrayy\n",
        "Xt = my_arrayyt\n",
        "yt = my_arrayytt\n",
        "# define the model architecture\n",
        "model = Sequential()\n",
        "model.add(Dense(16, input_dim=561, activation='relu'))\n",
        "model.add(Dense(1, activation='sigmoid'))\n",
        "\n",
        "# compile the model\n",
        "model.compile(loss='binary_crossentropy', optimizer='adam', metrics=['accuracy'])\n",
        "\n",
        "# train the model\n",
        "model.fit(X, y, epochs=100, batch_size=10)\n",
        "\n",
        "# evaluate the model\n",
        "loss, accuracy = model.evaluate(Xt, yt)\n",
        "print(\"Loss: \", loss)\n",
        "print(\"Accuracy: \", accuracy)\n",
        "\n",
        "# make predictions\n",
        "predictions = model.predict(Xt)\n",
        "print(\"Predictions: \", predictions)"
      ]
    },
    {
      "cell_type": "markdown",
      "metadata": {
        "id": "Q50vuv-5XIjo"
      },
      "source": [
        "**Step 6: Obtain result on test data**"
      ]
    },
    {
      "cell_type": "code",
      "execution_count": null,
      "metadata": {
        "id": "AVddmE7A1LOC"
      },
      "outputs": [],
      "source": [
        "#Only show the final chosen model here\n",
        "ensemble = SVC(C=1,kernel='linear')\n",
        "ensemble.fit(xtrain2, ytrain2)\n",
        "# make a single prediction\n",
        "ensemble.score(xtrain2,ytrain2)\n",
        "yhat2 = ensemble.predict(xtest2)\n",
        "yhat2\n",
        "savetxt('linearsvmc1.csv', yhat2, delimiter=',',fmt='%s')"
      ]
    },
    {
      "cell_type": "code",
      "execution_count": null,
      "metadata": {
        "colab": {
          "base_uri": "https://localhost:8080/",
          "height": 449
        },
        "id": "TnFoH6TEFIQk",
        "outputId": "92b4a917-4b1b-4692-fe90-76ef4c6c980d"
      },
      "outputs": [
        {
          "data": {
            "image/png": "[encoded data removed]",
            "text/plain": [
              "<Figure size 640x480 with 2 Axes>"
            ]
          },
          "metadata": {},
          "output_type": "display_data"
        }
      ],
      "source": [
        "cm4 = confusion_matrix(y_test32,ensemble.predict(X_test32), labels=ensemble.classes_)\n",
        "disp = ConfusionMatrixDisplay(confusion_matrix=cm4, display_labels=ensemble.classes_)\n",
        "disp.plot()\n",
        "plt.show()"
      ]
    }
  ],
  "metadata": {
    "colab": {
      "provenance": []
    },
    "kernelspec": {
      "display_name": "Python 3",
      "name": "python3"
    },
    "language_info": {
      "name": "python"
    }
  },
  "nbformat": 4,
  "nbformat_minor": 0
}